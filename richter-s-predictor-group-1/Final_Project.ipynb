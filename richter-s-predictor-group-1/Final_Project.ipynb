{
 "cells": [
  {
   "attachments": {},
   "cell_type": "markdown",
   "metadata": {},
   "source": [
    "# Richter's Predictor: Modeling Earthquake Damage\n",
    "Modeling how different variables affect the odds of different damage outcomes to buildings after the 2015 Gorkha earthquake in Nepal\n",
    "\n",
    "by: <u>Jean-Christophe Gaudreau</u> and <u>Yuri Antonelli</u>"
   ]
  },
  {
   "attachments": {},
   "cell_type": "markdown",
   "metadata": {},
   "source": [
    "## Necessary Imports and data\n",
    "\n",
    "Here are the necessary **packages** used in the notebook and the two **files** used to build the models\n",
    "                        \n",
    "                       \n"
   ]
  },
  {
   "cell_type": "code",
   "execution_count": 88,
   "metadata": {
    "vscode": {
     "languageId": "r"
    }
   },
   "outputs": [
    {
     "name": "stderr",
     "output_type": "stream",
     "text": [
      "Warning message:\n",
      "\"package 'infotheo' is in use and will not be installed\"\n",
      "Warning message:\n",
      "\"package 'keras' is in use and will not be installed\"\n",
      "Warning message:\n",
      "\"package 'randomForest' is in use and will not be installed\"\n",
      "Warning message:\n",
      "\"package 'gbm' is in use and will not be installed\"\n"
     ]
    },
    {
     "name": "stdout",
     "output_type": "stream",
     "text": [
      "[1] \"All libraries are loaded\"\n"
     ]
    }
   ],
   "source": [
    "# Import libraries\n",
    "install.packages('infotheo')  # Package for information theory calculations\n",
    "install.packages('keras')  # Package for deep learning models\n",
    "install.packages(\"randomForest\")  # Package for random forest models\n",
    "install.packages(\"gbm\")\n",
    "\n",
    "library(dplyr)  # Data manipulation and transformation\n",
    "library(ggplot2)  # Data visualization\n",
    "library(data.table)  # Fast data manipulation\n",
    "library(infotheo)  # Information theory \n",
    "library(rpart)  # Decision tree models\n",
    "library(gbm) # Gradient Boosting models\n",
    "library(randomForest)  # Random forest models\n",
    "library(keras)  # Deep learning models\n",
    "\n",
    "\n",
    "print('All libraries are loaded')"
   ]
  },
  {
   "cell_type": "code",
   "execution_count": 89,
   "metadata": {
    "vscode": {
     "languageId": "r"
    }
   },
   "outputs": [],
   "source": [
    "trainset=read.csv(\"train_labels.csv\")\n",
    "trainvalues=read.csv(\"train_values.csv\")"
   ]
  },
  {
   "attachments": {},
   "cell_type": "markdown",
   "metadata": {},
   "source": [
    "Here the files for the final submission, namely the test set and the submission format."
   ]
  },
  {
   "cell_type": "code",
   "execution_count": 90,
   "metadata": {
    "vscode": {
     "languageId": "r"
    }
   },
   "outputs": [],
   "source": [
    "testset=read.csv(\"test_values.csv\")\n",
    "subset=read.csv(\"submission_format.csv\")"
   ]
  },
  {
   "attachments": {},
   "cell_type": "markdown",
   "metadata": {},
   "source": [
    "## Defining functions for \"Micro Averaged F1 Score\"\n",
    "Here are the different functions that will be utilized for testing the our predictions (source: MLmetrics library)"
   ]
  },
  {
   "cell_type": "code",
   "execution_count": 91,
   "metadata": {
    "vscode": {
     "languageId": "r"
    }
   },
   "outputs": [],
   "source": [
    "ConfusionMatrix <- function(y_pred, y_true) {\n",
    "  Confusion_Mat <- table(y_true, y_pred)\n",
    "  return(Confusion_Mat)\n",
    "}\n",
    " \n",
    "ConfusionDF <- function(y_pred, y_true) {\n",
    "  Confusion_DF <- transform(as.data.frame(ConfusionMatrix(y_pred, y_true)),\n",
    "                            y_true = as.character(y_true),\n",
    "                            y_pred = as.character(y_pred),\n",
    "                            Freq = as.integer(Freq))\n",
    "  return(Confusion_DF)\n",
    "}\n",
    " \n",
    "Precision_micro <- function(y_true, y_pred, labels = NULL) {\n",
    "  Confusion_DF <- ConfusionDF(y_pred, y_true)\n",
    " \n",
    "  if (is.null(labels) == TRUE) labels <- unique(c(y_true, y_pred))\n",
    "  # this is not bulletproof since there might be labels missing (in strange cases)\n",
    "  # in strange cases where they existed in training set but are missing from test ground truth and predictions.\n",
    " \n",
    "  TP <- c()\n",
    "  FP <- c()\n",
    "  for (i in c(1:length(labels))) {\n",
    "    positive <- labels[i]\n",
    "   \n",
    "    # it may happen that a label is never predicted (missing from y_pred) but exists in y_true\n",
    "    # in this case ConfusionDF will not have these lines and thus the simplified code crashes\n",
    "    # TP[i] <- as.integer(Confusion_DF[which(Confusion_DF$y_true==positive & Confusion_DF$y_pred==positive), \"Freq\"])\n",
    "    # FP[i] <- as.integer(sum(Confusion_DF[which(Confusion_DF$y_true!=positive & Confusion_DF$y_pred==positive), \"Freq\"]))\n",
    "   \n",
    "    # workaround:\n",
    "    # i don't want to change ConfusionDF since i don't know if the current behaviour is a feature or a bug.\n",
    "    tmp <- Confusion_DF[which(Confusion_DF$y_true==positive & Confusion_DF$y_pred==positive), \"Freq\"]\n",
    "    TP[i] <- if (length(tmp)==0) 0 else as.integer(tmp)\n",
    "   \n",
    "    tmp <- Confusion_DF[which(Confusion_DF$y_true!=positive & Confusion_DF$y_pred==positive), \"Freq\"]\n",
    "    FP[i] <- if (length(tmp)==0) 0 else as.integer(sum(tmp))\n",
    "  }\n",
    "  Precision_micro <- sum(TP) / (sum(TP) + sum(FP))\n",
    "  return(Precision_micro)\n",
    "}\n",
    " \n",
    "Recall_micro <- function(y_true, y_pred, labels = NULL) {\n",
    "  Confusion_DF <- ConfusionDF(y_pred, y_true)\n",
    " \n",
    "  if (is.null(labels) == TRUE) labels <- unique(c(y_true, y_pred))\n",
    "  # this is not bulletproof since there might be labels missing (in strange cases)\n",
    "  # in strange cases where they existed in training set but are missing from test ground truth and predictions.\n",
    " \n",
    "  TP <- c()\n",
    "  FN <- c()\n",
    "  for (i in c(1:length(labels))) {\n",
    "    positive <- labels[i]\n",
    "   \n",
    "    # short version, comment out due to bug or feature of Confusion_DF\n",
    "    # TP[i] <- as.integer(Confusion_DF[which(Confusion_DF$y_true==positive & Confusion_DF$y_pred==positive), \"Freq\"])\n",
    "    # FP[i] <- as.integer(sum(Confusion_DF[which(Confusion_DF$y_true==positive & Confusion_DF$y_pred!=positive), \"Freq\"]))\n",
    "   \n",
    "    # workaround:\n",
    "    tmp <- Confusion_DF[which(Confusion_DF$y_true==positive & Confusion_DF$y_pred==positive), \"Freq\"]\n",
    "    TP[i] <- if (length(tmp)==0) 0 else as.integer(tmp)\n",
    " \n",
    "    tmp <- Confusion_DF[which(Confusion_DF$y_true==positive & Confusion_DF$y_pred!=positive), \"Freq\"]\n",
    "    FN[i] <- if (length(tmp)==0) 0 else as.integer(sum(tmp))\n",
    "  }\n",
    "  Recall_micro <- sum(TP) / (sum(TP) + sum(FN))\n",
    "  return(Recall_micro)\n",
    "}\n",
    " \n",
    "F1_Score_micro <- function(y_true, y_pred, labels = NULL) {\n",
    "  if (is.null(labels) == TRUE) labels <- unique(c(y_true, y_pred)) # possible problems if labels are missing from y_*\n",
    "  Precision <- Precision_micro(y_true, y_pred, labels)\n",
    "  Recall <- Recall_micro(y_true, y_pred, labels)\n",
    "  F1_Score_micro <- 2 * (Precision * Recall) / (Precision + Recall)\n",
    "  return(F1_Score_micro)\n",
    "}"
   ]
  },
  {
   "attachments": {},
   "cell_type": "markdown",
   "metadata": {},
   "source": [
    "## 1. Data preprocessing pipeline\n",
    "\n",
    "Let's first implement a preprocessing pipeline to remove unecessary data and filter categorical data.\n",
    "\n",
    "First of all let's take a look to our data."
   ]
  },
  {
   "cell_type": "code",
   "execution_count": 92,
   "metadata": {
    "vscode": {
     "languageId": "r"
    }
   },
   "outputs": [
    {
     "data": {
      "text/html": [
       "<table class=\"dataframe\">\n",
       "<caption>A data.frame: 6 × 2</caption>\n",
       "<thead>\n",
       "\t<tr><th></th><th scope=col>building_id</th><th scope=col>damage_grade</th></tr>\n",
       "\t<tr><th></th><th scope=col>&lt;int&gt;</th><th scope=col>&lt;int&gt;</th></tr>\n",
       "</thead>\n",
       "<tbody>\n",
       "\t<tr><th scope=row>1</th><td>802906</td><td>3</td></tr>\n",
       "\t<tr><th scope=row>2</th><td> 28830</td><td>2</td></tr>\n",
       "\t<tr><th scope=row>3</th><td> 94947</td><td>3</td></tr>\n",
       "\t<tr><th scope=row>4</th><td>590882</td><td>2</td></tr>\n",
       "\t<tr><th scope=row>5</th><td>201944</td><td>3</td></tr>\n",
       "\t<tr><th scope=row>6</th><td>333020</td><td>2</td></tr>\n",
       "</tbody>\n",
       "</table>\n"
      ],
      "text/latex": [
       "A data.frame: 6 × 2\n",
       "\\begin{tabular}{r|ll}\n",
       "  & building\\_id & damage\\_grade\\\\\n",
       "  & <int> & <int>\\\\\n",
       "\\hline\n",
       "\t1 & 802906 & 3\\\\\n",
       "\t2 &  28830 & 2\\\\\n",
       "\t3 &  94947 & 3\\\\\n",
       "\t4 & 590882 & 2\\\\\n",
       "\t5 & 201944 & 3\\\\\n",
       "\t6 & 333020 & 2\\\\\n",
       "\\end{tabular}\n"
      ],
      "text/markdown": [
       "\n",
       "A data.frame: 6 × 2\n",
       "\n",
       "| <!--/--> | building_id &lt;int&gt; | damage_grade &lt;int&gt; |\n",
       "|---|---|---|\n",
       "| 1 | 802906 | 3 |\n",
       "| 2 |  28830 | 2 |\n",
       "| 3 |  94947 | 3 |\n",
       "| 4 | 590882 | 2 |\n",
       "| 5 | 201944 | 3 |\n",
       "| 6 | 333020 | 2 |\n",
       "\n"
      ],
      "text/plain": [
       "  building_id damage_grade\n",
       "1 802906      3           \n",
       "2  28830      2           \n",
       "3  94947      3           \n",
       "4 590882      2           \n",
       "5 201944      3           \n",
       "6 333020      2           "
      ]
     },
     "metadata": {},
     "output_type": "display_data"
    },
    {
     "data": {
      "text/html": [
       "<table class=\"dataframe\">\n",
       "<caption>A data.frame: 6 × 39</caption>\n",
       "<thead>\n",
       "\t<tr><th></th><th scope=col>building_id</th><th scope=col>geo_level_1_id</th><th scope=col>geo_level_2_id</th><th scope=col>geo_level_3_id</th><th scope=col>count_floors_pre_eq</th><th scope=col>age</th><th scope=col>area_percentage</th><th scope=col>height_percentage</th><th scope=col>land_surface_condition</th><th scope=col>foundation_type</th><th scope=col>⋯</th><th scope=col>has_secondary_use_agriculture</th><th scope=col>has_secondary_use_hotel</th><th scope=col>has_secondary_use_rental</th><th scope=col>has_secondary_use_institution</th><th scope=col>has_secondary_use_school</th><th scope=col>has_secondary_use_industry</th><th scope=col>has_secondary_use_health_post</th><th scope=col>has_secondary_use_gov_office</th><th scope=col>has_secondary_use_use_police</th><th scope=col>has_secondary_use_other</th></tr>\n",
       "\t<tr><th></th><th scope=col>&lt;int&gt;</th><th scope=col>&lt;int&gt;</th><th scope=col>&lt;int&gt;</th><th scope=col>&lt;int&gt;</th><th scope=col>&lt;int&gt;</th><th scope=col>&lt;int&gt;</th><th scope=col>&lt;int&gt;</th><th scope=col>&lt;int&gt;</th><th scope=col>&lt;chr&gt;</th><th scope=col>&lt;chr&gt;</th><th scope=col>⋯</th><th scope=col>&lt;int&gt;</th><th scope=col>&lt;int&gt;</th><th scope=col>&lt;int&gt;</th><th scope=col>&lt;int&gt;</th><th scope=col>&lt;int&gt;</th><th scope=col>&lt;int&gt;</th><th scope=col>&lt;int&gt;</th><th scope=col>&lt;int&gt;</th><th scope=col>&lt;int&gt;</th><th scope=col>&lt;int&gt;</th></tr>\n",
       "</thead>\n",
       "<tbody>\n",
       "\t<tr><th scope=row>1</th><td>802906</td><td> 6</td><td>487</td><td>12198</td><td>2</td><td>30</td><td>6</td><td>5</td><td>t</td><td>r</td><td>⋯</td><td>0</td><td>0</td><td>0</td><td>0</td><td>0</td><td>0</td><td>0</td><td>0</td><td>0</td><td>0</td></tr>\n",
       "\t<tr><th scope=row>2</th><td> 28830</td><td> 8</td><td>900</td><td> 2812</td><td>2</td><td>10</td><td>8</td><td>7</td><td>o</td><td>r</td><td>⋯</td><td>0</td><td>0</td><td>0</td><td>0</td><td>0</td><td>0</td><td>0</td><td>0</td><td>0</td><td>0</td></tr>\n",
       "\t<tr><th scope=row>3</th><td> 94947</td><td>21</td><td>363</td><td> 8973</td><td>2</td><td>10</td><td>5</td><td>5</td><td>t</td><td>r</td><td>⋯</td><td>0</td><td>0</td><td>0</td><td>0</td><td>0</td><td>0</td><td>0</td><td>0</td><td>0</td><td>0</td></tr>\n",
       "\t<tr><th scope=row>4</th><td>590882</td><td>22</td><td>418</td><td>10694</td><td>2</td><td>10</td><td>6</td><td>5</td><td>t</td><td>r</td><td>⋯</td><td>0</td><td>0</td><td>0</td><td>0</td><td>0</td><td>0</td><td>0</td><td>0</td><td>0</td><td>0</td></tr>\n",
       "\t<tr><th scope=row>5</th><td>201944</td><td>11</td><td>131</td><td> 1488</td><td>3</td><td>30</td><td>8</td><td>9</td><td>t</td><td>r</td><td>⋯</td><td>0</td><td>0</td><td>0</td><td>0</td><td>0</td><td>0</td><td>0</td><td>0</td><td>0</td><td>0</td></tr>\n",
       "\t<tr><th scope=row>6</th><td>333020</td><td> 8</td><td>558</td><td> 6089</td><td>2</td><td>10</td><td>9</td><td>5</td><td>t</td><td>r</td><td>⋯</td><td>1</td><td>0</td><td>0</td><td>0</td><td>0</td><td>0</td><td>0</td><td>0</td><td>0</td><td>0</td></tr>\n",
       "</tbody>\n",
       "</table>\n"
      ],
      "text/latex": [
       "A data.frame: 6 × 39\n",
       "\\begin{tabular}{r|lllllllllllllllllllll}\n",
       "  & building\\_id & geo\\_level\\_1\\_id & geo\\_level\\_2\\_id & geo\\_level\\_3\\_id & count\\_floors\\_pre\\_eq & age & area\\_percentage & height\\_percentage & land\\_surface\\_condition & foundation\\_type & ⋯ & has\\_secondary\\_use\\_agriculture & has\\_secondary\\_use\\_hotel & has\\_secondary\\_use\\_rental & has\\_secondary\\_use\\_institution & has\\_secondary\\_use\\_school & has\\_secondary\\_use\\_industry & has\\_secondary\\_use\\_health\\_post & has\\_secondary\\_use\\_gov\\_office & has\\_secondary\\_use\\_use\\_police & has\\_secondary\\_use\\_other\\\\\n",
       "  & <int> & <int> & <int> & <int> & <int> & <int> & <int> & <int> & <chr> & <chr> & ⋯ & <int> & <int> & <int> & <int> & <int> & <int> & <int> & <int> & <int> & <int>\\\\\n",
       "\\hline\n",
       "\t1 & 802906 &  6 & 487 & 12198 & 2 & 30 & 6 & 5 & t & r & ⋯ & 0 & 0 & 0 & 0 & 0 & 0 & 0 & 0 & 0 & 0\\\\\n",
       "\t2 &  28830 &  8 & 900 &  2812 & 2 & 10 & 8 & 7 & o & r & ⋯ & 0 & 0 & 0 & 0 & 0 & 0 & 0 & 0 & 0 & 0\\\\\n",
       "\t3 &  94947 & 21 & 363 &  8973 & 2 & 10 & 5 & 5 & t & r & ⋯ & 0 & 0 & 0 & 0 & 0 & 0 & 0 & 0 & 0 & 0\\\\\n",
       "\t4 & 590882 & 22 & 418 & 10694 & 2 & 10 & 6 & 5 & t & r & ⋯ & 0 & 0 & 0 & 0 & 0 & 0 & 0 & 0 & 0 & 0\\\\\n",
       "\t5 & 201944 & 11 & 131 &  1488 & 3 & 30 & 8 & 9 & t & r & ⋯ & 0 & 0 & 0 & 0 & 0 & 0 & 0 & 0 & 0 & 0\\\\\n",
       "\t6 & 333020 &  8 & 558 &  6089 & 2 & 10 & 9 & 5 & t & r & ⋯ & 1 & 0 & 0 & 0 & 0 & 0 & 0 & 0 & 0 & 0\\\\\n",
       "\\end{tabular}\n"
      ],
      "text/markdown": [
       "\n",
       "A data.frame: 6 × 39\n",
       "\n",
       "| <!--/--> | building_id &lt;int&gt; | geo_level_1_id &lt;int&gt; | geo_level_2_id &lt;int&gt; | geo_level_3_id &lt;int&gt; | count_floors_pre_eq &lt;int&gt; | age &lt;int&gt; | area_percentage &lt;int&gt; | height_percentage &lt;int&gt; | land_surface_condition &lt;chr&gt; | foundation_type &lt;chr&gt; | ⋯ ⋯ | has_secondary_use_agriculture &lt;int&gt; | has_secondary_use_hotel &lt;int&gt; | has_secondary_use_rental &lt;int&gt; | has_secondary_use_institution &lt;int&gt; | has_secondary_use_school &lt;int&gt; | has_secondary_use_industry &lt;int&gt; | has_secondary_use_health_post &lt;int&gt; | has_secondary_use_gov_office &lt;int&gt; | has_secondary_use_use_police &lt;int&gt; | has_secondary_use_other &lt;int&gt; |\n",
       "|---|---|---|---|---|---|---|---|---|---|---|---|---|---|---|---|---|---|---|---|---|---|\n",
       "| 1 | 802906 |  6 | 487 | 12198 | 2 | 30 | 6 | 5 | t | r | ⋯ | 0 | 0 | 0 | 0 | 0 | 0 | 0 | 0 | 0 | 0 |\n",
       "| 2 |  28830 |  8 | 900 |  2812 | 2 | 10 | 8 | 7 | o | r | ⋯ | 0 | 0 | 0 | 0 | 0 | 0 | 0 | 0 | 0 | 0 |\n",
       "| 3 |  94947 | 21 | 363 |  8973 | 2 | 10 | 5 | 5 | t | r | ⋯ | 0 | 0 | 0 | 0 | 0 | 0 | 0 | 0 | 0 | 0 |\n",
       "| 4 | 590882 | 22 | 418 | 10694 | 2 | 10 | 6 | 5 | t | r | ⋯ | 0 | 0 | 0 | 0 | 0 | 0 | 0 | 0 | 0 | 0 |\n",
       "| 5 | 201944 | 11 | 131 |  1488 | 3 | 30 | 8 | 9 | t | r | ⋯ | 0 | 0 | 0 | 0 | 0 | 0 | 0 | 0 | 0 | 0 |\n",
       "| 6 | 333020 |  8 | 558 |  6089 | 2 | 10 | 9 | 5 | t | r | ⋯ | 1 | 0 | 0 | 0 | 0 | 0 | 0 | 0 | 0 | 0 |\n",
       "\n"
      ],
      "text/plain": [
       "  building_id geo_level_1_id geo_level_2_id geo_level_3_id count_floors_pre_eq\n",
       "1 802906       6             487            12198          2                  \n",
       "2  28830       8             900             2812          2                  \n",
       "3  94947      21             363             8973          2                  \n",
       "4 590882      22             418            10694          2                  \n",
       "5 201944      11             131             1488          3                  \n",
       "6 333020       8             558             6089          2                  \n",
       "  age area_percentage height_percentage land_surface_condition foundation_type\n",
       "1 30  6               5                 t                      r              \n",
       "2 10  8               7                 o                      r              \n",
       "3 10  5               5                 t                      r              \n",
       "4 10  6               5                 t                      r              \n",
       "5 30  8               9                 t                      r              \n",
       "6 10  9               5                 t                      r              \n",
       "  ⋯ has_secondary_use_agriculture has_secondary_use_hotel\n",
       "1 ⋯ 0                             0                      \n",
       "2 ⋯ 0                             0                      \n",
       "3 ⋯ 0                             0                      \n",
       "4 ⋯ 0                             0                      \n",
       "5 ⋯ 0                             0                      \n",
       "6 ⋯ 1                             0                      \n",
       "  has_secondary_use_rental has_secondary_use_institution\n",
       "1 0                        0                            \n",
       "2 0                        0                            \n",
       "3 0                        0                            \n",
       "4 0                        0                            \n",
       "5 0                        0                            \n",
       "6 0                        0                            \n",
       "  has_secondary_use_school has_secondary_use_industry\n",
       "1 0                        0                         \n",
       "2 0                        0                         \n",
       "3 0                        0                         \n",
       "4 0                        0                         \n",
       "5 0                        0                         \n",
       "6 0                        0                         \n",
       "  has_secondary_use_health_post has_secondary_use_gov_office\n",
       "1 0                             0                           \n",
       "2 0                             0                           \n",
       "3 0                             0                           \n",
       "4 0                             0                           \n",
       "5 0                             0                           \n",
       "6 0                             0                           \n",
       "  has_secondary_use_use_police has_secondary_use_other\n",
       "1 0                            0                      \n",
       "2 0                            0                      \n",
       "3 0                            0                      \n",
       "4 0                            0                      \n",
       "5 0                            0                      \n",
       "6 0                            0                      "
      ]
     },
     "metadata": {},
     "output_type": "display_data"
    }
   ],
   "source": [
    "head(trainset)\n",
    "head(trainvalues)"
   ]
  },
  {
   "attachments": {},
   "cell_type": "markdown",
   "metadata": {},
   "source": [
    "Our target variable, namely **\"damage_grade\"**, matches with the features dataset via **\"building_id\"** column, let's then make a left join to work on a single dataset."
   ]
  },
  {
   "cell_type": "code",
   "execution_count": 93,
   "metadata": {
    "vscode": {
     "languageId": "r"
    }
   },
   "outputs": [
    {
     "data": {
      "text/html": [
       "0"
      ],
      "text/latex": [
       "0"
      ],
      "text/markdown": [
       "0"
      ],
      "text/plain": [
       "[1] 0"
      ]
     },
     "metadata": {},
     "output_type": "display_data"
    }
   ],
   "source": [
    "# Generating a \"master\" dataset to use\n",
    "# Matching Label data to Values data to have as many datapoints for both CSVs\n",
    "master <- left_join(y=trainset,x=trainvalues,by=\"building_id\",all.x=TRUE)\n",
    "# Check if we have any missing data\n",
    "sum(is.na(master))"
   ]
  },
  {
   "attachments": {},
   "cell_type": "markdown",
   "metadata": {},
   "source": [
    "###  1.1 Data Visualization \n",
    "First and foremost, let us examine the distribution of our variable of interest."
   ]
  },
  {
   "cell_type": "code",
   "execution_count": 94,
   "metadata": {
    "vscode": {
     "languageId": "r"
    }
   },
   "outputs": [
    {
     "data": {
      "image/png": "[encoded data removed]",
      "text/plain": [
       "plot without title"
      ]
     },
     "metadata": {
      "image/png": {
       "height": 420,
       "width": 420
      }
     },
     "output_type": "display_data"
    }
   ],
   "source": [
    "ggplot(master, aes(x = damage_grade)) + \n",
    "  geom_histogram(binwidth = 1, fill = \"blue\", color = \"black\") + \n",
    "  ggtitle(\"Histogram of Sample Data\") + \n",
    "  xlab(\"Values\") + \n",
    "  ylab(\"Frequency\")"
   ]
  },
  {
   "attachments": {},
   "cell_type": "markdown",
   "metadata": {},
   "source": [
    "Upon observing the graph, it is evident that the classes exhibit significant imbalance. This class imbalance may result in the machine learning classifier displaying bias towards the majority class, leading to inadequate classification of the minority class.\n",
    "\n",
    "Considering that one of the algorithms we intend to utilize is Random Forest, let us proceed to implement code for generating various weights to be employed in the \"classwt\" hyperparameter of the model. \n",
    "\n",
    "This code snippet calculates weights for each class by taking the inverse of the absolute frequency and subsequently normalizing them to ensure their summation equals 1."
   ]
  },
  {
   "cell_type": "code",
   "execution_count": 95,
   "metadata": {
    "vscode": {
     "languageId": "r"
    }
   },
   "outputs": [
    {
     "data": {
      "text/plain": [
       "\n",
       "        1         2         3 \n",
       "0.6860969 0.1162661 0.1976369 "
      ]
     },
     "metadata": {},
     "output_type": "display_data"
    }
   ],
   "source": [
    "# weigths to deal with unbalancedness in the random forest algorithm\n",
    "class_frequencies <- table(trainset$damage_grade)\n",
    "class_weights <- 1 / class_frequencies\n",
    "classwt <- class_weights / sum(class_weights)\n",
    "classwt"
   ]
  },
  {
   "attachments": {},
   "cell_type": "markdown",
   "metadata": {},
   "source": [
    "The next issue that requires attention pertains to the geo_level_variables. These variables exhibit an extensive range of values, and encoding them all using one-hot encoding would significantly inflate the size of the feature space.\n",
    "\n",
    "Let us examine if any discernible patterns exist among these variables that can be leveraged for feature engeenering."
   ]
  },
  {
   "cell_type": "code",
   "execution_count": 96,
   "metadata": {
    "vscode": {
     "languageId": "r"
    }
   },
   "outputs": [
    {
     "data": {
      "image/png": "[encoded data removed]",
      "text/plain": [
       "plot without title"
      ]
     },
     "metadata": {
      "image/png": {
       "height": 420,
       "width": 420
      }
     },
     "output_type": "display_data"
    }
   ],
   "source": [
    "# geo_level_id_1 & geo_level_2_id using damage_grade (our target) as 3rd dimension\n",
    "ggplot(data = master, aes(x = geo_level_1_id, y = geo_level_2_id, color = damage_grade)) +\n",
    "  geom_point(size = 3) +\n",
    "  labs(x = \"geo_level_id_1\", y = \"geo_level_id_2\", color = \"damage_grade\")"
   ]
  },
  {
   "cell_type": "code",
   "execution_count": 97,
   "metadata": {
    "vscode": {
     "languageId": "r"
    }
   },
   "outputs": [
    {
     "data": {
      "image/png": "[encoded data removed]",
      "text/plain": [
       "plot without title"
      ]
     },
     "metadata": {
      "image/png": {
       "height": 420,
       "width": 420
      }
     },
     "output_type": "display_data"
    }
   ],
   "source": [
    "ggplot(data = master, aes(x = geo_level_1_id, y = geo_level_3_id, color = damage_grade)) +\n",
    "  geom_point(size = 3) +\n",
    "  labs(x = \"geo_level_id_1\", y = \"geo_level_id_3\", color = \"damage_grade\")"
   ]
  },
  {
   "attachments": {},
   "cell_type": "markdown",
   "metadata": {},
   "source": [
    "Based on our observation, it appears that no distinct pattern can be identified for the purpose of feature engineering. Consequently, we shall proceed with the one-hot encoding of the variable \"geo_level_id_1,\" as it possesses a reasonable number of unique values.\n",
    "\n",
    "Lastly, let us analyze the distribution of all the numerical variables in our dataset to ascertain the presence of any outliers."
   ]
  },
  {
   "cell_type": "code",
   "execution_count": 98,
   "metadata": {
    "vscode": {
     "languageId": "r"
    }
   },
   "outputs": [
    {
     "name": "stdout",
     "output_type": "stream",
     "text": [
      "'data.frame':\t260601 obs. of  40 variables:\n",
      " $ building_id                           : int  802906 28830 94947 590882 201944 333020 728451 475515 441126 989500 ...\n",
      " $ geo_level_1_id                        : int  6 8 21 22 11 8 9 20 0 26 ...\n",
      " $ geo_level_2_id                        : int  487 900 363 418 131 558 475 323 757 886 ...\n",
      " $ geo_level_3_id                        : int  12198 2812 8973 10694 1488 6089 12066 12236 7219 994 ...\n",
      " $ count_floors_pre_eq                   : int  2 2 2 2 3 2 2 2 2 1 ...\n",
      " $ age                                   : int  30 10 10 10 30 10 25 0 15 0 ...\n",
      " $ area_percentage                       : int  6 8 5 6 8 9 3 8 8 13 ...\n",
      " $ height_percentage                     : int  5 7 5 5 9 5 4 6 6 4 ...\n",
      " $ land_surface_condition                : chr  \"t\" \"o\" \"t\" \"t\" ...\n",
      " $ foundation_type                       : chr  \"r\" \"r\" \"r\" \"r\" ...\n",
      " $ roof_type                             : chr  \"n\" \"n\" \"n\" \"n\" ...\n",
      " $ ground_floor_type                     : chr  \"f\" \"x\" \"f\" \"f\" ...\n",
      " $ other_floor_type                      : chr  \"q\" \"q\" \"x\" \"x\" ...\n",
      " $ position                              : chr  \"t\" \"s\" \"t\" \"s\" ...\n",
      " $ plan_configuration                    : chr  \"d\" \"d\" \"d\" \"d\" ...\n",
      " $ has_superstructure_adobe_mud          : int  1 0 0 0 1 0 0 0 0 0 ...\n",
      " $ has_superstructure_mud_mortar_stone   : int  1 1 1 1 0 1 1 0 1 0 ...\n",
      " $ has_superstructure_stone_flag         : int  0 0 0 0 0 0 0 0 0 0 ...\n",
      " $ has_superstructure_cement_mortar_stone: int  0 0 0 0 0 0 0 0 0 0 ...\n",
      " $ has_superstructure_mud_mortar_brick   : int  0 0 0 0 0 0 0 0 0 0 ...\n",
      " $ has_superstructure_cement_mortar_brick: int  0 0 0 0 0 0 0 1 0 1 ...\n",
      " $ has_superstructure_timber             : int  0 0 0 1 0 0 0 1 1 0 ...\n",
      " $ has_superstructure_bamboo             : int  0 0 0 1 0 0 0 0 0 0 ...\n",
      " $ has_superstructure_rc_non_engineered  : int  0 0 0 0 0 0 0 0 0 0 ...\n",
      " $ has_superstructure_rc_engineered      : int  0 0 0 0 0 0 0 0 0 0 ...\n",
      " $ has_superstructure_other              : int  0 0 0 0 0 0 0 0 0 0 ...\n",
      " $ legal_ownership_status                : chr  \"v\" \"v\" \"v\" \"v\" ...\n",
      " $ count_families                        : int  1 1 1 1 1 1 1 1 1 1 ...\n",
      " $ has_secondary_use                     : int  0 0 0 0 0 1 0 0 0 0 ...\n",
      " $ has_secondary_use_agriculture         : int  0 0 0 0 0 1 0 0 0 0 ...\n",
      " $ has_secondary_use_hotel               : int  0 0 0 0 0 0 0 0 0 0 ...\n",
      " $ has_secondary_use_rental              : int  0 0 0 0 0 0 0 0 0 0 ...\n",
      " $ has_secondary_use_institution         : int  0 0 0 0 0 0 0 0 0 0 ...\n",
      " $ has_secondary_use_school              : int  0 0 0 0 0 0 0 0 0 0 ...\n",
      " $ has_secondary_use_industry            : int  0 0 0 0 0 0 0 0 0 0 ...\n",
      " $ has_secondary_use_health_post         : int  0 0 0 0 0 0 0 0 0 0 ...\n",
      " $ has_secondary_use_gov_office          : int  0 0 0 0 0 0 0 0 0 0 ...\n",
      " $ has_secondary_use_use_police          : int  0 0 0 0 0 0 0 0 0 0 ...\n",
      " $ has_secondary_use_other               : int  0 0 0 0 0 0 0 0 0 0 ...\n",
      " $ damage_grade                          : int  3 2 3 2 3 2 3 1 2 1 ...\n"
     ]
    }
   ],
   "source": [
    "str(master)"
   ]
  },
  {
   "cell_type": "code",
   "execution_count": 99,
   "metadata": {
    "vscode": {
     "languageId": "r"
    }
   },
   "outputs": [
    {
     "data": {
      "image/png": "[encoded data removed]",
      "text/plain": [
       "plot without title"
      ]
     },
     "metadata": {
      "image/png": {
       "height": 420,
       "width": 420
      }
     },
     "output_type": "display_data"
    }
   ],
   "source": [
    "ggplot(data = master, aes(x = count_floors_pre_eq)) +\n",
    "  geom_histogram(fill = \"orange\", color = \"white\", bins = 30) +\n",
    "  labs(x = \"count_floors_pre_eq\", y = \"Frequency\", title = \"Histogram\")"
   ]
  },
  {
   "cell_type": "code",
   "execution_count": 100,
   "metadata": {
    "vscode": {
     "languageId": "r"
    }
   },
   "outputs": [
    {
     "data": {
      "image/png": "[encoded data removed]",
      "text/plain": [
       "plot without title"
      ]
     },
     "metadata": {
      "image/png": {
       "height": 420,
       "width": 420
      }
     },
     "output_type": "display_data"
    }
   ],
   "source": [
    "ggplot(data = master, aes(x = age)) +\n",
    "  geom_histogram(fill = \"steelblue\", color = \"white\", bins = 30) +\n",
    "  labs(x = \"age\", y = \"Frequency\", title = \"Histogram\")"
   ]
  },
  {
   "cell_type": "code",
   "execution_count": 101,
   "metadata": {
    "vscode": {
     "languageId": "r"
    }
   },
   "outputs": [
    {
     "data": {
      "image/png": "[encoded data removed]",
      "text/plain": [
       "plot without title"
      ]
     },
     "metadata": {
      "image/png": {
       "height": 420,
       "width": 420
      }
     },
     "output_type": "display_data"
    }
   ],
   "source": [
    "ggplot(data = master, aes(x = area_percentage)) +\n",
    "  geom_histogram(fill = \"green\", color = \"white\", bins = 30) +\n",
    "  labs(x = \"area_percentage\", y = \"Frequency\", title = \"Histogram\")"
   ]
  },
  {
   "cell_type": "code",
   "execution_count": 102,
   "metadata": {
    "vscode": {
     "languageId": "r"
    }
   },
   "outputs": [
    {
     "data": {
      "image/png": "[encoded data removed]",
      "text/plain": [
       "plot without title"
      ]
     },
     "metadata": {
      "image/png": {
       "height": 420,
       "width": 420
      }
     },
     "output_type": "display_data"
    }
   ],
   "source": [
    "ggplot(data = master, aes(x = height_percentage)) +\n",
    "  geom_histogram(fill = \"red\", color = \"white\", bins = 30) +\n",
    "  labs(x = \"height_percentage\", y = \"Frequency\", title = \"Histogram\")"
   ]
  },
  {
   "attachments": {},
   "cell_type": "markdown",
   "metadata": {},
   "source": [
    "The dataset appears to be clean and reasonable, with no percentages exceeding the limit of 100%. Although there is one extreme value indicating a building approximately 1000 years old, it is plausible and thus we will keep it in the dataset.\n",
    "\n",
    "In order to obtain a better comprehension, let's proceed by creating a summary of the numerical variables within the dataset."
   ]
  },
  {
   "cell_type": "code",
   "execution_count": 103,
   "metadata": {
    "vscode": {
     "languageId": "r"
    }
   },
   "outputs": [
    {
     "data": {
      "text/plain": [
       " count_floors_pre_eq      age         area_percentage   height_percentage\n",
       " Min.   :1.00        Min.   :  0.00   Min.   :  1.000   Min.   : 2.000   \n",
       " 1st Qu.:2.00        1st Qu.: 10.00   1st Qu.:  5.000   1st Qu.: 4.000   \n",
       " Median :2.00        Median : 15.00   Median :  7.000   Median : 5.000   \n",
       " Mean   :2.13        Mean   : 26.54   Mean   :  8.018   Mean   : 5.434   \n",
       " 3rd Qu.:2.00        3rd Qu.: 30.00   3rd Qu.:  9.000   3rd Qu.: 6.000   \n",
       " Max.   :9.00        Max.   :995.00   Max.   :100.000   Max.   :32.000   "
      ]
     },
     "metadata": {},
     "output_type": "display_data"
    }
   ],
   "source": [
    "num_var = c('count_floors_pre_eq', 'age', 'area_percentage', 'height_percentage')\n",
    "\n",
    "summary(master[num_var])"
   ]
  },
  {
   "attachments": {},
   "cell_type": "markdown",
   "metadata": {},
   "source": [
    "### 1.2 Transforming categorical data into binary encoding (One-Hot)"
   ]
  },
  {
   "attachments": {},
   "cell_type": "markdown",
   "metadata": {},
   "source": [
    "List of all the categorical variables to be one-hot encoded."
   ]
  },
  {
   "cell_type": "code",
   "execution_count": 104,
   "metadata": {
    "vscode": {
     "languageId": "r"
    }
   },
   "outputs": [
    {
     "data": {
      "text/html": [
       "<table class=\"dataframe\">\n",
       "<caption>A data.frame: 6 × 11</caption>\n",
       "<thead>\n",
       "\t<tr><th></th><th scope=col>land_surface_condition</th><th scope=col>foundation_type</th><th scope=col>roof_type</th><th scope=col>ground_floor_type</th><th scope=col>other_floor_type</th><th scope=col>position</th><th scope=col>plan_configuration</th><th scope=col>legal_ownership_status</th><th scope=col>geo_level_1_id</th><th scope=col>geo_level_2_id</th><th scope=col>geo_level_3_id</th></tr>\n",
       "\t<tr><th></th><th scope=col>&lt;chr&gt;</th><th scope=col>&lt;chr&gt;</th><th scope=col>&lt;chr&gt;</th><th scope=col>&lt;chr&gt;</th><th scope=col>&lt;chr&gt;</th><th scope=col>&lt;chr&gt;</th><th scope=col>&lt;chr&gt;</th><th scope=col>&lt;chr&gt;</th><th scope=col>&lt;int&gt;</th><th scope=col>&lt;int&gt;</th><th scope=col>&lt;int&gt;</th></tr>\n",
       "</thead>\n",
       "<tbody>\n",
       "\t<tr><th scope=row>1</th><td>t</td><td>r</td><td>n</td><td>f</td><td>q</td><td>t</td><td>d</td><td>v</td><td> 6</td><td>487</td><td>12198</td></tr>\n",
       "\t<tr><th scope=row>2</th><td>o</td><td>r</td><td>n</td><td>x</td><td>q</td><td>s</td><td>d</td><td>v</td><td> 8</td><td>900</td><td> 2812</td></tr>\n",
       "\t<tr><th scope=row>3</th><td>t</td><td>r</td><td>n</td><td>f</td><td>x</td><td>t</td><td>d</td><td>v</td><td>21</td><td>363</td><td> 8973</td></tr>\n",
       "\t<tr><th scope=row>4</th><td>t</td><td>r</td><td>n</td><td>f</td><td>x</td><td>s</td><td>d</td><td>v</td><td>22</td><td>418</td><td>10694</td></tr>\n",
       "\t<tr><th scope=row>5</th><td>t</td><td>r</td><td>n</td><td>f</td><td>x</td><td>s</td><td>d</td><td>v</td><td>11</td><td>131</td><td> 1488</td></tr>\n",
       "\t<tr><th scope=row>6</th><td>t</td><td>r</td><td>n</td><td>f</td><td>q</td><td>s</td><td>d</td><td>v</td><td> 8</td><td>558</td><td> 6089</td></tr>\n",
       "</tbody>\n",
       "</table>\n"
      ],
      "text/latex": [
       "A data.frame: 6 × 11\n",
       "\\begin{tabular}{r|lllllllllll}\n",
       "  & land\\_surface\\_condition & foundation\\_type & roof\\_type & ground\\_floor\\_type & other\\_floor\\_type & position & plan\\_configuration & legal\\_ownership\\_status & geo\\_level\\_1\\_id & geo\\_level\\_2\\_id & geo\\_level\\_3\\_id\\\\\n",
       "  & <chr> & <chr> & <chr> & <chr> & <chr> & <chr> & <chr> & <chr> & <int> & <int> & <int>\\\\\n",
       "\\hline\n",
       "\t1 & t & r & n & f & q & t & d & v &  6 & 487 & 12198\\\\\n",
       "\t2 & o & r & n & x & q & s & d & v &  8 & 900 &  2812\\\\\n",
       "\t3 & t & r & n & f & x & t & d & v & 21 & 363 &  8973\\\\\n",
       "\t4 & t & r & n & f & x & s & d & v & 22 & 418 & 10694\\\\\n",
       "\t5 & t & r & n & f & x & s & d & v & 11 & 131 &  1488\\\\\n",
       "\t6 & t & r & n & f & q & s & d & v &  8 & 558 &  6089\\\\\n",
       "\\end{tabular}\n"
      ],
      "text/markdown": [
       "\n",
       "A data.frame: 6 × 11\n",
       "\n",
       "| <!--/--> | land_surface_condition &lt;chr&gt; | foundation_type &lt;chr&gt; | roof_type &lt;chr&gt; | ground_floor_type &lt;chr&gt; | other_floor_type &lt;chr&gt; | position &lt;chr&gt; | plan_configuration &lt;chr&gt; | legal_ownership_status &lt;chr&gt; | geo_level_1_id &lt;int&gt; | geo_level_2_id &lt;int&gt; | geo_level_3_id &lt;int&gt; |\n",
       "|---|---|---|---|---|---|---|---|---|---|---|---|\n",
       "| 1 | t | r | n | f | q | t | d | v |  6 | 487 | 12198 |\n",
       "| 2 | o | r | n | x | q | s | d | v |  8 | 900 |  2812 |\n",
       "| 3 | t | r | n | f | x | t | d | v | 21 | 363 |  8973 |\n",
       "| 4 | t | r | n | f | x | s | d | v | 22 | 418 | 10694 |\n",
       "| 5 | t | r | n | f | x | s | d | v | 11 | 131 |  1488 |\n",
       "| 6 | t | r | n | f | q | s | d | v |  8 | 558 |  6089 |\n",
       "\n"
      ],
      "text/plain": [
       "  land_surface_condition foundation_type roof_type ground_floor_type\n",
       "1 t                      r               n         f                \n",
       "2 o                      r               n         x                \n",
       "3 t                      r               n         f                \n",
       "4 t                      r               n         f                \n",
       "5 t                      r               n         f                \n",
       "6 t                      r               n         f                \n",
       "  other_floor_type position plan_configuration legal_ownership_status\n",
       "1 q                t        d                  v                     \n",
       "2 q                s        d                  v                     \n",
       "3 x                t        d                  v                     \n",
       "4 x                s        d                  v                     \n",
       "5 x                s        d                  v                     \n",
       "6 q                s        d                  v                     \n",
       "  geo_level_1_id geo_level_2_id geo_level_3_id\n",
       "1  6             487            12198         \n",
       "2  8             900             2812         \n",
       "3 21             363             8973         \n",
       "4 22             418            10694         \n",
       "5 11             131             1488         \n",
       "6  8             558             6089         "
      ]
     },
     "metadata": {},
     "output_type": "display_data"
    }
   ],
   "source": [
    "cat_cols=c('land_surface_condition', 'foundation_type',\"roof_type\",\"ground_floor_type\",\n",
    "\"other_floor_type\",\"position\",\"plan_configuration\",\"legal_ownership_status\",\"geo_level_1_id\",\"geo_level_2_id\",\"geo_level_3_id\")\n",
    "head(master[cat_cols])"
   ]
  },
  {
   "attachments": {},
   "cell_type": "markdown",
   "metadata": {},
   "source": [
    "Here, we have a list of all available categorical data. Although geo_level IDs are integers, they are also considered as categorical since each IDs represents a different house, and there is no visible linear behavior between each ID. Therefore, we can encode <u>**geo_level_1_id**</u> with One-hot without encountering difficulties with the dimensions of our dataset ($\\approx$ 30 columns). We decided to leave out <u>**geo_level_id 2-3**</u> due to this complexity problem."
   ]
  },
  {
   "cell_type": "code",
   "execution_count": 105,
   "metadata": {
    "vscode": {
     "languageId": "r"
    }
   },
   "outputs": [],
   "source": [
    "#One-Hot encoding categorical data without geo_level_2 and 3\n",
    "cat_cols=c('land_surface_condition', 'foundation_type',\"roof_type\",\"ground_floor_type\",\n",
    "\"other_floor_type\",\"position\",\"plan_configuration\",\"legal_ownership_status\",\"geo_level_1_id\")\n",
    "# use dummyVars function to create binary encoding for categorical variables\n",
    "encode_categorical_variables <- function(dataset, cat_cols,remove_columns = NULL) {\n",
    "  # Create a copy of the dataset for encoding\n",
    "  encoded_dataset <- dataset\n",
    "  # Loop through the categorical columns and encode each column\n",
    "  for (col in cat_cols) {\n",
    "    dict <- unique(dataset[[col]])\n",
    "    binary_matrix <- matrix(0L, nrow = nrow(dataset), ncol = length(dict))\n",
    "    for (i in 1:length(dict)) {\n",
    "      binary_matrix[dataset[[col]] == dict[i], i] <- 1L\n",
    "    }\n",
    "    colnames(binary_matrix) <- paste0(col, \"_\", dict)\n",
    "    encoded_dataset <- cbind(encoded_dataset, binary_matrix)\n",
    "  }\n",
    "  \n",
    "  # Remove the original categorical columns from the new dataframe\n",
    "  encoded_dataset <- encoded_dataset[, !colnames(encoded_dataset) %in% cat_cols]\n",
    "  encoded_dataset <- encoded_dataset[, !colnames(encoded_dataset) %in% remove_columns]\n",
    "  return(encoded_dataset)\n",
    "}"
   ]
  },
  {
   "attachments": {},
   "cell_type": "markdown",
   "metadata": {},
   "source": [
    "## Encoding numerical variables\n",
    "A function to normalize some columns could be useful for models that require all variables to oscillate between 0-1 (Neural-networks)"
   ]
  },
  {
   "cell_type": "code",
   "execution_count": 106,
   "metadata": {
    "vscode": {
     "languageId": "r"
    }
   },
   "outputs": [],
   "source": [
    "encode_numerical_variables <- function(data, columns) {\n",
    "  for (col in columns) {\n",
    "    # Retrieve the column values\n",
    "    values <- data[[col]]\n",
    "    \n",
    "    # Apply min-max scaling to normalize the values between 0 and 1\n",
    "    normalized_values <- (values - min(values)) / (max(values) - min(values))\n",
    "    \n",
    "    # Replace the column values with normalized values\n",
    "    data[[col]] <- normalized_values\n",
    "  }\n",
    "  \n",
    "  return(data)\n",
    "}"
   ]
  },
  {
   "cell_type": "code",
   "execution_count": 107,
   "metadata": {
    "vscode": {
     "languageId": "r"
    }
   },
   "outputs": [
    {
     "data": {
      "text/html": [
       "<table class=\"dataframe\">\n",
       "<caption>A data.frame: 6 × 98</caption>\n",
       "<thead>\n",
       "\t<tr><th></th><th scope=col>building_id</th><th scope=col>count_floors_pre_eq</th><th scope=col>age</th><th scope=col>area_percentage</th><th scope=col>height_percentage</th><th scope=col>has_superstructure_adobe_mud</th><th scope=col>has_superstructure_mud_mortar_stone</th><th scope=col>has_superstructure_stone_flag</th><th scope=col>has_superstructure_cement_mortar_stone</th><th scope=col>has_superstructure_mud_mortar_brick</th><th scope=col>⋯</th><th scope=col>geo_level_1_id_5</th><th scope=col>geo_level_1_id_15</th><th scope=col>geo_level_1_id_14</th><th scope=col>geo_level_1_id_19</th><th scope=col>geo_level_1_id_1</th><th scope=col>geo_level_1_id_24</th><th scope=col>geo_level_1_id_28</th><th scope=col>geo_level_1_id_23</th><th scope=col>geo_level_1_id_2</th><th scope=col>geo_level_1_id_29</th></tr>\n",
       "\t<tr><th></th><th scope=col>&lt;int&gt;</th><th scope=col>&lt;int&gt;</th><th scope=col>&lt;int&gt;</th><th scope=col>&lt;int&gt;</th><th scope=col>&lt;int&gt;</th><th scope=col>&lt;int&gt;</th><th scope=col>&lt;int&gt;</th><th scope=col>&lt;int&gt;</th><th scope=col>&lt;int&gt;</th><th scope=col>&lt;int&gt;</th><th scope=col>⋯</th><th scope=col>&lt;int&gt;</th><th scope=col>&lt;int&gt;</th><th scope=col>&lt;int&gt;</th><th scope=col>&lt;int&gt;</th><th scope=col>&lt;int&gt;</th><th scope=col>&lt;int&gt;</th><th scope=col>&lt;int&gt;</th><th scope=col>&lt;int&gt;</th><th scope=col>&lt;int&gt;</th><th scope=col>&lt;int&gt;</th></tr>\n",
       "</thead>\n",
       "<tbody>\n",
       "\t<tr><th scope=row>1</th><td>802906</td><td>2</td><td>30</td><td>6</td><td>5</td><td>1</td><td>1</td><td>0</td><td>0</td><td>0</td><td>⋯</td><td>0</td><td>0</td><td>0</td><td>0</td><td>0</td><td>0</td><td>0</td><td>0</td><td>0</td><td>0</td></tr>\n",
       "\t<tr><th scope=row>2</th><td> 28830</td><td>2</td><td>10</td><td>8</td><td>7</td><td>0</td><td>1</td><td>0</td><td>0</td><td>0</td><td>⋯</td><td>0</td><td>0</td><td>0</td><td>0</td><td>0</td><td>0</td><td>0</td><td>0</td><td>0</td><td>0</td></tr>\n",
       "\t<tr><th scope=row>3</th><td> 94947</td><td>2</td><td>10</td><td>5</td><td>5</td><td>0</td><td>1</td><td>0</td><td>0</td><td>0</td><td>⋯</td><td>0</td><td>0</td><td>0</td><td>0</td><td>0</td><td>0</td><td>0</td><td>0</td><td>0</td><td>0</td></tr>\n",
       "\t<tr><th scope=row>4</th><td>590882</td><td>2</td><td>10</td><td>6</td><td>5</td><td>0</td><td>1</td><td>0</td><td>0</td><td>0</td><td>⋯</td><td>0</td><td>0</td><td>0</td><td>0</td><td>0</td><td>0</td><td>0</td><td>0</td><td>0</td><td>0</td></tr>\n",
       "\t<tr><th scope=row>5</th><td>201944</td><td>3</td><td>30</td><td>8</td><td>9</td><td>1</td><td>0</td><td>0</td><td>0</td><td>0</td><td>⋯</td><td>0</td><td>0</td><td>0</td><td>0</td><td>0</td><td>0</td><td>0</td><td>0</td><td>0</td><td>0</td></tr>\n",
       "\t<tr><th scope=row>6</th><td>333020</td><td>2</td><td>10</td><td>9</td><td>5</td><td>0</td><td>1</td><td>0</td><td>0</td><td>0</td><td>⋯</td><td>0</td><td>0</td><td>0</td><td>0</td><td>0</td><td>0</td><td>0</td><td>0</td><td>0</td><td>0</td></tr>\n",
       "</tbody>\n",
       "</table>\n"
      ],
      "text/latex": [
       "A data.frame: 6 × 98\n",
       "\\begin{tabular}{r|lllllllllllllllllllll}\n",
       "  & building\\_id & count\\_floors\\_pre\\_eq & age & area\\_percentage & height\\_percentage & has\\_superstructure\\_adobe\\_mud & has\\_superstructure\\_mud\\_mortar\\_stone & has\\_superstructure\\_stone\\_flag & has\\_superstructure\\_cement\\_mortar\\_stone & has\\_superstructure\\_mud\\_mortar\\_brick & ⋯ & geo\\_level\\_1\\_id\\_5 & geo\\_level\\_1\\_id\\_15 & geo\\_level\\_1\\_id\\_14 & geo\\_level\\_1\\_id\\_19 & geo\\_level\\_1\\_id\\_1 & geo\\_level\\_1\\_id\\_24 & geo\\_level\\_1\\_id\\_28 & geo\\_level\\_1\\_id\\_23 & geo\\_level\\_1\\_id\\_2 & geo\\_level\\_1\\_id\\_29\\\\\n",
       "  & <int> & <int> & <int> & <int> & <int> & <int> & <int> & <int> & <int> & <int> & ⋯ & <int> & <int> & <int> & <int> & <int> & <int> & <int> & <int> & <int> & <int>\\\\\n",
       "\\hline\n",
       "\t1 & 802906 & 2 & 30 & 6 & 5 & 1 & 1 & 0 & 0 & 0 & ⋯ & 0 & 0 & 0 & 0 & 0 & 0 & 0 & 0 & 0 & 0\\\\\n",
       "\t2 &  28830 & 2 & 10 & 8 & 7 & 0 & 1 & 0 & 0 & 0 & ⋯ & 0 & 0 & 0 & 0 & 0 & 0 & 0 & 0 & 0 & 0\\\\\n",
       "\t3 &  94947 & 2 & 10 & 5 & 5 & 0 & 1 & 0 & 0 & 0 & ⋯ & 0 & 0 & 0 & 0 & 0 & 0 & 0 & 0 & 0 & 0\\\\\n",
       "\t4 & 590882 & 2 & 10 & 6 & 5 & 0 & 1 & 0 & 0 & 0 & ⋯ & 0 & 0 & 0 & 0 & 0 & 0 & 0 & 0 & 0 & 0\\\\\n",
       "\t5 & 201944 & 3 & 30 & 8 & 9 & 1 & 0 & 0 & 0 & 0 & ⋯ & 0 & 0 & 0 & 0 & 0 & 0 & 0 & 0 & 0 & 0\\\\\n",
       "\t6 & 333020 & 2 & 10 & 9 & 5 & 0 & 1 & 0 & 0 & 0 & ⋯ & 0 & 0 & 0 & 0 & 0 & 0 & 0 & 0 & 0 & 0\\\\\n",
       "\\end{tabular}\n"
      ],
      "text/markdown": [
       "\n",
       "A data.frame: 6 × 98\n",
       "\n",
       "| <!--/--> | building_id &lt;int&gt; | count_floors_pre_eq &lt;int&gt; | age &lt;int&gt; | area_percentage &lt;int&gt; | height_percentage &lt;int&gt; | has_superstructure_adobe_mud &lt;int&gt; | has_superstructure_mud_mortar_stone &lt;int&gt; | has_superstructure_stone_flag &lt;int&gt; | has_superstructure_cement_mortar_stone &lt;int&gt; | has_superstructure_mud_mortar_brick &lt;int&gt; | ⋯ ⋯ | geo_level_1_id_5 &lt;int&gt; | geo_level_1_id_15 &lt;int&gt; | geo_level_1_id_14 &lt;int&gt; | geo_level_1_id_19 &lt;int&gt; | geo_level_1_id_1 &lt;int&gt; | geo_level_1_id_24 &lt;int&gt; | geo_level_1_id_28 &lt;int&gt; | geo_level_1_id_23 &lt;int&gt; | geo_level_1_id_2 &lt;int&gt; | geo_level_1_id_29 &lt;int&gt; |\n",
       "|---|---|---|---|---|---|---|---|---|---|---|---|---|---|---|---|---|---|---|---|---|---|\n",
       "| 1 | 802906 | 2 | 30 | 6 | 5 | 1 | 1 | 0 | 0 | 0 | ⋯ | 0 | 0 | 0 | 0 | 0 | 0 | 0 | 0 | 0 | 0 |\n",
       "| 2 |  28830 | 2 | 10 | 8 | 7 | 0 | 1 | 0 | 0 | 0 | ⋯ | 0 | 0 | 0 | 0 | 0 | 0 | 0 | 0 | 0 | 0 |\n",
       "| 3 |  94947 | 2 | 10 | 5 | 5 | 0 | 1 | 0 | 0 | 0 | ⋯ | 0 | 0 | 0 | 0 | 0 | 0 | 0 | 0 | 0 | 0 |\n",
       "| 4 | 590882 | 2 | 10 | 6 | 5 | 0 | 1 | 0 | 0 | 0 | ⋯ | 0 | 0 | 0 | 0 | 0 | 0 | 0 | 0 | 0 | 0 |\n",
       "| 5 | 201944 | 3 | 30 | 8 | 9 | 1 | 0 | 0 | 0 | 0 | ⋯ | 0 | 0 | 0 | 0 | 0 | 0 | 0 | 0 | 0 | 0 |\n",
       "| 6 | 333020 | 2 | 10 | 9 | 5 | 0 | 1 | 0 | 0 | 0 | ⋯ | 0 | 0 | 0 | 0 | 0 | 0 | 0 | 0 | 0 | 0 |\n",
       "\n"
      ],
      "text/plain": [
       "  building_id count_floors_pre_eq age area_percentage height_percentage\n",
       "1 802906      2                   30  6               5                \n",
       "2  28830      2                   10  8               7                \n",
       "3  94947      2                   10  5               5                \n",
       "4 590882      2                   10  6               5                \n",
       "5 201944      3                   30  8               9                \n",
       "6 333020      2                   10  9               5                \n",
       "  has_superstructure_adobe_mud has_superstructure_mud_mortar_stone\n",
       "1 1                            1                                  \n",
       "2 0                            1                                  \n",
       "3 0                            1                                  \n",
       "4 0                            1                                  \n",
       "5 1                            0                                  \n",
       "6 0                            1                                  \n",
       "  has_superstructure_stone_flag has_superstructure_cement_mortar_stone\n",
       "1 0                             0                                     \n",
       "2 0                             0                                     \n",
       "3 0                             0                                     \n",
       "4 0                             0                                     \n",
       "5 0                             0                                     \n",
       "6 0                             0                                     \n",
       "  has_superstructure_mud_mortar_brick ⋯ geo_level_1_id_5 geo_level_1_id_15\n",
       "1 0                                   ⋯ 0                0                \n",
       "2 0                                   ⋯ 0                0                \n",
       "3 0                                   ⋯ 0                0                \n",
       "4 0                                   ⋯ 0                0                \n",
       "5 0                                   ⋯ 0                0                \n",
       "6 0                                   ⋯ 0                0                \n",
       "  geo_level_1_id_14 geo_level_1_id_19 geo_level_1_id_1 geo_level_1_id_24\n",
       "1 0                 0                 0                0                \n",
       "2 0                 0                 0                0                \n",
       "3 0                 0                 0                0                \n",
       "4 0                 0                 0                0                \n",
       "5 0                 0                 0                0                \n",
       "6 0                 0                 0                0                \n",
       "  geo_level_1_id_28 geo_level_1_id_23 geo_level_1_id_2 geo_level_1_id_29\n",
       "1 0                 0                 0                0                \n",
       "2 0                 0                 0                0                \n",
       "3 0                 0                 0                0                \n",
       "4 0                 0                 0                0                \n",
       "5 0                 0                 0                0                \n",
       "6 0                 0                 0                0                "
      ]
     },
     "metadata": {},
     "output_type": "display_data"
    }
   ],
   "source": [
    "#Encoding original dataset\n",
    "encoded_train <- encode_categorical_variables(master,cat_cols,c(\"geo_level_2_id\",\"geo_level_3_id\"))\n",
    "head(encoded_train)"
   ]
  },
  {
   "attachments": {},
   "cell_type": "markdown",
   "metadata": {},
   "source": [
    "### 1.3 Feature Selection\n",
    "Given the dataset's extensive number of variables, it is crucial to select the most relevant ones for our specific problem. To accomplish this, we employ a ranking algorithm based on the mutual information criterion. This criterion allows us to identify the variables that exhibit the highest information gain and are thus most informative for our analysis."
   ]
  },
  {
   "cell_type": "code",
   "execution_count": 108,
   "metadata": {
    "vscode": {
     "languageId": "r"
    }
   },
   "outputs": [
    {
     "data": {
      "text/html": [
       "<table class=\"dataframe\">\n",
       "<caption>A data.frame: 6 × 1</caption>\n",
       "<thead>\n",
       "\t<tr><th></th><th scope=col>Mutual_Information</th></tr>\n",
       "\t<tr><th></th><th scope=col>&lt;dbl&gt;</th></tr>\n",
       "</thead>\n",
       "<tbody>\n",
       "\t<tr><th scope=row>foundation_type_r</th><td>0.06294687</td></tr>\n",
       "\t<tr><th scope=row>ground_floor_type_v</th><td>0.05233678</td></tr>\n",
       "\t<tr><th scope=row>has_superstructure_mud_mortar_stone</th><td>0.04921463</td></tr>\n",
       "\t<tr><th scope=row>geo_level_1_id_17</th><td>0.04396153</td></tr>\n",
       "\t<tr><th scope=row>roof_type_x</th><td>0.03997262</td></tr>\n",
       "\t<tr><th scope=row>foundation_type_i</th><td>0.03549682</td></tr>\n",
       "</tbody>\n",
       "</table>\n"
      ],
      "text/latex": [
       "A data.frame: 6 × 1\n",
       "\\begin{tabular}{r|l}\n",
       "  & Mutual\\_Information\\\\\n",
       "  & <dbl>\\\\\n",
       "\\hline\n",
       "\tfoundation\\_type\\_r & 0.06294687\\\\\n",
       "\tground\\_floor\\_type\\_v & 0.05233678\\\\\n",
       "\thas\\_superstructure\\_mud\\_mortar\\_stone & 0.04921463\\\\\n",
       "\tgeo\\_level\\_1\\_id\\_17 & 0.04396153\\\\\n",
       "\troof\\_type\\_x & 0.03997262\\\\\n",
       "\tfoundation\\_type\\_i & 0.03549682\\\\\n",
       "\\end{tabular}\n"
      ],
      "text/markdown": [
       "\n",
       "A data.frame: 6 × 1\n",
       "\n",
       "| <!--/--> | Mutual_Information &lt;dbl&gt; |\n",
       "|---|---|\n",
       "| foundation_type_r | 0.06294687 |\n",
       "| ground_floor_type_v | 0.05233678 |\n",
       "| has_superstructure_mud_mortar_stone | 0.04921463 |\n",
       "| geo_level_1_id_17 | 0.04396153 |\n",
       "| roof_type_x | 0.03997262 |\n",
       "| foundation_type_i | 0.03549682 |\n",
       "\n"
      ],
      "text/plain": [
       "                                    Mutual_Information\n",
       "foundation_type_r                   0.06294687        \n",
       "ground_floor_type_v                 0.05233678        \n",
       "has_superstructure_mud_mortar_stone 0.04921463        \n",
       "geo_level_1_id_17                   0.04396153        \n",
       "roof_type_x                         0.03997262        \n",
       "foundation_type_i                   0.03549682        "
      ]
     },
     "metadata": {},
     "output_type": "display_data"
    }
   ],
   "source": [
    "# delete useless columns for the ranking\n",
    "df_train2 = copy(encoded_train)\n",
    "df_train2$building_id = NULL\n",
    "df_train2$damage_grade = NULL\n",
    "df_train2$geo_level_2_id = NULL\n",
    "df_train2$geo_level_3_id = NULL\n",
    "\n",
    "# dataframe to store the results\n",
    "mi_df = data.frame(matrix(nrow = length(colnames(df_train2)), ncol = 1))\n",
    "rownames(mi_df) = colnames(df_train2)\n",
    "colnames(mi_df) = 'Mutual_Information'\n",
    "\n",
    "# compute mutual information for each variable and fill the dataframe\n",
    "for (i in 1:length(df_train2)){\n",
    "    a = mutinformation(df_train2[ ,i], encoded_train$damage_grade)\n",
    "    mi_df[i, 1] = a\n",
    "    mi_df <- arrange(mi_df, desc(Mutual_Information))\n",
    "    \n",
    "}\n",
    "\n",
    "# results\n",
    "head(mi_df)"
   ]
  },
  {
   "attachments": {},
   "cell_type": "markdown",
   "metadata": {},
   "source": [
    "## 2. Model Training\n",
    "In this section, our objective is to train various models using different sets of features to determine the optimal approach for addressing our problem. Leveraging the previously created feature ranking, we will gradually incorporate one feature at a time and evaluate the performance of the models.\n",
    "\n",
    "We will utilize three models, progressing from the simplest to the most complex:\n",
    "1. *Decision Tree*\n",
    "2. *Random Forest*\n",
    "3. *Neural Network*\n",
    "\n",
    "Due to the dataset's extensive dimensionality, we will evaluate the models using a classic train-validation split, as performing cross-validation would be computationally expensive. To mitigate the lengthy computational time, we will train the models on approximately **5000 observations** and reserve the remaining data for testing. Based on our findings, this split does not significantly compromise the performance compared to utilizing a larger training dataset.\n",
    "\n",
    "Please note that this procedure requires substantial running time, given the size of the dataset and the complexity of the models involved."
   ]
  },
  {
   "cell_type": "code",
   "execution_count": 109,
   "metadata": {
    "vscode": {
     "languageId": "r"
    }
   },
   "outputs": [
    {
     "data": {
      "text/html": [
       "<table class=\"dataframe\">\n",
       "<caption>A data.frame: 6 × 98</caption>\n",
       "<thead>\n",
       "\t<tr><th></th><th scope=col>building_id</th><th scope=col>count_floors_pre_eq</th><th scope=col>age</th><th scope=col>area_percentage</th><th scope=col>height_percentage</th><th scope=col>has_superstructure_adobe_mud</th><th scope=col>has_superstructure_mud_mortar_stone</th><th scope=col>has_superstructure_stone_flag</th><th scope=col>has_superstructure_cement_mortar_stone</th><th scope=col>has_superstructure_mud_mortar_brick</th><th scope=col>⋯</th><th scope=col>geo_level_1_id_5</th><th scope=col>geo_level_1_id_15</th><th scope=col>geo_level_1_id_14</th><th scope=col>geo_level_1_id_19</th><th scope=col>geo_level_1_id_1</th><th scope=col>geo_level_1_id_24</th><th scope=col>geo_level_1_id_28</th><th scope=col>geo_level_1_id_23</th><th scope=col>geo_level_1_id_2</th><th scope=col>geo_level_1_id_29</th></tr>\n",
       "\t<tr><th></th><th scope=col>&lt;int&gt;</th><th scope=col>&lt;int&gt;</th><th scope=col>&lt;int&gt;</th><th scope=col>&lt;int&gt;</th><th scope=col>&lt;int&gt;</th><th scope=col>&lt;int&gt;</th><th scope=col>&lt;int&gt;</th><th scope=col>&lt;int&gt;</th><th scope=col>&lt;int&gt;</th><th scope=col>&lt;int&gt;</th><th scope=col>⋯</th><th scope=col>&lt;int&gt;</th><th scope=col>&lt;int&gt;</th><th scope=col>&lt;int&gt;</th><th scope=col>&lt;int&gt;</th><th scope=col>&lt;int&gt;</th><th scope=col>&lt;int&gt;</th><th scope=col>&lt;int&gt;</th><th scope=col>&lt;int&gt;</th><th scope=col>&lt;int&gt;</th><th scope=col>&lt;int&gt;</th></tr>\n",
       "</thead>\n",
       "<tbody>\n",
       "\t<tr><th scope=row>182735</th><td> 23555</td><td>2</td><td>10</td><td>12</td><td>5</td><td>0</td><td>1</td><td>0</td><td>0</td><td>0</td><td>⋯</td><td>0</td><td>0</td><td>0</td><td>0</td><td>0</td><td>0</td><td>0</td><td>0</td><td>0</td><td>0</td></tr>\n",
       "\t<tr><th scope=row>188942</th><td>848406</td><td>3</td><td>50</td><td> 7</td><td>6</td><td>0</td><td>1</td><td>0</td><td>0</td><td>0</td><td>⋯</td><td>0</td><td>0</td><td>0</td><td>0</td><td>0</td><td>0</td><td>0</td><td>0</td><td>0</td><td>0</td></tr>\n",
       "\t<tr><th scope=row>134058</th><td>562045</td><td>2</td><td>10</td><td>22</td><td>7</td><td>0</td><td>0</td><td>0</td><td>0</td><td>0</td><td>⋯</td><td>0</td><td>0</td><td>0</td><td>0</td><td>0</td><td>0</td><td>0</td><td>0</td><td>0</td><td>0</td></tr>\n",
       "\t<tr><th scope=row>124022</th><td>491150</td><td>2</td><td>80</td><td> 9</td><td>5</td><td>0</td><td>1</td><td>0</td><td>0</td><td>0</td><td>⋯</td><td>0</td><td>0</td><td>0</td><td>0</td><td>0</td><td>0</td><td>0</td><td>0</td><td>0</td><td>0</td></tr>\n",
       "\t<tr><th scope=row>160997</th><td> 12219</td><td>2</td><td>20</td><td>10</td><td>4</td><td>0</td><td>1</td><td>0</td><td>0</td><td>0</td><td>⋯</td><td>0</td><td>0</td><td>0</td><td>0</td><td>0</td><td>0</td><td>0</td><td>0</td><td>0</td><td>0</td></tr>\n",
       "\t<tr><th scope=row>226318</th><td>880155</td><td>2</td><td> 0</td><td> 6</td><td>5</td><td>0</td><td>0</td><td>0</td><td>0</td><td>0</td><td>⋯</td><td>0</td><td>0</td><td>0</td><td>0</td><td>0</td><td>0</td><td>0</td><td>0</td><td>0</td><td>0</td></tr>\n",
       "</tbody>\n",
       "</table>\n"
      ],
      "text/latex": [
       "A data.frame: 6 × 98\n",
       "\\begin{tabular}{r|lllllllllllllllllllll}\n",
       "  & building\\_id & count\\_floors\\_pre\\_eq & age & area\\_percentage & height\\_percentage & has\\_superstructure\\_adobe\\_mud & has\\_superstructure\\_mud\\_mortar\\_stone & has\\_superstructure\\_stone\\_flag & has\\_superstructure\\_cement\\_mortar\\_stone & has\\_superstructure\\_mud\\_mortar\\_brick & ⋯ & geo\\_level\\_1\\_id\\_5 & geo\\_level\\_1\\_id\\_15 & geo\\_level\\_1\\_id\\_14 & geo\\_level\\_1\\_id\\_19 & geo\\_level\\_1\\_id\\_1 & geo\\_level\\_1\\_id\\_24 & geo\\_level\\_1\\_id\\_28 & geo\\_level\\_1\\_id\\_23 & geo\\_level\\_1\\_id\\_2 & geo\\_level\\_1\\_id\\_29\\\\\n",
       "  & <int> & <int> & <int> & <int> & <int> & <int> & <int> & <int> & <int> & <int> & ⋯ & <int> & <int> & <int> & <int> & <int> & <int> & <int> & <int> & <int> & <int>\\\\\n",
       "\\hline\n",
       "\t182735 &  23555 & 2 & 10 & 12 & 5 & 0 & 1 & 0 & 0 & 0 & ⋯ & 0 & 0 & 0 & 0 & 0 & 0 & 0 & 0 & 0 & 0\\\\\n",
       "\t188942 & 848406 & 3 & 50 &  7 & 6 & 0 & 1 & 0 & 0 & 0 & ⋯ & 0 & 0 & 0 & 0 & 0 & 0 & 0 & 0 & 0 & 0\\\\\n",
       "\t134058 & 562045 & 2 & 10 & 22 & 7 & 0 & 0 & 0 & 0 & 0 & ⋯ & 0 & 0 & 0 & 0 & 0 & 0 & 0 & 0 & 0 & 0\\\\\n",
       "\t124022 & 491150 & 2 & 80 &  9 & 5 & 0 & 1 & 0 & 0 & 0 & ⋯ & 0 & 0 & 0 & 0 & 0 & 0 & 0 & 0 & 0 & 0\\\\\n",
       "\t160997 &  12219 & 2 & 20 & 10 & 4 & 0 & 1 & 0 & 0 & 0 & ⋯ & 0 & 0 & 0 & 0 & 0 & 0 & 0 & 0 & 0 & 0\\\\\n",
       "\t226318 & 880155 & 2 &  0 &  6 & 5 & 0 & 0 & 0 & 0 & 0 & ⋯ & 0 & 0 & 0 & 0 & 0 & 0 & 0 & 0 & 0 & 0\\\\\n",
       "\\end{tabular}\n"
      ],
      "text/markdown": [
       "\n",
       "A data.frame: 6 × 98\n",
       "\n",
       "| <!--/--> | building_id &lt;int&gt; | count_floors_pre_eq &lt;int&gt; | age &lt;int&gt; | area_percentage &lt;int&gt; | height_percentage &lt;int&gt; | has_superstructure_adobe_mud &lt;int&gt; | has_superstructure_mud_mortar_stone &lt;int&gt; | has_superstructure_stone_flag &lt;int&gt; | has_superstructure_cement_mortar_stone &lt;int&gt; | has_superstructure_mud_mortar_brick &lt;int&gt; | ⋯ ⋯ | geo_level_1_id_5 &lt;int&gt; | geo_level_1_id_15 &lt;int&gt; | geo_level_1_id_14 &lt;int&gt; | geo_level_1_id_19 &lt;int&gt; | geo_level_1_id_1 &lt;int&gt; | geo_level_1_id_24 &lt;int&gt; | geo_level_1_id_28 &lt;int&gt; | geo_level_1_id_23 &lt;int&gt; | geo_level_1_id_2 &lt;int&gt; | geo_level_1_id_29 &lt;int&gt; |\n",
       "|---|---|---|---|---|---|---|---|---|---|---|---|---|---|---|---|---|---|---|---|---|---|\n",
       "| 182735 |  23555 | 2 | 10 | 12 | 5 | 0 | 1 | 0 | 0 | 0 | ⋯ | 0 | 0 | 0 | 0 | 0 | 0 | 0 | 0 | 0 | 0 |\n",
       "| 188942 | 848406 | 3 | 50 |  7 | 6 | 0 | 1 | 0 | 0 | 0 | ⋯ | 0 | 0 | 0 | 0 | 0 | 0 | 0 | 0 | 0 | 0 |\n",
       "| 134058 | 562045 | 2 | 10 | 22 | 7 | 0 | 0 | 0 | 0 | 0 | ⋯ | 0 | 0 | 0 | 0 | 0 | 0 | 0 | 0 | 0 | 0 |\n",
       "| 124022 | 491150 | 2 | 80 |  9 | 5 | 0 | 1 | 0 | 0 | 0 | ⋯ | 0 | 0 | 0 | 0 | 0 | 0 | 0 | 0 | 0 | 0 |\n",
       "| 160997 |  12219 | 2 | 20 | 10 | 4 | 0 | 1 | 0 | 0 | 0 | ⋯ | 0 | 0 | 0 | 0 | 0 | 0 | 0 | 0 | 0 | 0 |\n",
       "| 226318 | 880155 | 2 |  0 |  6 | 5 | 0 | 0 | 0 | 0 | 0 | ⋯ | 0 | 0 | 0 | 0 | 0 | 0 | 0 | 0 | 0 | 0 |\n",
       "\n"
      ],
      "text/plain": [
       "       building_id count_floors_pre_eq age area_percentage height_percentage\n",
       "182735  23555      2                   10  12              5                \n",
       "188942 848406      3                   50   7              6                \n",
       "134058 562045      2                   10  22              7                \n",
       "124022 491150      2                   80   9              5                \n",
       "160997  12219      2                   20  10              4                \n",
       "226318 880155      2                    0   6              5                \n",
       "       has_superstructure_adobe_mud has_superstructure_mud_mortar_stone\n",
       "182735 0                            1                                  \n",
       "188942 0                            1                                  \n",
       "134058 0                            0                                  \n",
       "124022 0                            1                                  \n",
       "160997 0                            1                                  \n",
       "226318 0                            0                                  \n",
       "       has_superstructure_stone_flag has_superstructure_cement_mortar_stone\n",
       "182735 0                             0                                     \n",
       "188942 0                             0                                     \n",
       "134058 0                             0                                     \n",
       "124022 0                             0                                     \n",
       "160997 0                             0                                     \n",
       "226318 0                             0                                     \n",
       "       has_superstructure_mud_mortar_brick ⋯ geo_level_1_id_5 geo_level_1_id_15\n",
       "182735 0                                   ⋯ 0                0                \n",
       "188942 0                                   ⋯ 0                0                \n",
       "134058 0                                   ⋯ 0                0                \n",
       "124022 0                                   ⋯ 0                0                \n",
       "160997 0                                   ⋯ 0                0                \n",
       "226318 0                                   ⋯ 0                0                \n",
       "       geo_level_1_id_14 geo_level_1_id_19 geo_level_1_id_1 geo_level_1_id_24\n",
       "182735 0                 0                 0                0                \n",
       "188942 0                 0                 0                0                \n",
       "134058 0                 0                 0                0                \n",
       "124022 0                 0                 0                0                \n",
       "160997 0                 0                 0                0                \n",
       "226318 0                 0                 0                0                \n",
       "       geo_level_1_id_28 geo_level_1_id_23 geo_level_1_id_2 geo_level_1_id_29\n",
       "182735 0                 0                 0                0                \n",
       "188942 0                 0                 0                0                \n",
       "134058 0                 0                 0                0                \n",
       "124022 0                 0                 0                0                \n",
       "160997 0                 0                 0                0                \n",
       "226318 0                 0                 0                0                "
      ]
     },
     "metadata": {},
     "output_type": "display_data"
    },
    {
     "data": {
      "text/html": [
       "<style>\n",
       ".list-inline {list-style: none; margin:0; padding: 0}\n",
       ".list-inline>li {display: inline-block}\n",
       ".list-inline>li:not(:last-child)::after {content: \"\\00b7\"; padding: 0 .5ex}\n",
       "</style>\n",
       "<ol class=list-inline><li>13030</li><li>98</li></ol>\n"
      ],
      "text/latex": [
       "\\begin{enumerate*}\n",
       "\\item 13030\n",
       "\\item 98\n",
       "\\end{enumerate*}\n"
      ],
      "text/markdown": [
       "1. 13030\n",
       "2. 98\n",
       "\n",
       "\n"
      ],
      "text/plain": [
       "[1] 13030    98"
      ]
     },
     "metadata": {},
     "output_type": "display_data"
    },
    {
     "data": {
      "text/html": [
       "<table class=\"dataframe\">\n",
       "<caption>A data.frame: 6 × 98</caption>\n",
       "<thead>\n",
       "\t<tr><th></th><th scope=col>building_id</th><th scope=col>count_floors_pre_eq</th><th scope=col>age</th><th scope=col>area_percentage</th><th scope=col>height_percentage</th><th scope=col>has_superstructure_adobe_mud</th><th scope=col>has_superstructure_mud_mortar_stone</th><th scope=col>has_superstructure_stone_flag</th><th scope=col>has_superstructure_cement_mortar_stone</th><th scope=col>has_superstructure_mud_mortar_brick</th><th scope=col>⋯</th><th scope=col>geo_level_1_id_5</th><th scope=col>geo_level_1_id_15</th><th scope=col>geo_level_1_id_14</th><th scope=col>geo_level_1_id_19</th><th scope=col>geo_level_1_id_1</th><th scope=col>geo_level_1_id_24</th><th scope=col>geo_level_1_id_28</th><th scope=col>geo_level_1_id_23</th><th scope=col>geo_level_1_id_2</th><th scope=col>geo_level_1_id_29</th></tr>\n",
       "\t<tr><th></th><th scope=col>&lt;int&gt;</th><th scope=col>&lt;int&gt;</th><th scope=col>&lt;int&gt;</th><th scope=col>&lt;int&gt;</th><th scope=col>&lt;int&gt;</th><th scope=col>&lt;int&gt;</th><th scope=col>&lt;int&gt;</th><th scope=col>&lt;int&gt;</th><th scope=col>&lt;int&gt;</th><th scope=col>&lt;int&gt;</th><th scope=col>⋯</th><th scope=col>&lt;int&gt;</th><th scope=col>&lt;int&gt;</th><th scope=col>&lt;int&gt;</th><th scope=col>&lt;int&gt;</th><th scope=col>&lt;int&gt;</th><th scope=col>&lt;int&gt;</th><th scope=col>&lt;int&gt;</th><th scope=col>&lt;int&gt;</th><th scope=col>&lt;int&gt;</th><th scope=col>&lt;int&gt;</th></tr>\n",
       "</thead>\n",
       "<tbody>\n",
       "\t<tr><th scope=row>243101</th><td> 791583</td><td>2</td><td>30</td><td>4</td><td>6</td><td>0</td><td>1</td><td>0</td><td>0</td><td>0</td><td>⋯</td><td>0</td><td>0</td><td>0</td><td>0</td><td>0</td><td>0</td><td>0</td><td>0</td><td>0</td><td>0</td></tr>\n",
       "\t<tr><th scope=row>165658</th><td> 824476</td><td>2</td><td> 0</td><td>5</td><td>5</td><td>0</td><td>1</td><td>0</td><td>0</td><td>0</td><td>⋯</td><td>0</td><td>0</td><td>0</td><td>0</td><td>0</td><td>0</td><td>0</td><td>0</td><td>0</td><td>0</td></tr>\n",
       "\t<tr><th scope=row>60944</th><td>1001918</td><td>2</td><td> 5</td><td>8</td><td>5</td><td>1</td><td>0</td><td>0</td><td>0</td><td>0</td><td>⋯</td><td>0</td><td>0</td><td>0</td><td>0</td><td>0</td><td>0</td><td>0</td><td>0</td><td>0</td><td>0</td></tr>\n",
       "\t<tr><th scope=row>139402</th><td>  89590</td><td>2</td><td>15</td><td>9</td><td>5</td><td>0</td><td>1</td><td>0</td><td>0</td><td>0</td><td>⋯</td><td>0</td><td>0</td><td>0</td><td>0</td><td>0</td><td>0</td><td>0</td><td>0</td><td>0</td><td>0</td></tr>\n",
       "\t<tr><th scope=row>216132</th><td> 546127</td><td>1</td><td>10</td><td>3</td><td>2</td><td>0</td><td>0</td><td>0</td><td>0</td><td>0</td><td>⋯</td><td>0</td><td>0</td><td>0</td><td>0</td><td>0</td><td>0</td><td>0</td><td>0</td><td>0</td><td>0</td></tr>\n",
       "\t<tr><th scope=row>230133</th><td> 869582</td><td>2</td><td>20</td><td>8</td><td>4</td><td>0</td><td>1</td><td>0</td><td>0</td><td>0</td><td>⋯</td><td>0</td><td>0</td><td>0</td><td>0</td><td>0</td><td>0</td><td>0</td><td>0</td><td>0</td><td>0</td></tr>\n",
       "</tbody>\n",
       "</table>\n"
      ],
      "text/latex": [
       "A data.frame: 6 × 98\n",
       "\\begin{tabular}{r|lllllllllllllllllllll}\n",
       "  & building\\_id & count\\_floors\\_pre\\_eq & age & area\\_percentage & height\\_percentage & has\\_superstructure\\_adobe\\_mud & has\\_superstructure\\_mud\\_mortar\\_stone & has\\_superstructure\\_stone\\_flag & has\\_superstructure\\_cement\\_mortar\\_stone & has\\_superstructure\\_mud\\_mortar\\_brick & ⋯ & geo\\_level\\_1\\_id\\_5 & geo\\_level\\_1\\_id\\_15 & geo\\_level\\_1\\_id\\_14 & geo\\_level\\_1\\_id\\_19 & geo\\_level\\_1\\_id\\_1 & geo\\_level\\_1\\_id\\_24 & geo\\_level\\_1\\_id\\_28 & geo\\_level\\_1\\_id\\_23 & geo\\_level\\_1\\_id\\_2 & geo\\_level\\_1\\_id\\_29\\\\\n",
       "  & <int> & <int> & <int> & <int> & <int> & <int> & <int> & <int> & <int> & <int> & ⋯ & <int> & <int> & <int> & <int> & <int> & <int> & <int> & <int> & <int> & <int>\\\\\n",
       "\\hline\n",
       "\t243101 &  791583 & 2 & 30 & 4 & 6 & 0 & 1 & 0 & 0 & 0 & ⋯ & 0 & 0 & 0 & 0 & 0 & 0 & 0 & 0 & 0 & 0\\\\\n",
       "\t165658 &  824476 & 2 &  0 & 5 & 5 & 0 & 1 & 0 & 0 & 0 & ⋯ & 0 & 0 & 0 & 0 & 0 & 0 & 0 & 0 & 0 & 0\\\\\n",
       "\t60944 & 1001918 & 2 &  5 & 8 & 5 & 1 & 0 & 0 & 0 & 0 & ⋯ & 0 & 0 & 0 & 0 & 0 & 0 & 0 & 0 & 0 & 0\\\\\n",
       "\t139402 &   89590 & 2 & 15 & 9 & 5 & 0 & 1 & 0 & 0 & 0 & ⋯ & 0 & 0 & 0 & 0 & 0 & 0 & 0 & 0 & 0 & 0\\\\\n",
       "\t216132 &  546127 & 1 & 10 & 3 & 2 & 0 & 0 & 0 & 0 & 0 & ⋯ & 0 & 0 & 0 & 0 & 0 & 0 & 0 & 0 & 0 & 0\\\\\n",
       "\t230133 &  869582 & 2 & 20 & 8 & 4 & 0 & 1 & 0 & 0 & 0 & ⋯ & 0 & 0 & 0 & 0 & 0 & 0 & 0 & 0 & 0 & 0\\\\\n",
       "\\end{tabular}\n"
      ],
      "text/markdown": [
       "\n",
       "A data.frame: 6 × 98\n",
       "\n",
       "| <!--/--> | building_id &lt;int&gt; | count_floors_pre_eq &lt;int&gt; | age &lt;int&gt; | area_percentage &lt;int&gt; | height_percentage &lt;int&gt; | has_superstructure_adobe_mud &lt;int&gt; | has_superstructure_mud_mortar_stone &lt;int&gt; | has_superstructure_stone_flag &lt;int&gt; | has_superstructure_cement_mortar_stone &lt;int&gt; | has_superstructure_mud_mortar_brick &lt;int&gt; | ⋯ ⋯ | geo_level_1_id_5 &lt;int&gt; | geo_level_1_id_15 &lt;int&gt; | geo_level_1_id_14 &lt;int&gt; | geo_level_1_id_19 &lt;int&gt; | geo_level_1_id_1 &lt;int&gt; | geo_level_1_id_24 &lt;int&gt; | geo_level_1_id_28 &lt;int&gt; | geo_level_1_id_23 &lt;int&gt; | geo_level_1_id_2 &lt;int&gt; | geo_level_1_id_29 &lt;int&gt; |\n",
       "|---|---|---|---|---|---|---|---|---|---|---|---|---|---|---|---|---|---|---|---|---|---|\n",
       "| 243101 |  791583 | 2 | 30 | 4 | 6 | 0 | 1 | 0 | 0 | 0 | ⋯ | 0 | 0 | 0 | 0 | 0 | 0 | 0 | 0 | 0 | 0 |\n",
       "| 165658 |  824476 | 2 |  0 | 5 | 5 | 0 | 1 | 0 | 0 | 0 | ⋯ | 0 | 0 | 0 | 0 | 0 | 0 | 0 | 0 | 0 | 0 |\n",
       "| 60944 | 1001918 | 2 |  5 | 8 | 5 | 1 | 0 | 0 | 0 | 0 | ⋯ | 0 | 0 | 0 | 0 | 0 | 0 | 0 | 0 | 0 | 0 |\n",
       "| 139402 |   89590 | 2 | 15 | 9 | 5 | 0 | 1 | 0 | 0 | 0 | ⋯ | 0 | 0 | 0 | 0 | 0 | 0 | 0 | 0 | 0 | 0 |\n",
       "| 216132 |  546127 | 1 | 10 | 3 | 2 | 0 | 0 | 0 | 0 | 0 | ⋯ | 0 | 0 | 0 | 0 | 0 | 0 | 0 | 0 | 0 | 0 |\n",
       "| 230133 |  869582 | 2 | 20 | 8 | 4 | 0 | 1 | 0 | 0 | 0 | ⋯ | 0 | 0 | 0 | 0 | 0 | 0 | 0 | 0 | 0 | 0 |\n",
       "\n"
      ],
      "text/plain": [
       "       building_id count_floors_pre_eq age area_percentage height_percentage\n",
       "243101  791583     2                   30  4               6                \n",
       "165658  824476     2                    0  5               5                \n",
       "60944  1001918     2                    5  8               5                \n",
       "139402   89590     2                   15  9               5                \n",
       "216132  546127     1                   10  3               2                \n",
       "230133  869582     2                   20  8               4                \n",
       "       has_superstructure_adobe_mud has_superstructure_mud_mortar_stone\n",
       "243101 0                            1                                  \n",
       "165658 0                            1                                  \n",
       "60944  1                            0                                  \n",
       "139402 0                            1                                  \n",
       "216132 0                            0                                  \n",
       "230133 0                            1                                  \n",
       "       has_superstructure_stone_flag has_superstructure_cement_mortar_stone\n",
       "243101 0                             0                                     \n",
       "165658 0                             0                                     \n",
       "60944  0                             0                                     \n",
       "139402 0                             0                                     \n",
       "216132 0                             0                                     \n",
       "230133 0                             0                                     \n",
       "       has_superstructure_mud_mortar_brick ⋯ geo_level_1_id_5 geo_level_1_id_15\n",
       "243101 0                                   ⋯ 0                0                \n",
       "165658 0                                   ⋯ 0                0                \n",
       "60944  0                                   ⋯ 0                0                \n",
       "139402 0                                   ⋯ 0                0                \n",
       "216132 0                                   ⋯ 0                0                \n",
       "230133 0                                   ⋯ 0                0                \n",
       "       geo_level_1_id_14 geo_level_1_id_19 geo_level_1_id_1 geo_level_1_id_24\n",
       "243101 0                 0                 0                0                \n",
       "165658 0                 0                 0                0                \n",
       "60944  0                 0                 0                0                \n",
       "139402 0                 0                 0                0                \n",
       "216132 0                 0                 0                0                \n",
       "230133 0                 0                 0                0                \n",
       "       geo_level_1_id_28 geo_level_1_id_23 geo_level_1_id_2 geo_level_1_id_29\n",
       "243101 0                 0                 0                0                \n",
       "165658 0                 0                 0                0                \n",
       "60944  0                 0                 0                0                \n",
       "139402 0                 0                 0                0                \n",
       "216132 0                 0                 0                0                \n",
       "230133 0                 0                 0                0                "
      ]
     },
     "metadata": {},
     "output_type": "display_data"
    },
    {
     "data": {
      "text/html": [
       "<style>\n",
       ".list-inline {list-style: none; margin:0; padding: 0}\n",
       ".list-inline>li {display: inline-block}\n",
       ".list-inline>li:not(:last-child)::after {content: \"\\00b7\"; padding: 0 .5ex}\n",
       "</style>\n",
       "<ol class=list-inline><li>247571</li><li>98</li></ol>\n"
      ],
      "text/latex": [
       "\\begin{enumerate*}\n",
       "\\item 247571\n",
       "\\item 98\n",
       "\\end{enumerate*}\n"
      ],
      "text/markdown": [
       "1. 247571\n",
       "2. 98\n",
       "\n",
       "\n"
      ],
      "text/plain": [
       "[1] 247571     98"
      ]
     },
     "metadata": {},
     "output_type": "display_data"
    }
   ],
   "source": [
    "# Train-Test split\n",
    "train_prop = 0.05 # 5000 observations\n",
    "\n",
    "# calculate the number of rows to use for training\n",
    "train_size <- round(nrow(encoded_train) * train_prop)\n",
    "\n",
    "# Shuffle the rows of the dataset\n",
    "set.seed(123)\n",
    "data_shuffled <- encoded_train[sample(nrow(encoded_train)),]\n",
    "\n",
    "# Split the shuffled data into training and test sets\n",
    "train_data <- data_shuffled[1:train_size,]\n",
    "test_data <- data_shuffled[(train_size+1):nrow(data_shuffled),]\n",
    "\n",
    "# results\n",
    "head(train_data)\n",
    "dim(train_data)\n",
    "head(test_data)\n",
    "dim(test_data)"
   ]
  },
  {
   "attachments": {},
   "cell_type": "markdown",
   "metadata": {},
   "source": [
    "The core function for training operates as follows:\n",
    "\n",
    "It accepts three inputs:\n",
    "\n",
    "- The maximum number of features to include.\n",
    "- The model to train, specified as either \"dec_tree\" for Decision Tree \"rand_for\" for Random Forest, or \"grad_boosting\" for Gradient Boosting.\n",
    "- An additional parameter, \"train_jump,\" introduced to optimize the algorithm. \n",
    "\n",
    "For a given maximum number of features (N), this algorithm trains N different models. In particular, when \"train_jump\" is set, it allows training the model by excluding intermediate steps. For instance, if \"train_jump\" is 5 and the maximum number of features (max_n) is 50, the model will be trained on the best 5 features, then the best 10 features, and so on, until reaching 50.\n",
    "\n",
    "The function's final output is a dual plot of the F1_Score_micro metric for both the train and test sets."
   ]
  },
  {
   "cell_type": "code",
   "execution_count": 110,
   "metadata": {
    "vscode": {
     "languageId": "r"
    }
   },
   "outputs": [],
   "source": [
    "training = function(max_n, model, train_jump=1){\n",
    "    max_n_features = max_n\n",
    "    my_index <- which(colnames(train_data) == \"damage_grade\")\n",
    "    names = rownames(mi_df)\n",
    "\n",
    "    # create the dataframe\n",
    "    indexes_features = c()\n",
    "    performance_df = data.frame(matrix(nrow = max_n_features, ncol = 2))\n",
    "    colnames(performance_df) = c('train_perf', 'test_perf')\n",
    "    rownames(performance_df) = 1:max_n_features\n",
    "\n",
    "    for (i in 1:max_n_features){\n",
    "        n = which(colnames(train_data) == names[i])\n",
    "        indexes_features[i] = n\n",
    "        train = train_data[ ,indexes_features]\n",
    "        test = test_data[ ,indexes_features]\n",
    "        train$damage_grade = as.factor(as.character(train_data$damage_grade))\n",
    "        test$damage_grade = as.factor(as.character(test_data$damage_grade))\n",
    "        \n",
    "        if (i %in% seq(2, max_n_features, by=train_jump) ){\n",
    "            if (model == 'dec_tree'){\n",
    "                # Train a decision tree model on the training data\n",
    "                tree_model <- rpart(damage_grade ~ ., data = train)\n",
    "\n",
    "                # Predict the labels for the training and test sets\n",
    "                train_pred <- predict(tree_model, train, type = \"class\")\n",
    "                test_pred <- predict(tree_model, test_data, type = \"class\")\n",
    "\n",
    "                # Calculate the accuracy of the model on the training and test sets\n",
    "                train_acc <- F1_Score_micro(train$damage_grade, train_pred)\n",
    "                test_acc <- F1_Score_micro(test$damage_grade, test_pred)\n",
    "\n",
    "                # store the results\n",
    "                performance_df[i, 1] = train_acc\n",
    "                performance_df[i, 2] = test_acc \n",
    "            }\n",
    "            if (model == 'rand_for'){\n",
    "                # Train a decision tree model on the training data\n",
    "                rf_model <- randomForest(damage_grade ~ ., data = train, ntree = 100, classwt=classwt)\n",
    "\n",
    "                # Predict the labels for the training and test sets\n",
    "                train_pred <- predict(rf_model, newdata = train[ ,1:i])\n",
    "                test_pred <- predict(rf_model, newdata = test)\n",
    "\n",
    "                # Calculate the accuracy of the model on the training and test sets\n",
    "                train_acc = F1_Score_micro(train$damage_grade, train_pred)\n",
    "                test_acc = F1_Score_micro(test$damage_grade, test_pred)\n",
    "\n",
    "                # store the results\n",
    "                performance_df[i, 1] = train_acc\n",
    "                performance_df[i, 2] = test_acc \n",
    "            }\n",
    "            if (model == 'grad_boosting'){\n",
    "                # Train gradient boosting gradient boosting\n",
    "                gbm_model <- gbm(damage_grade ~ ., data = train, distribution = \"multinomial\", n.trees = 100, interaction.depth = 3, shrinkage = 0.1)\n",
    "\n",
    "                # Accuracy \n",
    "                pred1 = predict.gbm(object = gbm_model,\n",
    "                                newdata = train,\n",
    "                                n.trees = 100,           \n",
    "                                type = \"response\")\n",
    "\n",
    "                pred2 = predict.gbm(object = gbm_model,\n",
    "                                newdata = test,\n",
    "                                n.trees = 100,           \n",
    "                                type = \"response\")\n",
    "\n",
    "                labels1 = colnames(pred1)[apply(pred1, 1, which.max)]\n",
    "                labels2 = colnames(pred2)[apply(pred2, 1, which.max)]\n",
    "\n",
    "                result1 = data.frame(train_data$building_id, labels1)\n",
    "                result2 = data.frame(test_data$building_id, labels2)\n",
    "\n",
    "                train_acc <- F1_Score_micro(train$damage_grade, result1$labels1)\n",
    "                test_acc <- F1_Score_micro(test$damage_grade, result2$labels2)\n",
    "\n",
    "                # store the results\n",
    "                performance_df[i, 1] = train_acc\n",
    "                performance_df[i, 2] = test_acc \n",
    "            }\n",
    "        }\n",
    "    }\n",
    "    performance_df = na.omit(performance_df) \n",
    "    ggplot(performance_df, aes(x = as.numeric(rownames(performance_df)))) +\n",
    "    geom_line(aes(y = train_perf, color = \"Train Performance\")) +\n",
    "    geom_line(aes(y = test_perf, color = \"Test Performance\")) +\n",
    "    labs(x = \"X-labels\", y = \"Performance\") +\n",
    "    scale_color_manual(values = c(\"Train Performance\" = \"blue\", \"Test Performance\" = \"red\")) +\n",
    "    theme_minimal()\n",
    "}"
   ]
  },
  {
   "attachments": {},
   "cell_type": "markdown",
   "metadata": {},
   "source": [
    "## 2.1 Decision Tree\n"
   ]
  },
  {
   "attachments": {},
   "cell_type": "markdown",
   "metadata": {},
   "source": [
    "One approach to address this classification problem is by utilizing a simple Decision Tree model."
   ]
  },
  {
   "cell_type": "code",
   "execution_count": 111,
   "metadata": {
    "vscode": {
     "languageId": "r"
    }
   },
   "outputs": [
    {
     "name": "stderr",
     "output_type": "stream",
     "text": [
      "Warning message in train$damage_grade <- as.factor(as.character(train_data$damage_grade)):\n",
      "\"Coercing LHS to a list\"\n",
      "Warning message in test$damage_grade <- as.factor(as.character(test_data$damage_grade)):\n",
      "\"Coercing LHS to a list\"\n"
     ]
    },
    {
     "data": {
      "image/png": "[encoded data removed]",
      "text/plain": [
       "plot without title"
      ]
     },
     "metadata": {
      "image/png": {
       "height": 420,
       "width": 420
      }
     },
     "output_type": "display_data"
    }
   ],
   "source": [
    "training(40,\"dec_tree\",2)"
   ]
  },
  {
   "attachments": {},
   "cell_type": "markdown",
   "metadata": {},
   "source": [
    "Upon examining the graph, it is evident that the Decision Tree model demonstrates excellent performance. Remarkably, even when utilizing 40 features, there are no apparent signs of overfitting. However, it is worth noting that the marginal improvement in performance becomes nearly insignificant after including the first 5 features.\n",
    "\n",
    "This observation suggests that the Decision Tree model is capable of achieving high accuracy with a limited number of informative features."
   ]
  },
  {
   "attachments": {},
   "cell_type": "markdown",
   "metadata": {},
   "source": [
    "## 2.2 Random Forest"
   ]
  },
  {
   "attachments": {},
   "cell_type": "markdown",
   "metadata": {},
   "source": [
    "The second algorithm we employ is Random Forest. However, it is important to note that we train a balanced Random Forest by adjusting the weights in the **\"classwt\"** hyperparameter. This approach aims to address class imbalance and promote a fair representation of minority classes in the model.\n",
    "\n",
    "It is worth mentioning that using balanced weights in Random Forest may slightly decrease the overall performance of the classifier. \n",
    "\n",
    "However, the trade-off for this reduction in performance is enhanced interpretability of the model. Consequently, we reserve the use of this classifier towards the end of the project for the purpose of **conditional entropy ranking**."
   ]
  },
  {
   "cell_type": "code",
   "execution_count": 112,
   "metadata": {
    "vscode": {
     "languageId": "r"
    }
   },
   "outputs": [
    {
     "name": "stderr",
     "output_type": "stream",
     "text": [
      "Warning message in train$damage_grade <- as.factor(as.character(train_data$damage_grade)):\n",
      "\"Coercing LHS to a list\"\n",
      "Warning message in test$damage_grade <- as.factor(as.character(test_data$damage_grade)):\n",
      "\"Coercing LHS to a list\"\n"
     ]
    },
    {
     "data": {
      "image/png": "[encoded data removed]",
      "text/plain": [
       "plot without title"
      ]
     },
     "metadata": {
      "image/png": {
       "height": 420,
       "width": 420
      }
     },
     "output_type": "display_data"
    }
   ],
   "source": [
    "training(40, 'rand_for', 3)"
   ]
  },
  {
   "attachments": {},
   "cell_type": "markdown",
   "metadata": {},
   "source": [
    "As anticipated, the Random Forest model exhibits a slightly lower performance compared to a single Decision Tree. \n",
    "\n",
    "The higher jaggedness of the curves in the performance plot and  the absence of a plateau in performance improvement though,suggests that the Random Forest model may continue to benefit from additional features.\n",
    "\n",
    "While the Random Forest model may not achieve the same level of accuracy as a single Decision Tree, its strength lies in its enhanced explainability, particularly in scenarios with class imbalances. "
   ]
  },
  {
   "attachments": {},
   "cell_type": "markdown",
   "metadata": {},
   "source": [
    "## 2.3 Neural-Network\n",
    "Here, we decided to implement a neural network with 4 layers. The first layer being the **input** layer, the second being the 2 **hidden** layers and the third the **outputs** layer (from 0-2) since keras builds models that start at zero.\n",
    "Ps: Most of the information is given inside the <u>train_and_save_model_NN</u> function\n"
   ]
  },
  {
   "cell_type": "code",
   "execution_count": 122,
   "metadata": {
    "vscode": {
     "languageId": "r"
    }
   },
   "outputs": [],
   "source": [
    "train_and_save_model_NN <- function(dataset, save_path) {\n",
    "  cat_cols=c('land_surface_condition', 'foundation_type',\"roof_type\",\"ground_floor_type\",\n",
    "  \"other_floor_type\",\"position\",\"plan_configuration\",\"legal_ownership_status\",\"geo_level_1_id\")\n",
    "  # Remove unnecessary columns from the dataset using the function above (preprocessing) and encode categorical and numerical data\n",
    "  dataset <- encode_categorical_variables(dataset,cat_cols,c(\"geo_level_2_id\",\"geo_level_3_id\"))\n",
    "\n",
    "  dataset <- encode_numerical_variables(dataset,c(\"count_floors_pre_eq\",\"age\",\"area_percentage\",\"height_percentage\"))\n",
    "  dataset$building_id <- NULL\n",
    "  \n",
    "  # Prepare the data for training\n",
    "  # 1. Making sure the independant variables x are given as a matrix, i.e. the right input for keras's neural networks\n",
    "  # 2. Making sure y (damage_grade) is given to the model starting at zero and ending at 2\n",
    "  x <- as.matrix(dataset[, -ncol(dataset)])\n",
    "  y <- to_categorical(dataset$damage_grade - 1)\n",
    "  \n",
    "  # Define the model architecture\n",
    "  # Neural Netowrk with one input layer, 2 hidden and one output\n",
    "  model <- keras_model_sequential() %>%\n",
    "    layer_dense(units = 64, activation = \"relu\", input_shape = ncol(dataset)-1) %>%\n",
    "    layer_dense(units = 32, activation = \"relu\") %>%\n",
    "    layer_dense(units = 16, activation = \"relu\") %>%\n",
    "    layer_dense(units = 3, activation = \"softmax\")\n",
    "\n",
    "  # Compile the model\n",
    "  model %>% compile(\n",
    "    loss = \"categorical_crossentropy\",\n",
    "    optimizer = optimizer_adam(lr = 0.001),  # Set an initial learning rate\n",
    "    metrics = c(\"accuracy\"))\n",
    "  summary(model)\n",
    "  # Define callbacks\n",
    "  # Here, we use validation loss to estimate when no more information is provided by changing epochs, or seperating the trainset into different parts (avoiding overfitting)\n",
    "  lr_scheduler <- callback_reduce_lr_on_plateau(\n",
    "    monitor = \"val_loss\",\n",
    "    factor = 0.5,\n",
    "    patience = 3,\n",
    "    verbose = 1)\n",
    "\n",
    "  early_stopping <- callback_early_stopping(\n",
    "    monitor = \"val_loss\",\n",
    "    patience = 5,\n",
    "    restore_best_weights = TRUE,\n",
    "    verbose = 1)\n",
    "\n",
    "  # Train the model\n",
    "  history <- model %>% fit(\n",
    "    x = x,\n",
    "    y = y,\n",
    "    epochs = 40,\n",
    "    batch_size = 64,\n",
    "    validation_split = 0.2,\n",
    "    callbacks = list(lr_scheduler, early_stopping))\n",
    "  \n",
    "  \n",
    "  plot(history$metrics$loss, type = \"l\", col = \"blue\", xlab = \"Epoch\", ylab = \"Loss\")\n",
    "  lines(history$metrics$val_loss, col = \"red\")\n",
    "  legend(\"topright\", legend = c(\"Training Loss\", \"Validation Loss\"), col = c(\"blue\", \"red\"), lty = 1)\n",
    "  \n",
    "  print(\"Model is built!\")\n",
    "}\n"
   ]
  },
  {
   "attachments": {},
   "cell_type": "markdown",
   "metadata": {},
   "source": [
    "Here, one of our main problems waas to <u>avoid</u> overfitting. To make sure we didn't overfit our neural-network, we used two simple methods:\n",
    "1. Splitting the train and test dataset\n",
    "2. Using early stopping prebuilt keras functions\n",
    "\n",
    "As seen during the course, splitting the dataset in two is one of the main ways to obtain a correct model. Keras also offers the option of stopping the fitting of the model using arbitrary methods (history)"
   ]
  },
  {
   "attachments": {},
   "cell_type": "markdown",
   "metadata": {},
   "source": [
    "## 2.3.1 Testing model"
   ]
  },
  {
   "cell_type": "code",
   "execution_count": 123,
   "metadata": {
    "vscode": {
     "languageId": "r"
    }
   },
   "outputs": [
    {
     "name": "stdout",
     "output_type": "stream",
     "text": [
      "Model: \"sequential_16\"\n",
      "________________________________________________________________________________\n",
      " Layer (type)                       Output Shape                    Param #     \n",
      "================================================================================\n",
      " dense_67 (Dense)                   (None, 64)                      6208        \n",
      " dense_66 (Dense)                   (None, 32)                      2080        \n",
      " dense_65 (Dense)                   (None, 16)                      528         \n",
      " dense_64 (Dense)                   (None, 3)                       51          \n",
      "================================================================================\n",
      "Total params: 8,867\n",
      "Trainable params: 8,867\n",
      "Non-trainable params: 0\n",
      "________________________________________________________________________________\n"
     ]
    },
    {
     "ename": "ERROR",
     "evalue": "\u001b[1m\u001b[33mError\u001b[39m in `filter()`:\u001b[22m\n\u001b[1m\u001b[22m\u001b[33m!\u001b[39m Problem while computing `..1 = metric == \"categorical_crossentropy\"`.\n\u001b[1mCaused by error in `mask$eval_all_filter()`:\u001b[22m\n\u001b[33m!\u001b[39m object 'metric' not found\n",
     "output_type": "error",
     "traceback": [
      "\u001b[1m\u001b[33mError\u001b[39m in `filter()`:\u001b[22m\n\u001b[1m\u001b[22m\u001b[33m!\u001b[39m Problem while computing `..1 = metric == \"categorical_crossentropy\"`.\n\u001b[1mCaused by error in `mask$eval_all_filter()`:\u001b[22m\n\u001b[33m!\u001b[39m object 'metric' not found\nTraceback:\n",
      "1. train_and_save_model_NN(train, \"Model.h5\")",
      "2. plot_histories(history)   # at line 61 of file <text>",
      "3. histories %>% purrr::map_dfr(as.data.frame, .id = \"model\") %>% \n .     filter(metric == \"categorical_crossentropy\") %>% ggplot(aes(x = epoch, \n .     y = value, color = model, linetype = data))   # at line 53-59 of file <text>",
      "4. ggplot(., aes(x = epoch, y = value, color = model, linetype = data))",
      "5. filter(., metric == \"categorical_crossentropy\")",
      "6. filter.data.frame(., metric == \"categorical_crossentropy\")",
      "7. filter_rows(.data, ..., caller_env = caller_env())",
      "8. filter_eval(dots, mask = mask, error_call = error_call)",
      "9. withCallingHandlers({\n .     mask$eval_all_filter(dots, env_filter)\n . }, error = function(e) {\n .     local_error_context(dots = dots, .index = env_filter$current_expression, \n .         mask = mask)\n .     bullets <- c(cnd_bullet_header(\"computing\"), filter_bullets(e))\n .     abort(bullets, call = error_call, parent = skip_internal_condition(e))\n . })",
      "10. mask$eval_all_filter(dots, env_filter)",
      "11. .handleSimpleError(function (e) \n  . {\n  .     local_error_context(dots = dots, .index = env_filter$current_expression, \n  .         mask = mask)\n  .     bullets <- c(cnd_bullet_header(\"computing\"), filter_bullets(e))\n  .     abort(bullets, call = error_call, parent = skip_internal_condition(e))\n  . }, \"object 'metric' not found\", base::quote(mask$eval_all_filter(dots, \n  .     env_filter)))",
      "12. h(simpleError(msg, call))",
      "13. abort(bullets, call = error_call, parent = skip_internal_condition(e))",
      "14. signal_abort(cnd, .file)"
     ]
    }
   ],
   "source": [
    "\n",
    "set.seed(101) \n",
    "train<-sample_frac(master, 0.7)\n",
    "    sid<-as.numeric(rownames(train)) \n",
    "    test<-master[-sid,]\n",
    "\n",
    "# building and loading the model\n",
    "train_and_save_model_NN(train,\"Model.h5\")\n",
    "model <- load_model_hdf5(\"Model.h5\")\n",
    "\n",
    "# encoding the dataset to out standards (one-hot and normalization)\n",
    "test <- encode_categorical_variables(test,cat_cols,c(\"geo_level_2_id\",\"geo_level_3_id\"))\n",
    "\n",
    "# damage_grade and building_id for later usage\n",
    "true_damage <- test$damage_grade\n",
    "building_ids <- test$building_id\n",
    "\n",
    "# removing unused data\n",
    "test$damage_grade <- NULL\n",
    "test$building_id <- NULL\n",
    "\n",
    "# predicting y using predict function (given as odds of outputs being 0,1 or 2)\n",
    "predictions <- predict(model, as.matrix(test))\n",
    "\n"
   ]
  },
  {
   "cell_type": "code",
   "execution_count": null,
   "metadata": {
    "vscode": {
     "languageId": "r"
    }
   },
   "outputs": [
    {
     "data": {
      "text/html": [
       "0.566922486569455"
      ],
      "text/latex": [
       "0.566922486569455"
      ],
      "text/markdown": [
       "0.566922486569455"
      ],
      "text/plain": [
       "[1] 0.5669225"
      ]
     },
     "metadata": {},
     "output_type": "display_data"
    }
   ],
   "source": [
    "predicted_damage_grade <- max.col(predictions) + 1\n",
    "#Formating csv for submission_format\n",
    "df <- data.frame (building_id=building_ids,\n",
    "                  damage_grade=predicted_damage_grade)\n",
    "F1_Score_micro(true_damage,predicted_damage_grade)"
   ]
  },
  {
   "attachments": {},
   "cell_type": "markdown",
   "metadata": {},
   "source": [
    "## 3. Extra Learning Procedure: Gradient Boosting"
   ]
  },
  {
   "attachments": {},
   "cell_type": "markdown",
   "metadata": {},
   "source": [
    "As an additional learning procedure, a pure Gradient Boosting model was implemented. This decision was motivated by the fact that the Random Forest model took into account the class imbalance of the damage_grade variable. In this case, the focus is solely on analyzing the performance of a tree-based model.\n",
    "\n",
    "Gradient Boosting, similar to Random Forest, is a powerful ensemble learning method that combines multiple weak learners, typically decision trees, to create a stronger model. By iteratively fitting new models to the residual errors of the previous models, Gradient Boosting gradually improves the overall prediction accuracy.\n",
    "\n",
    "It is noteworthy that the Gradient Boosting model was also utilized for submission in the competition, resulting in a commendable accuracy of around **67%**. This underscores the effectiveness of the Gradient Boosting approach in addressing the classification problem at hand."
   ]
  },
  {
   "cell_type": "code",
   "execution_count": null,
   "metadata": {
    "vscode": {
     "languageId": "r"
    }
   },
   "outputs": [
    {
     "name": "stderr",
     "output_type": "stream",
     "text": [
      "Warning message in train$damage_grade <- as.factor(as.character(train_data$damage_grade)):\n",
      "\"Coercing LHS to a list\"\n",
      "Warning message in test$damage_grade <- as.factor(as.character(test_data$damage_grade)):\n",
      "\"Coercing LHS to a list\"\n",
      "Warning message:\n",
      "\"Setting `distribution = \"multinomial\"` is ill-advised as it is currently broken. It exists only for backwards compatibility. Use at your own risk.\"\n",
      "Warning message:\n",
      "\"Setting `distribution = \"multinomial\"` is ill-advised as it is currently broken. It exists only for backwards compatibility. Use at your own risk.\"\n",
      "Warning message:\n",
      "\"Setting `distribution = \"multinomial\"` is ill-advised as it is currently broken. It exists only for backwards compatibility. Use at your own risk.\"\n",
      "Warning message:\n",
      "\"Setting `distribution = \"multinomial\"` is ill-advised as it is currently broken. It exists only for backwards compatibility. Use at your own risk.\"\n",
      "Warning message:\n",
      "\"Setting `distribution = \"multinomial\"` is ill-advised as it is currently broken. It exists only for backwards compatibility. Use at your own risk.\"\n",
      "Warning message:\n",
      "\"Setting `distribution = \"multinomial\"` is ill-advised as it is currently broken. It exists only for backwards compatibility. Use at your own risk.\"\n"
     ]
    },
    {
     "data": {
      "image/png": "[encoded data removed]",
      "text/plain": [
       "plot without title"
      ]
     },
     "metadata": {
      "image/png": {
       "height": 420,
       "width": 420
      }
     },
     "output_type": "display_data"
    }
   ],
   "source": [
    "training(30, 'grad_boosting', 5)"
   ]
  },
  {
   "attachments": {},
   "cell_type": "markdown",
   "metadata": {},
   "source": [
    "## 4. Feature Relevance by \"Conditional Entropy Ranking\""
   ]
  },
  {
   "attachments": {},
   "cell_type": "markdown",
   "metadata": {},
   "source": [
    "The conditional entropy algorithm utilizes two functions to derive feature relevance. Here is how each function operates:\n",
    "\n",
    "- entropy: This function takes a vector of numbers, which will serve as the predictions in our case, and calculates the relative ratio of each outcome as a percentage of the total. These ratios are then used as probability estimates to compute the entropy. Entropy is a measure of uncertainty or randomness in a set of outcomes, and it quantifies the amount of information required to describe the outcome of a random variable.\n",
    "- index_ranking: This function trains a complete model using \"n_features\" and trains additional models, each time excluding one of the features. For each model, the difference between its entropy and the entropy of the full model is calculated. The results are stored in a final dataframe, sorted in descending order of the differences.\n",
    "\n",
    "By comparing the entropy differences, we can assess the impact of excluding each feature on the overall model entropy. This provides insight into the relevance and importance of each feature in the Random Forest model. The resulting ranking of features can aid in feature selection or determining which features contribute the most to the classification task."
   ]
  },
  {
   "cell_type": "code",
   "execution_count": null,
   "metadata": {
    "vscode": {
     "languageId": "r"
    }
   },
   "outputs": [
    {
     "data": {
      "text/html": [
       "<table class=\"dataframe\">\n",
       "<caption>A data.frame: 20 × 1</caption>\n",
       "<thead>\n",
       "\t<tr><th></th><th scope=col>Index</th></tr>\n",
       "\t<tr><th></th><th scope=col>&lt;dbl&gt;</th></tr>\n",
       "</thead>\n",
       "<tbody>\n",
       "\t<tr><th scope=row>geo_level_1_id_20</th><td> 1.623364e-04</td></tr>\n",
       "\t<tr><th scope=row>has_superstructure_rc_non_engineered</th><td> 1.613074e-04</td></tr>\n",
       "\t<tr><th scope=row>age</th><td> 1.549607e-04</td></tr>\n",
       "\t<tr><th scope=row>has_superstructure_rc_engineered</th><td> 1.452269e-04</td></tr>\n",
       "\t<tr><th scope=row>count_floors_pre_eq</th><td> 1.291412e-04</td></tr>\n",
       "\t<tr><th scope=row>geo_level_1_id_17</th><td> 1.064920e-04</td></tr>\n",
       "\t<tr><th scope=row>height_percentage</th><td> 8.486351e-05</td></tr>\n",
       "\t<tr><th scope=row>foundation_type_i</th><td> 8.374436e-05</td></tr>\n",
       "\t<tr><th scope=row>has_superstructure_mud_mortar_stone</th><td> 7.185371e-05</td></tr>\n",
       "\t<tr><th scope=row>has_superstructure_cement_mortar_brick</th><td> 6.837034e-05</td></tr>\n",
       "\t<tr><th scope=row>foundation_type_r</th><td> 5.894107e-05</td></tr>\n",
       "\t<tr><th scope=row>other_floor_type_j</th><td> 4.746402e-05</td></tr>\n",
       "\t<tr><th scope=row>ground_floor_type_f</th><td> 3.208970e-05</td></tr>\n",
       "\t<tr><th scope=row>ground_floor_type_v</th><td> 2.542538e-05</td></tr>\n",
       "\t<tr><th scope=row>roof_type_x</th><td> 1.425258e-05</td></tr>\n",
       "\t<tr><th scope=row>other_floor_type_q</th><td>-8.402016e-06</td></tr>\n",
       "\t<tr><th scope=row>foundation_type_w</th><td>-3.075159e-05</td></tr>\n",
       "\t<tr><th scope=row>area_percentage</th><td>-1.051916e-04</td></tr>\n",
       "\t<tr><th scope=row>other_floor_type_s</th><td>-1.076543e-04</td></tr>\n",
       "\t<tr><th scope=row>geo_level_1_id_26</th><td>-1.268305e-04</td></tr>\n",
       "</tbody>\n",
       "</table>\n"
      ],
      "text/latex": [
       "A data.frame: 20 × 1\n",
       "\\begin{tabular}{r|l}\n",
       "  & Index\\\\\n",
       "  & <dbl>\\\\\n",
       "\\hline\n",
       "\tgeo\\_level\\_1\\_id\\_20 &  1.623364e-04\\\\\n",
       "\thas\\_superstructure\\_rc\\_non\\_engineered &  1.613074e-04\\\\\n",
       "\tage &  1.549607e-04\\\\\n",
       "\thas\\_superstructure\\_rc\\_engineered &  1.452269e-04\\\\\n",
       "\tcount\\_floors\\_pre\\_eq &  1.291412e-04\\\\\n",
       "\tgeo\\_level\\_1\\_id\\_17 &  1.064920e-04\\\\\n",
       "\theight\\_percentage &  8.486351e-05\\\\\n",
       "\tfoundation\\_type\\_i &  8.374436e-05\\\\\n",
       "\thas\\_superstructure\\_mud\\_mortar\\_stone &  7.185371e-05\\\\\n",
       "\thas\\_superstructure\\_cement\\_mortar\\_brick &  6.837034e-05\\\\\n",
       "\tfoundation\\_type\\_r &  5.894107e-05\\\\\n",
       "\tother\\_floor\\_type\\_j &  4.746402e-05\\\\\n",
       "\tground\\_floor\\_type\\_f &  3.208970e-05\\\\\n",
       "\tground\\_floor\\_type\\_v &  2.542538e-05\\\\\n",
       "\troof\\_type\\_x &  1.425258e-05\\\\\n",
       "\tother\\_floor\\_type\\_q & -8.402016e-06\\\\\n",
       "\tfoundation\\_type\\_w & -3.075159e-05\\\\\n",
       "\tarea\\_percentage & -1.051916e-04\\\\\n",
       "\tother\\_floor\\_type\\_s & -1.076543e-04\\\\\n",
       "\tgeo\\_level\\_1\\_id\\_26 & -1.268305e-04\\\\\n",
       "\\end{tabular}\n"
      ],
      "text/markdown": [
       "\n",
       "A data.frame: 20 × 1\n",
       "\n",
       "| <!--/--> | Index &lt;dbl&gt; |\n",
       "|---|---|\n",
       "| geo_level_1_id_20 |  1.623364e-04 |\n",
       "| has_superstructure_rc_non_engineered |  1.613074e-04 |\n",
       "| age |  1.549607e-04 |\n",
       "| has_superstructure_rc_engineered |  1.452269e-04 |\n",
       "| count_floors_pre_eq |  1.291412e-04 |\n",
       "| geo_level_1_id_17 |  1.064920e-04 |\n",
       "| height_percentage |  8.486351e-05 |\n",
       "| foundation_type_i |  8.374436e-05 |\n",
       "| has_superstructure_mud_mortar_stone |  7.185371e-05 |\n",
       "| has_superstructure_cement_mortar_brick |  6.837034e-05 |\n",
       "| foundation_type_r |  5.894107e-05 |\n",
       "| other_floor_type_j |  4.746402e-05 |\n",
       "| ground_floor_type_f |  3.208970e-05 |\n",
       "| ground_floor_type_v |  2.542538e-05 |\n",
       "| roof_type_x |  1.425258e-05 |\n",
       "| other_floor_type_q | -8.402016e-06 |\n",
       "| foundation_type_w | -3.075159e-05 |\n",
       "| area_percentage | -1.051916e-04 |\n",
       "| other_floor_type_s | -1.076543e-04 |\n",
       "| geo_level_1_id_26 | -1.268305e-04 |\n",
       "\n"
      ],
      "text/plain": [
       "                                       Index        \n",
       "geo_level_1_id_20                       1.623364e-04\n",
       "has_superstructure_rc_non_engineered    1.613074e-04\n",
       "age                                     1.549607e-04\n",
       "has_superstructure_rc_engineered        1.452269e-04\n",
       "count_floors_pre_eq                     1.291412e-04\n",
       "geo_level_1_id_17                       1.064920e-04\n",
       "height_percentage                       8.486351e-05\n",
       "foundation_type_i                       8.374436e-05\n",
       "has_superstructure_mud_mortar_stone     7.185371e-05\n",
       "has_superstructure_cement_mortar_brick  6.837034e-05\n",
       "foundation_type_r                       5.894107e-05\n",
       "other_floor_type_j                      4.746402e-05\n",
       "ground_floor_type_f                     3.208970e-05\n",
       "ground_floor_type_v                     2.542538e-05\n",
       "roof_type_x                             1.425258e-05\n",
       "other_floor_type_q                     -8.402016e-06\n",
       "foundation_type_w                      -3.075159e-05\n",
       "area_percentage                        -1.051916e-04\n",
       "other_floor_type_s                     -1.076543e-04\n",
       "geo_level_1_id_26                      -1.268305e-04"
      ]
     },
     "metadata": {},
     "output_type": "display_data"
    }
   ],
   "source": [
    "entropy = function(data){\n",
    "    # create the table of predictions with percentages\n",
    "    y = as.data.frame(table(data))\n",
    "    y$Freq = y$Freq / sum(y$Freq)\n",
    "\n",
    "    # add a column for computing P(y)*log(P(y))\n",
    "    y$ent = y$Freq*log(y$Freq)\n",
    "\n",
    "    # entropy\n",
    "    ent = -sum(y$ent)\n",
    "    ent\n",
    "}\n",
    "\n",
    "index_ranking = function(train_data, test_data, n_features){\n",
    "    # create a dataframe for the ranking\n",
    "    ranking = data.frame(matrix(nrow = n_features, ncol = 1))\n",
    "    rownames(ranking) = rownames(mi_df)[1:n_features]\n",
    "    colnames(ranking) = 'Index'\n",
    "\n",
    "    # let's store the variable we use in a dataframe\n",
    "    df1 = train_data[rownames(mi_df)[1:n_features]]\n",
    "    damage_grade = as.factor(as.character(train_data$damage_grade))\n",
    "    df2 = test_data[rownames(mi_df)[1:n_features]]\n",
    "\n",
    "    # train a full model\n",
    "    random_for <- randomForest(damage_grade ~ ., data = df1, classwt = classwt, ntree=100)\n",
    "    test_pred <- predict(random_for, df2, type='class') \n",
    "    entr_full = entropy(test_pred)\n",
    "\n",
    "    for (i in 1:ncol(df1)){\n",
    "        # remove the i-th feature\n",
    "        random_for2 <- randomForest(damage_grade ~ ., data = df1[, -i], classwt = classwt, ntree=100)\n",
    "        # Predict the labels for the test set\n",
    "        test_pred2 <- predict(random_for, df2, type='class') \n",
    "        # compute the entropy without the i-th \n",
    "        entr_not_full = entropy(test_pred2)\n",
    "        # index value\n",
    "        ind = entr_not_full - entr_full\n",
    "        # add in the ranking\n",
    "        feature = rownames(mi_df)[i]\n",
    "        ranking[i, 1] = ind\n",
    "    }\n",
    "    # see result\n",
    "    ranking\n",
    "    sorted_ranking <- arrange(ranking, desc(Index))\n",
    "    sorted_ranking\n",
    "}\n",
    "\n",
    "index_ranking(train_data, test_data, 20)\n"
   ]
  },
  {
   "attachments": {},
   "cell_type": "markdown",
   "metadata": {},
   "source": [
    "## 5. Submission Format\n",
    "In this section, we will outline the routine for preprocessing the test set provided in the competition and generating the necessary estimates for the final submission."
   ]
  },
  {
   "cell_type": "code",
   "execution_count": null,
   "metadata": {
    "vscode": {
     "languageId": "r"
    }
   },
   "outputs": [
    {
     "name": "stderr",
     "output_type": "stream",
     "text": [
      "Warning message:\n",
      "\"Setting `distribution = \"multinomial\"` is ill-advised as it is currently broken. It exists only for backwards compatibility. Use at your own risk.\"\n"
     ]
    }
   ],
   "source": [
    "# One-Hot Encoding\n",
    "for (col in cat_cols) {\n",
    "  dict <- unique(testset[[col]])\n",
    "  binary_matrix <- matrix(0L, nrow = nrow(testset), ncol = length(dict))\n",
    "  for (i in 1:length(dict)) {\n",
    "    binary_matrix[testset[[col]] == dict[i], i] <- 1L\n",
    "  }\n",
    "  colnames(binary_matrix) <- paste0(col, \"_\", dict)\n",
    "  testset <- cbind(testset, binary_matrix)\n",
    "}\n",
    "\n",
    "# remove the original categorical variables\n",
    "testset = testset[, !colnames(testset) %in% cat_cols]\n",
    "\n",
    "# let's store the variable we use in a dataframe\n",
    "df1 = train_data[rownames(mi_df)[1:50]] \n",
    "damage_grade = as.factor(as.character(train_data$damage_grade))\n",
    "df2 = testset[rownames(mi_df)[1:50]]\n",
    "damage_grade1 = train_data$damage_grade\n",
    "\n",
    "# Train gradient boosting gradient boosting\n",
    "gbm_model <- gbm(damage_grade1 ~ ., data = df1, distribution = \"multinomial\", n.trees = 100, interaction.depth = 3, shrinkage = 0.1)\n",
    "\n",
    "# Prediction \n",
    "pred = predict.gbm(object = gbm_model,\n",
    "                newdata = df2,\n",
    "                n.trees = 100,           \n",
    "                type = \"response\")"
   ]
  },
  {
   "cell_type": "code",
   "execution_count": null,
   "metadata": {
    "vscode": {
     "languageId": "r"
    }
   },
   "outputs": [
    {
     "data": {
      "text/html": [
       "<table class=\"dataframe\">\n",
       "<caption>A data.frame: 6 × 2</caption>\n",
       "<thead>\n",
       "\t<tr><th></th><th scope=col>building_id</th><th scope=col>damage_grade</th></tr>\n",
       "\t<tr><th></th><th scope=col>&lt;int&gt;</th><th scope=col>&lt;chr&gt;</th></tr>\n",
       "</thead>\n",
       "<tbody>\n",
       "\t<tr><th scope=row>1</th><td>300051</td><td>3</td></tr>\n",
       "\t<tr><th scope=row>2</th><td> 99355</td><td>2</td></tr>\n",
       "\t<tr><th scope=row>3</th><td>890251</td><td>2</td></tr>\n",
       "\t<tr><th scope=row>4</th><td>745817</td><td>1</td></tr>\n",
       "\t<tr><th scope=row>5</th><td>421793</td><td>3</td></tr>\n",
       "\t<tr><th scope=row>6</th><td>871976</td><td>2</td></tr>\n",
       "</tbody>\n",
       "</table>\n"
      ],
      "text/latex": [
       "A data.frame: 6 × 2\n",
       "\\begin{tabular}{r|ll}\n",
       "  & building\\_id & damage\\_grade\\\\\n",
       "  & <int> & <chr>\\\\\n",
       "\\hline\n",
       "\t1 & 300051 & 3\\\\\n",
       "\t2 &  99355 & 2\\\\\n",
       "\t3 & 890251 & 2\\\\\n",
       "\t4 & 745817 & 1\\\\\n",
       "\t5 & 421793 & 3\\\\\n",
       "\t6 & 871976 & 2\\\\\n",
       "\\end{tabular}\n"
      ],
      "text/markdown": [
       "\n",
       "A data.frame: 6 × 2\n",
       "\n",
       "| <!--/--> | building_id &lt;int&gt; | damage_grade &lt;chr&gt; |\n",
       "|---|---|---|\n",
       "| 1 | 300051 | 3 |\n",
       "| 2 |  99355 | 2 |\n",
       "| 3 | 890251 | 2 |\n",
       "| 4 | 745817 | 1 |\n",
       "| 5 | 421793 | 3 |\n",
       "| 6 | 871976 | 2 |\n",
       "\n"
      ],
      "text/plain": [
       "  building_id damage_grade\n",
       "1 300051      3           \n",
       "2  99355      2           \n",
       "3 890251      2           \n",
       "4 745817      1           \n",
       "5 421793      3           \n",
       "6 871976      2           "
      ]
     },
     "metadata": {},
     "output_type": "display_data"
    },
    {
     "data": {
      "text/html": [
       "<style>\n",
       ".list-inline {list-style: none; margin:0; padding: 0}\n",
       ".list-inline>li {display: inline-block}\n",
       ".list-inline>li:not(:last-child)::after {content: \"\\00b7\"; padding: 0 .5ex}\n",
       "</style>\n",
       "<ol class=list-inline><li>86868</li><li>2</li></ol>\n"
      ],
      "text/latex": [
       "\\begin{enumerate*}\n",
       "\\item 86868\n",
       "\\item 2\n",
       "\\end{enumerate*}\n"
      ],
      "text/markdown": [
       "1. 86868\n",
       "2. 2\n",
       "\n",
       "\n"
      ],
      "text/plain": [
       "[1] 86868     2"
      ]
     },
     "metadata": {},
     "output_type": "display_data"
    }
   ],
   "source": [
    "# prediction formatting\n",
    "labels = colnames(pred)[apply(pred, 1, which.max)]\n",
    "test_pred = as.data.frame(labels)\n",
    "\n",
    "# submission formatting\n",
    "submission = data.frame(testset$building_id, test_pred)\n",
    "colnames(submission) = c('building_id', 'damage_grade')\n",
    "head(submission)\n",
    "dim(submission)"
   ]
  },
  {
   "attachments": {},
   "cell_type": "markdown",
   "metadata": {},
   "source": [
    "# Improvements\n",
    "\n",
    "1. Fixing overfitting problems with Neural-Network\n",
    "2. Encoding geo_level 2 and 3\n",
    "3. Fetching more types of data"
   ]
  }
 ],
 "metadata": {
  "kernelspec": {
   "display_name": "R",
   "language": "R",
   "name": "ir"
  },
  "language_info": {
   "codemirror_mode": "r",
   "file_extension": ".r",
   "mimetype": "text/x-r-source",
   "name": "R",
   "pygments_lexer": "r",
   "version": "4.2.1"
  },
  "orig_nbformat": 4
 },
 "nbformat": 4,
 "nbformat_minor": 2
}
