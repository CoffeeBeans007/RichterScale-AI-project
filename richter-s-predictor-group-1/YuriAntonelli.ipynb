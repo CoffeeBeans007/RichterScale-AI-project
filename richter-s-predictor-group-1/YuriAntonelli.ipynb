{
 "cells": [
  {
   "cell_type": "code",
   "execution_count": 1,
   "metadata": {
    "vscode": {
     "languageId": "r"
    }
   },
   "outputs": [
    {
     "name": "stderr",
     "output_type": "stream",
     "text": [
      "Installazione pacchetto in 'C:/Users/yuria/Documents/R/win-library/4.1'\n",
      "(perché 'lib' non è specificato)\n",
      "\n"
     ]
    },
    {
     "name": "stdout",
     "output_type": "stream",
     "text": [
      "package 'infotheo' successfully unpacked and MD5 sums checked\n"
     ]
    },
    {
     "name": "stderr",
     "output_type": "stream",
     "text": [
      "Warning message:\n",
      "\"cannot remove prior installation of package 'infotheo'\"\n",
      "Warning message in file.copy(savedcopy, lib, recursive = TRUE):\n",
      "\"problema durante la copia di C:\\Users\\yuria\\Documents\\R\\win-library\\4.1\\00LOCK\\infotheo\\libs\\x64\\infotheo.dll in C:\\Users\\yuria\\Documents\\R\\win-library\\4.1\\infotheo\\libs\\x64\\infotheo.dll: Permission denied\"\n",
      "Warning message:\n",
      "\"restored 'infotheo'\"\n"
     ]
    },
    {
     "name": "stdout",
     "output_type": "stream",
     "text": [
      "\n",
      "The downloaded binary packages are in\n",
      "\tC:\\Users\\yuria\\AppData\\Local\\Temp\\RtmpgNiobn\\downloaded_packages\n"
     ]
    },
    {
     "name": "stderr",
     "output_type": "stream",
     "text": [
      "Installazione pacchetto in 'C:/Users/yuria/Documents/R/win-library/4.1'\n",
      "(perché 'lib' non è specificato)\n",
      "\n"
     ]
    },
    {
     "name": "stdout",
     "output_type": "stream",
     "text": [
      "package 'MLmetrics' successfully unpacked and MD5 sums checked\n",
      "\n",
      "The downloaded binary packages are in\n",
      "\tC:\\Users\\yuria\\AppData\\Local\\Temp\\RtmpgNiobn\\downloaded_packages\n"
     ]
    },
    {
     "name": "stderr",
     "output_type": "stream",
     "text": [
      "Installazione pacchetto in 'C:/Users/yuria/Documents/R/win-library/4.1'\n",
      "(perché 'lib' non è specificato)\n",
      "\n"
     ]
    },
    {
     "name": "stdout",
     "output_type": "stream",
     "text": [
      "package 'mltools' successfully unpacked and MD5 sums checked\n",
      "\n",
      "The downloaded binary packages are in\n",
      "\tC:\\Users\\yuria\\AppData\\Local\\Temp\\RtmpgNiobn\\downloaded_packages\n"
     ]
    },
    {
     "name": "stderr",
     "output_type": "stream",
     "text": [
      "Installazione pacchetto in 'C:/Users/yuria/Documents/R/win-library/4.1'\n",
      "(perché 'lib' non è specificato)\n",
      "\n"
     ]
    },
    {
     "name": "stdout",
     "output_type": "stream",
     "text": [
      "package 'randomForest' successfully unpacked and MD5 sums checked\n"
     ]
    },
    {
     "name": "stderr",
     "output_type": "stream",
     "text": [
      "Warning message:\n",
      "\"cannot remove prior installation of package 'randomForest'\"\n",
      "Warning message in file.copy(savedcopy, lib, recursive = TRUE):\n",
      "\"problema durante la copia di C:\\Users\\yuria\\Documents\\R\\win-library\\4.1\\00LOCK\\randomForest\\libs\\x64\\randomForest.dll in C:\\Users\\yuria\\Documents\\R\\win-library\\4.1\\randomForest\\libs\\x64\\randomForest.dll: Permission denied\"\n",
      "Warning message:\n",
      "\"restored 'randomForest'\"\n"
     ]
    },
    {
     "name": "stdout",
     "output_type": "stream",
     "text": [
      "\n",
      "The downloaded binary packages are in\n",
      "\tC:\\Users\\yuria\\AppData\\Local\\Temp\\RtmpgNiobn\\downloaded_packages\n"
     ]
    },
    {
     "name": "stderr",
     "output_type": "stream",
     "text": [
      "Warning message:\n",
      "\"il pacchetto 'dplyr' è stato creato con R versione 4.1.3\"\n",
      "\n",
      "Caricamento pacchetto: 'dplyr'\n",
      "\n",
      "\n",
      "I seguenti oggetti sono mascherati da 'package:stats':\n",
      "\n",
      "    filter, lag\n",
      "\n",
      "\n",
      "I seguenti oggetti sono mascherati da 'package:base':\n",
      "\n",
      "    intersect, setdiff, setequal, union\n",
      "\n",
      "\n",
      "Warning message:\n",
      "\"il pacchetto 'ggplot2' è stato creato con R versione 4.3.0\"\n",
      "Warning message:\n",
      "\"il pacchetto 'mltools' è stato creato con R versione 4.1.3\"\n",
      "Warning message:\n",
      "\"il pacchetto 'data.table' è stato creato con R versione 4.1.3\"\n",
      "\n",
      "Caricamento pacchetto: 'data.table'\n",
      "\n",
      "\n",
      "I seguenti oggetti sono mascherati da 'package:dplyr':\n",
      "\n",
      "    between, first, last\n",
      "\n",
      "\n",
      "Warning message:\n",
      "\"il pacchetto 'infotheo' è stato creato con R versione 4.1.3\"\n",
      "Warning message:\n",
      "\"il pacchetto 'randomForest' è stato creato con R versione 4.1.3\"\n",
      "randomForest 4.7-1.1\n",
      "\n",
      "Type rfNews() to see new features/changes/bug fixes.\n",
      "\n",
      "\n",
      "Caricamento pacchetto: 'randomForest'\n",
      "\n",
      "\n",
      "Il seguente oggetto è mascherato da 'package:ggplot2':\n",
      "\n",
      "    margin\n",
      "\n",
      "\n",
      "Il seguente oggetto è mascherato da 'package:dplyr':\n",
      "\n",
      "    combine\n",
      "\n",
      "\n",
      "Warning message:\n",
      "\"il pacchetto 'MLmetrics' è stato creato con R versione 4.1.3\"\n",
      "\n",
      "Caricamento pacchetto: 'MLmetrics'\n",
      "\n",
      "\n",
      "Il seguente oggetto è mascherato da 'package:base':\n",
      "\n",
      "    Recall\n",
      "\n",
      "\n",
      "Warning message:\n",
      "\"il pacchetto 'gbm' è stato creato con R versione 4.3.0\"\n",
      "Loaded gbm 2.1.8.1\n",
      "\n"
     ]
    },
    {
     "name": "stdout",
     "output_type": "stream",
     "text": [
      "[1] \"All libraries are loaded\"\n"
     ]
    }
   ],
   "source": [
    "# import libraries\n",
    "install.packages('infotheo')\n",
    "install.packages('MLmetrics')\n",
    "install.packages(\"mltools\")\n",
    "install.packages(\"randomForest\")\n",
    "library(dplyr)\n",
    "library(ggplot2)\n",
    "library(mltools)\n",
    "library(data.table)\n",
    "library(infotheo)\n",
    "library(rpart)\n",
    "library(randomForest)\n",
    "library(MLmetrics)\n",
    "library(gbm)\n",
    "print('All libraries are loaded')"
   ]
  },
  {
   "attachments": {},
   "cell_type": "markdown",
   "metadata": {},
   "source": [
    "# Richter's Predictor: Modeling Earthquake Damage\n",
    "Modeling how different variables affect the odds of different damage outcomes to buildings after the 2015 Gorkha earthquake in Nepal\n",
    "\n",
    "by: <u>Jean-Christophe Gaudreau</u> and <u>Yuri Antonelli</u>"
   ]
  },
  {
   "cell_type": "code",
   "execution_count": 2,
   "metadata": {
    "vscode": {
     "languageId": "r"
    }
   },
   "outputs": [],
   "source": [
    "# Import data\n",
    "trainset=read.csv(\"train_labels.csv\")\n",
    "trainvalues=read.csv(\"train_values.csv\")\n",
    "testset=read.csv(\"test_values.csv\")\n",
    "subset=read.csv(\"submission_format.csv\")"
   ]
  },
  {
   "attachments": {},
   "cell_type": "markdown",
   "metadata": {},
   "source": [
    "Here are the different functions that will be utilized for testing the our predictions"
   ]
  },
  {
   "cell_type": "code",
   "execution_count": 3,
   "metadata": {
    "vscode": {
     "languageId": "r"
    }
   },
   "outputs": [],
   "source": [
    "ConfusionMatrix <- function(y_pred, y_true) {\n",
    "  Confusion_Mat <- table(y_true, y_pred)\n",
    "  return(Confusion_Mat)\n",
    "}\n",
    " \n",
    "ConfusionDF <- function(y_pred, y_true) {\n",
    "  Confusion_DF <- transform(as.data.frame(ConfusionMatrix(y_pred, y_true)),\n",
    "                            y_true = as.character(y_true),\n",
    "                            y_pred = as.character(y_pred),\n",
    "                            Freq = as.integer(Freq))\n",
    "  return(Confusion_DF)\n",
    "}\n",
    " \n",
    "Precision_micro <- function(y_true, y_pred, labels = NULL) {\n",
    "  Confusion_DF <- ConfusionDF(y_pred, y_true)\n",
    " \n",
    "  if (is.null(labels) == TRUE) labels <- unique(c(y_true, y_pred))\n",
    "  # this is not bulletproof since there might be labels missing (in strange cases)\n",
    "  # in strange cases where they existed in training set but are missing from test ground truth and predictions.\n",
    " \n",
    "  TP <- c()\n",
    "  FP <- c()\n",
    "  for (i in c(1:length(labels))) {\n",
    "    positive <- labels[i]\n",
    "   \n",
    "    # it may happen that a label is never predicted (missing from y_pred) but exists in y_true\n",
    "    # in this case ConfusionDF will not have these lines and thus the simplified code crashes\n",
    "    # TP[i] <- as.integer(Confusion_DF[which(Confusion_DF$y_true==positive & Confusion_DF$y_pred==positive), \"Freq\"])\n",
    "    # FP[i] <- as.integer(sum(Confusion_DF[which(Confusion_DF$y_true!=positive & Confusion_DF$y_pred==positive), \"Freq\"]))\n",
    "   \n",
    "    # workaround:\n",
    "    # i don't want to change ConfusionDF since i don't know if the current behaviour is a feature or a bug.\n",
    "    tmp <- Confusion_DF[which(Confusion_DF$y_true==positive & Confusion_DF$y_pred==positive), \"Freq\"]\n",
    "    TP[i] <- if (length(tmp)==0) 0 else as.integer(tmp)\n",
    "   \n",
    "    tmp <- Confusion_DF[which(Confusion_DF$y_true!=positive & Confusion_DF$y_pred==positive), \"Freq\"]\n",
    "    FP[i] <- if (length(tmp)==0) 0 else as.integer(sum(tmp))\n",
    "  }\n",
    "  Precision_micro <- sum(TP) / (sum(TP) + sum(FP))\n",
    "  return(Precision_micro)\n",
    "}\n",
    " \n",
    "Recall_micro <- function(y_true, y_pred, labels = NULL) {\n",
    "  Confusion_DF <- ConfusionDF(y_pred, y_true)\n",
    " \n",
    "  if (is.null(labels) == TRUE) labels <- unique(c(y_true, y_pred))\n",
    "  # this is not bulletproof since there might be labels missing (in strange cases)\n",
    "  # in strange cases where they existed in training set but are missing from test ground truth and predictions.\n",
    " \n",
    "  TP <- c()\n",
    "  FN <- c()\n",
    "  for (i in c(1:length(labels))) {\n",
    "    positive <- labels[i]\n",
    "   \n",
    "    # short version, comment out due to bug or feature of Confusion_DF\n",
    "    # TP[i] <- as.integer(Confusion_DF[which(Confusion_DF$y_true==positive & Confusion_DF$y_pred==positive), \"Freq\"])\n",
    "    # FP[i] <- as.integer(sum(Confusion_DF[which(Confusion_DF$y_true==positive & Confusion_DF$y_pred!=positive), \"Freq\"]))\n",
    "   \n",
    "    # workaround:\n",
    "    tmp <- Confusion_DF[which(Confusion_DF$y_true==positive & Confusion_DF$y_pred==positive), \"Freq\"]\n",
    "    TP[i] <- if (length(tmp)==0) 0 else as.integer(tmp)\n",
    " \n",
    "    tmp <- Confusion_DF[which(Confusion_DF$y_true==positive & Confusion_DF$y_pred!=positive), \"Freq\"]\n",
    "    FN[i] <- if (length(tmp)==0) 0 else as.integer(sum(tmp))\n",
    "  }\n",
    "  Recall_micro <- sum(TP) / (sum(TP) + sum(FN))\n",
    "  return(Recall_micro)\n",
    "}\n",
    " \n",
    "F1_Score_micro <- function(y_true, y_pred, labels = NULL) {\n",
    "  if (is.null(labels) == TRUE) labels <- unique(c(y_true, y_pred)) # possible problems if labels are missing from y_*\n",
    "  Precision <- Precision_micro(y_true, y_pred, labels)\n",
    "  Recall <- Recall_micro(y_true, y_pred, labels)\n",
    "  F1_Score_micro <- 2 * (Precision * Recall) / (Precision + Recall)\n",
    "  return(F1_Score_micro)\n",
    "}"
   ]
  },
  {
   "attachments": {},
   "cell_type": "markdown",
   "metadata": {},
   "source": [
    "## 1. Data preprocessing\n",
    "Lets first implement a preprocessing pipeline to remove unnecessary data and filter categorical data"
   ]
  },
  {
   "attachments": {},
   "cell_type": "markdown",
   "metadata": {},
   "source": [
    "### 1.1 Exploratory Data Analysis"
   ]
  },
  {
   "cell_type": "code",
   "execution_count": 4,
   "metadata": {
    "vscode": {
     "languageId": "r"
    }
   },
   "outputs": [
    {
     "data": {
      "text/html": [
       "<table class=\"dataframe\">\n",
       "<caption>A data.frame: 6 × 2</caption>\n",
       "<thead>\n",
       "\t<tr><th></th><th scope=col>building_id</th><th scope=col>damage_grade</th></tr>\n",
       "\t<tr><th></th><th scope=col>&lt;int&gt;</th><th scope=col>&lt;int&gt;</th></tr>\n",
       "</thead>\n",
       "<tbody>\n",
       "\t<tr><th scope=row>1</th><td>802906</td><td>3</td></tr>\n",
       "\t<tr><th scope=row>2</th><td> 28830</td><td>2</td></tr>\n",
       "\t<tr><th scope=row>3</th><td> 94947</td><td>3</td></tr>\n",
       "\t<tr><th scope=row>4</th><td>590882</td><td>2</td></tr>\n",
       "\t<tr><th scope=row>5</th><td>201944</td><td>3</td></tr>\n",
       "\t<tr><th scope=row>6</th><td>333020</td><td>2</td></tr>\n",
       "</tbody>\n",
       "</table>\n"
      ],
      "text/latex": [
       "A data.frame: 6 × 2\n",
       "\\begin{tabular}{r|ll}\n",
       "  & building\\_id & damage\\_grade\\\\\n",
       "  & <int> & <int>\\\\\n",
       "\\hline\n",
       "\t1 & 802906 & 3\\\\\n",
       "\t2 &  28830 & 2\\\\\n",
       "\t3 &  94947 & 3\\\\\n",
       "\t4 & 590882 & 2\\\\\n",
       "\t5 & 201944 & 3\\\\\n",
       "\t6 & 333020 & 2\\\\\n",
       "\\end{tabular}\n"
      ],
      "text/markdown": [
       "\n",
       "A data.frame: 6 × 2\n",
       "\n",
       "| <!--/--> | building_id &lt;int&gt; | damage_grade &lt;int&gt; |\n",
       "|---|---|---|\n",
       "| 1 | 802906 | 3 |\n",
       "| 2 |  28830 | 2 |\n",
       "| 3 |  94947 | 3 |\n",
       "| 4 | 590882 | 2 |\n",
       "| 5 | 201944 | 3 |\n",
       "| 6 | 333020 | 2 |\n",
       "\n"
      ],
      "text/plain": [
       "  building_id damage_grade\n",
       "1 802906      3           \n",
       "2  28830      2           \n",
       "3  94947      3           \n",
       "4 590882      2           \n",
       "5 201944      3           \n",
       "6 333020      2           "
      ]
     },
     "metadata": {},
     "output_type": "display_data"
    },
    {
     "data": {
      "text/html": [
       "<style>\n",
       ".list-inline {list-style: none; margin:0; padding: 0}\n",
       ".list-inline>li {display: inline-block}\n",
       ".list-inline>li:not(:last-child)::after {content: \"\\00b7\"; padding: 0 .5ex}\n",
       "</style>\n",
       "<ol class=list-inline><li>260601</li><li>2</li></ol>\n"
      ],
      "text/latex": [
       "\\begin{enumerate*}\n",
       "\\item 260601\n",
       "\\item 2\n",
       "\\end{enumerate*}\n"
      ],
      "text/markdown": [
       "1. 260601\n",
       "2. 2\n",
       "\n",
       "\n"
      ],
      "text/plain": [
       "[1] 260601      2"
      ]
     },
     "metadata": {},
     "output_type": "display_data"
    }
   ],
   "source": [
    "head(trainset)\n",
    "dim(trainset)"
   ]
  },
  {
   "cell_type": "code",
   "execution_count": 5,
   "metadata": {
    "vscode": {
     "languageId": "r"
    }
   },
   "outputs": [
    {
     "data": {
      "image/png": "[encoded data removed]",
      "text/plain": [
       "plot without title"
      ]
     },
     "metadata": {
      "image/png": {
       "height": 420,
       "width": 420
      }
     },
     "output_type": "display_data"
    }
   ],
   "source": [
    "#Let's plot the histogramme of the target variable- damage_grade\n",
    "ggplot(trainset, aes(x = damage_grade)) + \n",
    "  geom_histogram(binwidth = 1, fill = \"blue\", color = \"black\") + \n",
    "  ggtitle(\"Histogram of Sample Data\") + \n",
    "  xlab(\"Values\") + \n",
    "  ylab(\"Frequency\")"
   ]
  },
  {
   "attachments": {},
   "cell_type": "markdown",
   "metadata": {},
   "source": [
    "First thing we can notice is the unbalancedness of our target variable, which can affect tremendously the efficiency of our algorithms."
   ]
  },
  {
   "cell_type": "code",
   "execution_count": 6,
   "metadata": {
    "vscode": {
     "languageId": "r"
    }
   },
   "outputs": [
    {
     "data": {
      "text/html": [
       "<table class=\"dataframe\">\n",
       "<caption>A data.frame: 6 × 39</caption>\n",
       "<thead>\n",
       "\t<tr><th></th><th scope=col>building_id</th><th scope=col>geo_level_1_id</th><th scope=col>geo_level_2_id</th><th scope=col>geo_level_3_id</th><th scope=col>count_floors_pre_eq</th><th scope=col>age</th><th scope=col>area_percentage</th><th scope=col>height_percentage</th><th scope=col>land_surface_condition</th><th scope=col>foundation_type</th><th scope=col>...</th><th scope=col>has_secondary_use_agriculture</th><th scope=col>has_secondary_use_hotel</th><th scope=col>has_secondary_use_rental</th><th scope=col>has_secondary_use_institution</th><th scope=col>has_secondary_use_school</th><th scope=col>has_secondary_use_industry</th><th scope=col>has_secondary_use_health_post</th><th scope=col>has_secondary_use_gov_office</th><th scope=col>has_secondary_use_use_police</th><th scope=col>has_secondary_use_other</th></tr>\n",
       "\t<tr><th></th><th scope=col>&lt;int&gt;</th><th scope=col>&lt;int&gt;</th><th scope=col>&lt;int&gt;</th><th scope=col>&lt;int&gt;</th><th scope=col>&lt;int&gt;</th><th scope=col>&lt;int&gt;</th><th scope=col>&lt;int&gt;</th><th scope=col>&lt;int&gt;</th><th scope=col>&lt;chr&gt;</th><th scope=col>&lt;chr&gt;</th><th scope=col>...</th><th scope=col>&lt;int&gt;</th><th scope=col>&lt;int&gt;</th><th scope=col>&lt;int&gt;</th><th scope=col>&lt;int&gt;</th><th scope=col>&lt;int&gt;</th><th scope=col>&lt;int&gt;</th><th scope=col>&lt;int&gt;</th><th scope=col>&lt;int&gt;</th><th scope=col>&lt;int&gt;</th><th scope=col>&lt;int&gt;</th></tr>\n",
       "</thead>\n",
       "<tbody>\n",
       "\t<tr><th scope=row>1</th><td>802906</td><td> 6</td><td>487</td><td>12198</td><td>2</td><td>30</td><td>6</td><td>5</td><td>t</td><td>r</td><td>...</td><td>0</td><td>0</td><td>0</td><td>0</td><td>0</td><td>0</td><td>0</td><td>0</td><td>0</td><td>0</td></tr>\n",
       "\t<tr><th scope=row>2</th><td> 28830</td><td> 8</td><td>900</td><td> 2812</td><td>2</td><td>10</td><td>8</td><td>7</td><td>o</td><td>r</td><td>...</td><td>0</td><td>0</td><td>0</td><td>0</td><td>0</td><td>0</td><td>0</td><td>0</td><td>0</td><td>0</td></tr>\n",
       "\t<tr><th scope=row>3</th><td> 94947</td><td>21</td><td>363</td><td> 8973</td><td>2</td><td>10</td><td>5</td><td>5</td><td>t</td><td>r</td><td>...</td><td>0</td><td>0</td><td>0</td><td>0</td><td>0</td><td>0</td><td>0</td><td>0</td><td>0</td><td>0</td></tr>\n",
       "\t<tr><th scope=row>4</th><td>590882</td><td>22</td><td>418</td><td>10694</td><td>2</td><td>10</td><td>6</td><td>5</td><td>t</td><td>r</td><td>...</td><td>0</td><td>0</td><td>0</td><td>0</td><td>0</td><td>0</td><td>0</td><td>0</td><td>0</td><td>0</td></tr>\n",
       "\t<tr><th scope=row>5</th><td>201944</td><td>11</td><td>131</td><td> 1488</td><td>3</td><td>30</td><td>8</td><td>9</td><td>t</td><td>r</td><td>...</td><td>0</td><td>0</td><td>0</td><td>0</td><td>0</td><td>0</td><td>0</td><td>0</td><td>0</td><td>0</td></tr>\n",
       "\t<tr><th scope=row>6</th><td>333020</td><td> 8</td><td>558</td><td> 6089</td><td>2</td><td>10</td><td>9</td><td>5</td><td>t</td><td>r</td><td>...</td><td>1</td><td>0</td><td>0</td><td>0</td><td>0</td><td>0</td><td>0</td><td>0</td><td>0</td><td>0</td></tr>\n",
       "</tbody>\n",
       "</table>\n"
      ],
      "text/latex": [
       "A data.frame: 6 × 39\n",
       "\\begin{tabular}{r|lllllllllllllllllllll}\n",
       "  & building\\_id & geo\\_level\\_1\\_id & geo\\_level\\_2\\_id & geo\\_level\\_3\\_id & count\\_floors\\_pre\\_eq & age & area\\_percentage & height\\_percentage & land\\_surface\\_condition & foundation\\_type & ... & has\\_secondary\\_use\\_agriculture & has\\_secondary\\_use\\_hotel & has\\_secondary\\_use\\_rental & has\\_secondary\\_use\\_institution & has\\_secondary\\_use\\_school & has\\_secondary\\_use\\_industry & has\\_secondary\\_use\\_health\\_post & has\\_secondary\\_use\\_gov\\_office & has\\_secondary\\_use\\_use\\_police & has\\_secondary\\_use\\_other\\\\\n",
       "  & <int> & <int> & <int> & <int> & <int> & <int> & <int> & <int> & <chr> & <chr> & ... & <int> & <int> & <int> & <int> & <int> & <int> & <int> & <int> & <int> & <int>\\\\\n",
       "\\hline\n",
       "\t1 & 802906 &  6 & 487 & 12198 & 2 & 30 & 6 & 5 & t & r & ... & 0 & 0 & 0 & 0 & 0 & 0 & 0 & 0 & 0 & 0\\\\\n",
       "\t2 &  28830 &  8 & 900 &  2812 & 2 & 10 & 8 & 7 & o & r & ... & 0 & 0 & 0 & 0 & 0 & 0 & 0 & 0 & 0 & 0\\\\\n",
       "\t3 &  94947 & 21 & 363 &  8973 & 2 & 10 & 5 & 5 & t & r & ... & 0 & 0 & 0 & 0 & 0 & 0 & 0 & 0 & 0 & 0\\\\\n",
       "\t4 & 590882 & 22 & 418 & 10694 & 2 & 10 & 6 & 5 & t & r & ... & 0 & 0 & 0 & 0 & 0 & 0 & 0 & 0 & 0 & 0\\\\\n",
       "\t5 & 201944 & 11 & 131 &  1488 & 3 & 30 & 8 & 9 & t & r & ... & 0 & 0 & 0 & 0 & 0 & 0 & 0 & 0 & 0 & 0\\\\\n",
       "\t6 & 333020 &  8 & 558 &  6089 & 2 & 10 & 9 & 5 & t & r & ... & 1 & 0 & 0 & 0 & 0 & 0 & 0 & 0 & 0 & 0\\\\\n",
       "\\end{tabular}\n"
      ],
      "text/markdown": [
       "\n",
       "A data.frame: 6 × 39\n",
       "\n",
       "| <!--/--> | building_id &lt;int&gt; | geo_level_1_id &lt;int&gt; | geo_level_2_id &lt;int&gt; | geo_level_3_id &lt;int&gt; | count_floors_pre_eq &lt;int&gt; | age &lt;int&gt; | area_percentage &lt;int&gt; | height_percentage &lt;int&gt; | land_surface_condition &lt;chr&gt; | foundation_type &lt;chr&gt; | ... ... | has_secondary_use_agriculture &lt;int&gt; | has_secondary_use_hotel &lt;int&gt; | has_secondary_use_rental &lt;int&gt; | has_secondary_use_institution &lt;int&gt; | has_secondary_use_school &lt;int&gt; | has_secondary_use_industry &lt;int&gt; | has_secondary_use_health_post &lt;int&gt; | has_secondary_use_gov_office &lt;int&gt; | has_secondary_use_use_police &lt;int&gt; | has_secondary_use_other &lt;int&gt; |\n",
       "|---|---|---|---|---|---|---|---|---|---|---|---|---|---|---|---|---|---|---|---|---|---|\n",
       "| 1 | 802906 |  6 | 487 | 12198 | 2 | 30 | 6 | 5 | t | r | ... | 0 | 0 | 0 | 0 | 0 | 0 | 0 | 0 | 0 | 0 |\n",
       "| 2 |  28830 |  8 | 900 |  2812 | 2 | 10 | 8 | 7 | o | r | ... | 0 | 0 | 0 | 0 | 0 | 0 | 0 | 0 | 0 | 0 |\n",
       "| 3 |  94947 | 21 | 363 |  8973 | 2 | 10 | 5 | 5 | t | r | ... | 0 | 0 | 0 | 0 | 0 | 0 | 0 | 0 | 0 | 0 |\n",
       "| 4 | 590882 | 22 | 418 | 10694 | 2 | 10 | 6 | 5 | t | r | ... | 0 | 0 | 0 | 0 | 0 | 0 | 0 | 0 | 0 | 0 |\n",
       "| 5 | 201944 | 11 | 131 |  1488 | 3 | 30 | 8 | 9 | t | r | ... | 0 | 0 | 0 | 0 | 0 | 0 | 0 | 0 | 0 | 0 |\n",
       "| 6 | 333020 |  8 | 558 |  6089 | 2 | 10 | 9 | 5 | t | r | ... | 1 | 0 | 0 | 0 | 0 | 0 | 0 | 0 | 0 | 0 |\n",
       "\n"
      ],
      "text/plain": [
       "  building_id geo_level_1_id geo_level_2_id geo_level_3_id count_floors_pre_eq\n",
       "1 802906       6             487            12198          2                  \n",
       "2  28830       8             900             2812          2                  \n",
       "3  94947      21             363             8973          2                  \n",
       "4 590882      22             418            10694          2                  \n",
       "5 201944      11             131             1488          3                  \n",
       "6 333020       8             558             6089          2                  \n",
       "  age area_percentage height_percentage land_surface_condition foundation_type\n",
       "1 30  6               5                 t                      r              \n",
       "2 10  8               7                 o                      r              \n",
       "3 10  5               5                 t                      r              \n",
       "4 10  6               5                 t                      r              \n",
       "5 30  8               9                 t                      r              \n",
       "6 10  9               5                 t                      r              \n",
       "  ... has_secondary_use_agriculture has_secondary_use_hotel\n",
       "1 ... 0                             0                      \n",
       "2 ... 0                             0                      \n",
       "3 ... 0                             0                      \n",
       "4 ... 0                             0                      \n",
       "5 ... 0                             0                      \n",
       "6 ... 1                             0                      \n",
       "  has_secondary_use_rental has_secondary_use_institution\n",
       "1 0                        0                            \n",
       "2 0                        0                            \n",
       "3 0                        0                            \n",
       "4 0                        0                            \n",
       "5 0                        0                            \n",
       "6 0                        0                            \n",
       "  has_secondary_use_school has_secondary_use_industry\n",
       "1 0                        0                         \n",
       "2 0                        0                         \n",
       "3 0                        0                         \n",
       "4 0                        0                         \n",
       "5 0                        0                         \n",
       "6 0                        0                         \n",
       "  has_secondary_use_health_post has_secondary_use_gov_office\n",
       "1 0                             0                           \n",
       "2 0                             0                           \n",
       "3 0                             0                           \n",
       "4 0                             0                           \n",
       "5 0                             0                           \n",
       "6 0                             0                           \n",
       "  has_secondary_use_use_police has_secondary_use_other\n",
       "1 0                            0                      \n",
       "2 0                            0                      \n",
       "3 0                            0                      \n",
       "4 0                            0                      \n",
       "5 0                            0                      \n",
       "6 0                            0                      "
      ]
     },
     "metadata": {},
     "output_type": "display_data"
    },
    {
     "data": {
      "text/html": [
       "<style>\n",
       ".list-inline {list-style: none; margin:0; padding: 0}\n",
       ".list-inline>li {display: inline-block}\n",
       ".list-inline>li:not(:last-child)::after {content: \"\\00b7\"; padding: 0 .5ex}\n",
       "</style>\n",
       "<ol class=list-inline><li>260601</li><li>39</li></ol>\n"
      ],
      "text/latex": [
       "\\begin{enumerate*}\n",
       "\\item 260601\n",
       "\\item 39\n",
       "\\end{enumerate*}\n"
      ],
      "text/markdown": [
       "1. 260601\n",
       "2. 39\n",
       "\n",
       "\n"
      ],
      "text/plain": [
       "[1] 260601     39"
      ]
     },
     "metadata": {},
     "output_type": "display_data"
    }
   ],
   "source": [
    "head(trainvalues)\n",
    "dim(trainvalues)"
   ]
  },
  {
   "cell_type": "code",
   "execution_count": 7,
   "metadata": {
    "vscode": {
     "languageId": "r"
    }
   },
   "outputs": [
    {
     "data": {
      "text/html": [
       "<table class=\"dataframe\">\n",
       "<caption>A data.frame: 6 × 39</caption>\n",
       "<thead>\n",
       "\t<tr><th></th><th scope=col>building_id</th><th scope=col>geo_level_1_id</th><th scope=col>geo_level_2_id</th><th scope=col>geo_level_3_id</th><th scope=col>count_floors_pre_eq</th><th scope=col>age</th><th scope=col>area_percentage</th><th scope=col>height_percentage</th><th scope=col>land_surface_condition</th><th scope=col>foundation_type</th><th scope=col>...</th><th scope=col>has_secondary_use_agriculture</th><th scope=col>has_secondary_use_hotel</th><th scope=col>has_secondary_use_rental</th><th scope=col>has_secondary_use_institution</th><th scope=col>has_secondary_use_school</th><th scope=col>has_secondary_use_industry</th><th scope=col>has_secondary_use_health_post</th><th scope=col>has_secondary_use_gov_office</th><th scope=col>has_secondary_use_use_police</th><th scope=col>has_secondary_use_other</th></tr>\n",
       "\t<tr><th></th><th scope=col>&lt;int&gt;</th><th scope=col>&lt;int&gt;</th><th scope=col>&lt;int&gt;</th><th scope=col>&lt;int&gt;</th><th scope=col>&lt;int&gt;</th><th scope=col>&lt;int&gt;</th><th scope=col>&lt;int&gt;</th><th scope=col>&lt;int&gt;</th><th scope=col>&lt;chr&gt;</th><th scope=col>&lt;chr&gt;</th><th scope=col>...</th><th scope=col>&lt;int&gt;</th><th scope=col>&lt;int&gt;</th><th scope=col>&lt;int&gt;</th><th scope=col>&lt;int&gt;</th><th scope=col>&lt;int&gt;</th><th scope=col>&lt;int&gt;</th><th scope=col>&lt;int&gt;</th><th scope=col>&lt;int&gt;</th><th scope=col>&lt;int&gt;</th><th scope=col>&lt;int&gt;</th></tr>\n",
       "</thead>\n",
       "<tbody>\n",
       "\t<tr><th scope=row>1</th><td>300051</td><td>17</td><td>596</td><td>11307</td><td>3</td><td>20</td><td> 7</td><td>6</td><td>t</td><td>r</td><td>...</td><td>0</td><td>0</td><td>0</td><td>0</td><td>0</td><td>0</td><td>0</td><td>0</td><td>0</td><td>0</td></tr>\n",
       "\t<tr><th scope=row>2</th><td> 99355</td><td> 6</td><td>141</td><td>11987</td><td>2</td><td>25</td><td>13</td><td>5</td><td>t</td><td>r</td><td>...</td><td>1</td><td>0</td><td>0</td><td>0</td><td>0</td><td>0</td><td>0</td><td>0</td><td>0</td><td>0</td></tr>\n",
       "\t<tr><th scope=row>3</th><td>890251</td><td>22</td><td> 19</td><td>10044</td><td>2</td><td> 5</td><td> 4</td><td>5</td><td>t</td><td>r</td><td>...</td><td>0</td><td>0</td><td>0</td><td>0</td><td>0</td><td>0</td><td>0</td><td>0</td><td>0</td><td>0</td></tr>\n",
       "\t<tr><th scope=row>4</th><td>745817</td><td>26</td><td> 39</td><td>  633</td><td>1</td><td> 0</td><td>19</td><td>3</td><td>t</td><td>r</td><td>...</td><td>0</td><td>0</td><td>1</td><td>0</td><td>0</td><td>0</td><td>0</td><td>0</td><td>0</td><td>0</td></tr>\n",
       "\t<tr><th scope=row>5</th><td>421793</td><td>17</td><td>289</td><td> 7970</td><td>3</td><td>15</td><td> 8</td><td>7</td><td>t</td><td>r</td><td>...</td><td>0</td><td>0</td><td>0</td><td>0</td><td>0</td><td>0</td><td>0</td><td>0</td><td>0</td><td>0</td></tr>\n",
       "\t<tr><th scope=row>6</th><td>871976</td><td>22</td><td>170</td><td> 4029</td><td>1</td><td>55</td><td> 4</td><td>3</td><td>t</td><td>r</td><td>...</td><td>0</td><td>0</td><td>0</td><td>0</td><td>0</td><td>0</td><td>0</td><td>0</td><td>0</td><td>0</td></tr>\n",
       "</tbody>\n",
       "</table>\n"
      ],
      "text/latex": [
       "A data.frame: 6 × 39\n",
       "\\begin{tabular}{r|lllllllllllllllllllll}\n",
       "  & building\\_id & geo\\_level\\_1\\_id & geo\\_level\\_2\\_id & geo\\_level\\_3\\_id & count\\_floors\\_pre\\_eq & age & area\\_percentage & height\\_percentage & land\\_surface\\_condition & foundation\\_type & ... & has\\_secondary\\_use\\_agriculture & has\\_secondary\\_use\\_hotel & has\\_secondary\\_use\\_rental & has\\_secondary\\_use\\_institution & has\\_secondary\\_use\\_school & has\\_secondary\\_use\\_industry & has\\_secondary\\_use\\_health\\_post & has\\_secondary\\_use\\_gov\\_office & has\\_secondary\\_use\\_use\\_police & has\\_secondary\\_use\\_other\\\\\n",
       "  & <int> & <int> & <int> & <int> & <int> & <int> & <int> & <int> & <chr> & <chr> & ... & <int> & <int> & <int> & <int> & <int> & <int> & <int> & <int> & <int> & <int>\\\\\n",
       "\\hline\n",
       "\t1 & 300051 & 17 & 596 & 11307 & 3 & 20 &  7 & 6 & t & r & ... & 0 & 0 & 0 & 0 & 0 & 0 & 0 & 0 & 0 & 0\\\\\n",
       "\t2 &  99355 &  6 & 141 & 11987 & 2 & 25 & 13 & 5 & t & r & ... & 1 & 0 & 0 & 0 & 0 & 0 & 0 & 0 & 0 & 0\\\\\n",
       "\t3 & 890251 & 22 &  19 & 10044 & 2 &  5 &  4 & 5 & t & r & ... & 0 & 0 & 0 & 0 & 0 & 0 & 0 & 0 & 0 & 0\\\\\n",
       "\t4 & 745817 & 26 &  39 &   633 & 1 &  0 & 19 & 3 & t & r & ... & 0 & 0 & 1 & 0 & 0 & 0 & 0 & 0 & 0 & 0\\\\\n",
       "\t5 & 421793 & 17 & 289 &  7970 & 3 & 15 &  8 & 7 & t & r & ... & 0 & 0 & 0 & 0 & 0 & 0 & 0 & 0 & 0 & 0\\\\\n",
       "\t6 & 871976 & 22 & 170 &  4029 & 1 & 55 &  4 & 3 & t & r & ... & 0 & 0 & 0 & 0 & 0 & 0 & 0 & 0 & 0 & 0\\\\\n",
       "\\end{tabular}\n"
      ],
      "text/markdown": [
       "\n",
       "A data.frame: 6 × 39\n",
       "\n",
       "| <!--/--> | building_id &lt;int&gt; | geo_level_1_id &lt;int&gt; | geo_level_2_id &lt;int&gt; | geo_level_3_id &lt;int&gt; | count_floors_pre_eq &lt;int&gt; | age &lt;int&gt; | area_percentage &lt;int&gt; | height_percentage &lt;int&gt; | land_surface_condition &lt;chr&gt; | foundation_type &lt;chr&gt; | ... ... | has_secondary_use_agriculture &lt;int&gt; | has_secondary_use_hotel &lt;int&gt; | has_secondary_use_rental &lt;int&gt; | has_secondary_use_institution &lt;int&gt; | has_secondary_use_school &lt;int&gt; | has_secondary_use_industry &lt;int&gt; | has_secondary_use_health_post &lt;int&gt; | has_secondary_use_gov_office &lt;int&gt; | has_secondary_use_use_police &lt;int&gt; | has_secondary_use_other &lt;int&gt; |\n",
       "|---|---|---|---|---|---|---|---|---|---|---|---|---|---|---|---|---|---|---|---|---|---|\n",
       "| 1 | 300051 | 17 | 596 | 11307 | 3 | 20 |  7 | 6 | t | r | ... | 0 | 0 | 0 | 0 | 0 | 0 | 0 | 0 | 0 | 0 |\n",
       "| 2 |  99355 |  6 | 141 | 11987 | 2 | 25 | 13 | 5 | t | r | ... | 1 | 0 | 0 | 0 | 0 | 0 | 0 | 0 | 0 | 0 |\n",
       "| 3 | 890251 | 22 |  19 | 10044 | 2 |  5 |  4 | 5 | t | r | ... | 0 | 0 | 0 | 0 | 0 | 0 | 0 | 0 | 0 | 0 |\n",
       "| 4 | 745817 | 26 |  39 |   633 | 1 |  0 | 19 | 3 | t | r | ... | 0 | 0 | 1 | 0 | 0 | 0 | 0 | 0 | 0 | 0 |\n",
       "| 5 | 421793 | 17 | 289 |  7970 | 3 | 15 |  8 | 7 | t | r | ... | 0 | 0 | 0 | 0 | 0 | 0 | 0 | 0 | 0 | 0 |\n",
       "| 6 | 871976 | 22 | 170 |  4029 | 1 | 55 |  4 | 3 | t | r | ... | 0 | 0 | 0 | 0 | 0 | 0 | 0 | 0 | 0 | 0 |\n",
       "\n"
      ],
      "text/plain": [
       "  building_id geo_level_1_id geo_level_2_id geo_level_3_id count_floors_pre_eq\n",
       "1 300051      17             596            11307          3                  \n",
       "2  99355       6             141            11987          2                  \n",
       "3 890251      22              19            10044          2                  \n",
       "4 745817      26              39              633          1                  \n",
       "5 421793      17             289             7970          3                  \n",
       "6 871976      22             170             4029          1                  \n",
       "  age area_percentage height_percentage land_surface_condition foundation_type\n",
       "1 20   7              6                 t                      r              \n",
       "2 25  13              5                 t                      r              \n",
       "3  5   4              5                 t                      r              \n",
       "4  0  19              3                 t                      r              \n",
       "5 15   8              7                 t                      r              \n",
       "6 55   4              3                 t                      r              \n",
       "  ... has_secondary_use_agriculture has_secondary_use_hotel\n",
       "1 ... 0                             0                      \n",
       "2 ... 1                             0                      \n",
       "3 ... 0                             0                      \n",
       "4 ... 0                             0                      \n",
       "5 ... 0                             0                      \n",
       "6 ... 0                             0                      \n",
       "  has_secondary_use_rental has_secondary_use_institution\n",
       "1 0                        0                            \n",
       "2 0                        0                            \n",
       "3 0                        0                            \n",
       "4 1                        0                            \n",
       "5 0                        0                            \n",
       "6 0                        0                            \n",
       "  has_secondary_use_school has_secondary_use_industry\n",
       "1 0                        0                         \n",
       "2 0                        0                         \n",
       "3 0                        0                         \n",
       "4 0                        0                         \n",
       "5 0                        0                         \n",
       "6 0                        0                         \n",
       "  has_secondary_use_health_post has_secondary_use_gov_office\n",
       "1 0                             0                           \n",
       "2 0                             0                           \n",
       "3 0                             0                           \n",
       "4 0                             0                           \n",
       "5 0                             0                           \n",
       "6 0                             0                           \n",
       "  has_secondary_use_use_police has_secondary_use_other\n",
       "1 0                            0                      \n",
       "2 0                            0                      \n",
       "3 0                            0                      \n",
       "4 0                            0                      \n",
       "5 0                            0                      \n",
       "6 0                            0                      "
      ]
     },
     "metadata": {},
     "output_type": "display_data"
    },
    {
     "data": {
      "text/html": [
       "<style>\n",
       ".list-inline {list-style: none; margin:0; padding: 0}\n",
       ".list-inline>li {display: inline-block}\n",
       ".list-inline>li:not(:last-child)::after {content: \"\\00b7\"; padding: 0 .5ex}\n",
       "</style>\n",
       "<ol class=list-inline><li>86868</li><li>39</li></ol>\n"
      ],
      "text/latex": [
       "\\begin{enumerate*}\n",
       "\\item 86868\n",
       "\\item 39\n",
       "\\end{enumerate*}\n"
      ],
      "text/markdown": [
       "1. 86868\n",
       "2. 39\n",
       "\n",
       "\n"
      ],
      "text/plain": [
       "[1] 86868    39"
      ]
     },
     "metadata": {},
     "output_type": "display_data"
    }
   ],
   "source": [
    "head(testset)\n",
    "dim(testset)"
   ]
  },
  {
   "cell_type": "code",
   "execution_count": 8,
   "metadata": {
    "vscode": {
     "languageId": "r"
    }
   },
   "outputs": [
    {
     "data": {
      "text/html": [
       "<table class=\"dataframe\">\n",
       "<caption>A data.frame: 6 × 2</caption>\n",
       "<thead>\n",
       "\t<tr><th></th><th scope=col>building_id</th><th scope=col>damage_grade</th></tr>\n",
       "\t<tr><th></th><th scope=col>&lt;int&gt;</th><th scope=col>&lt;int&gt;</th></tr>\n",
       "</thead>\n",
       "<tbody>\n",
       "\t<tr><th scope=row>1</th><td>300051</td><td>1</td></tr>\n",
       "\t<tr><th scope=row>2</th><td> 99355</td><td>1</td></tr>\n",
       "\t<tr><th scope=row>3</th><td>890251</td><td>1</td></tr>\n",
       "\t<tr><th scope=row>4</th><td>745817</td><td>1</td></tr>\n",
       "\t<tr><th scope=row>5</th><td>421793</td><td>1</td></tr>\n",
       "\t<tr><th scope=row>6</th><td>871976</td><td>1</td></tr>\n",
       "</tbody>\n",
       "</table>\n"
      ],
      "text/latex": [
       "A data.frame: 6 × 2\n",
       "\\begin{tabular}{r|ll}\n",
       "  & building\\_id & damage\\_grade\\\\\n",
       "  & <int> & <int>\\\\\n",
       "\\hline\n",
       "\t1 & 300051 & 1\\\\\n",
       "\t2 &  99355 & 1\\\\\n",
       "\t3 & 890251 & 1\\\\\n",
       "\t4 & 745817 & 1\\\\\n",
       "\t5 & 421793 & 1\\\\\n",
       "\t6 & 871976 & 1\\\\\n",
       "\\end{tabular}\n"
      ],
      "text/markdown": [
       "\n",
       "A data.frame: 6 × 2\n",
       "\n",
       "| <!--/--> | building_id &lt;int&gt; | damage_grade &lt;int&gt; |\n",
       "|---|---|---|\n",
       "| 1 | 300051 | 1 |\n",
       "| 2 |  99355 | 1 |\n",
       "| 3 | 890251 | 1 |\n",
       "| 4 | 745817 | 1 |\n",
       "| 5 | 421793 | 1 |\n",
       "| 6 | 871976 | 1 |\n",
       "\n"
      ],
      "text/plain": [
       "  building_id damage_grade\n",
       "1 300051      1           \n",
       "2  99355      1           \n",
       "3 890251      1           \n",
       "4 745817      1           \n",
       "5 421793      1           \n",
       "6 871976      1           "
      ]
     },
     "metadata": {},
     "output_type": "display_data"
    },
    {
     "data": {
      "text/html": [
       "<style>\n",
       ".list-inline {list-style: none; margin:0; padding: 0}\n",
       ".list-inline>li {display: inline-block}\n",
       ".list-inline>li:not(:last-child)::after {content: \"\\00b7\"; padding: 0 .5ex}\n",
       "</style>\n",
       "<ol class=list-inline><li>86868</li><li>2</li></ol>\n"
      ],
      "text/latex": [
       "\\begin{enumerate*}\n",
       "\\item 86868\n",
       "\\item 2\n",
       "\\end{enumerate*}\n"
      ],
      "text/markdown": [
       "1. 86868\n",
       "2. 2\n",
       "\n",
       "\n"
      ],
      "text/plain": [
       "[1] 86868     2"
      ]
     },
     "metadata": {},
     "output_type": "display_data"
    }
   ],
   "source": [
    "head(subset)\n",
    "dim(subset)"
   ]
  },
  {
   "attachments": {},
   "cell_type": "markdown",
   "metadata": {},
   "source": [
    "### 1.2 Transforming categorical data into binary encoding (One-Hot)\n",
    "+Matching training feature and training target datasets, by \"building_id\""
   ]
  },
  {
   "cell_type": "code",
   "execution_count": 9,
   "metadata": {
    "vscode": {
     "languageId": "r"
    }
   },
   "outputs": [
    {
     "data": {
      "text/html": [
       "0"
      ],
      "text/latex": [
       "0"
      ],
      "text/markdown": [
       "0"
      ],
      "text/plain": [
       "[1] 0"
      ]
     },
     "metadata": {},
     "output_type": "display_data"
    }
   ],
   "source": [
    "# Matching Label data ton Values data to have as many datapoints for both CSVs\n",
    "master <- left_join(y=trainset,x=trainvalues,by=\"building_id\",all.x=TRUE)\n",
    "# Check the number of NA's\n",
    "sum(is.na(master))"
   ]
  },
  {
   "attachments": {},
   "cell_type": "markdown",
   "metadata": {},
   "source": [
    "Here, we have a list of all available categorical data. Although geo_level IDs are integers, they are also considered as categorical since each IDs represents a different house, and there is no visible linear behavior between each ID. Therefore, we can encode <u>**geo_level_1_id**</u> with One-hot without encountering difficulties with the dimensions of our dataset ($\\approx$ 30 columns). We decided to leave out <u>**geo_level_id 2-3**</u> due to this complexity problem (for now...)."
   ]
  },
  {
   "attachments": {},
   "cell_type": "markdown",
   "metadata": {},
   "source": [
    "One-hot encoding is not really an option in this situation since geo_levels_3_id, which range from 0 to 12567, could induce high-dimensionality and sparse data with one-hot, therefore requiring more and more preprocessing."
   ]
  },
  {
   "cell_type": "code",
   "execution_count": 10,
   "metadata": {
    "vscode": {
     "languageId": "r"
    }
   },
   "outputs": [
    {
     "data": {
      "text/html": [
       "<table class=\"dataframe\">\n",
       "<caption>A data.frame: 6 × 100</caption>\n",
       "<thead>\n",
       "\t<tr><th></th><th scope=col>building_id</th><th scope=col>geo_level_2_id</th><th scope=col>geo_level_3_id</th><th scope=col>count_floors_pre_eq</th><th scope=col>age</th><th scope=col>area_percentage</th><th scope=col>height_percentage</th><th scope=col>has_superstructure_adobe_mud</th><th scope=col>has_superstructure_mud_mortar_stone</th><th scope=col>has_superstructure_stone_flag</th><th scope=col>...</th><th scope=col>geo_level_1_id_5</th><th scope=col>geo_level_1_id_15</th><th scope=col>geo_level_1_id_14</th><th scope=col>geo_level_1_id_19</th><th scope=col>geo_level_1_id_1</th><th scope=col>geo_level_1_id_24</th><th scope=col>geo_level_1_id_28</th><th scope=col>geo_level_1_id_23</th><th scope=col>geo_level_1_id_2</th><th scope=col>geo_level_1_id_29</th></tr>\n",
       "\t<tr><th></th><th scope=col>&lt;int&gt;</th><th scope=col>&lt;int&gt;</th><th scope=col>&lt;int&gt;</th><th scope=col>&lt;int&gt;</th><th scope=col>&lt;int&gt;</th><th scope=col>&lt;int&gt;</th><th scope=col>&lt;int&gt;</th><th scope=col>&lt;int&gt;</th><th scope=col>&lt;int&gt;</th><th scope=col>&lt;int&gt;</th><th scope=col>...</th><th scope=col>&lt;int&gt;</th><th scope=col>&lt;int&gt;</th><th scope=col>&lt;int&gt;</th><th scope=col>&lt;int&gt;</th><th scope=col>&lt;int&gt;</th><th scope=col>&lt;int&gt;</th><th scope=col>&lt;int&gt;</th><th scope=col>&lt;int&gt;</th><th scope=col>&lt;int&gt;</th><th scope=col>&lt;int&gt;</th></tr>\n",
       "</thead>\n",
       "<tbody>\n",
       "\t<tr><th scope=row>1</th><td>802906</td><td>487</td><td>12198</td><td>2</td><td>30</td><td>6</td><td>5</td><td>1</td><td>1</td><td>0</td><td>...</td><td>0</td><td>0</td><td>0</td><td>0</td><td>0</td><td>0</td><td>0</td><td>0</td><td>0</td><td>0</td></tr>\n",
       "\t<tr><th scope=row>2</th><td> 28830</td><td>900</td><td> 2812</td><td>2</td><td>10</td><td>8</td><td>7</td><td>0</td><td>1</td><td>0</td><td>...</td><td>0</td><td>0</td><td>0</td><td>0</td><td>0</td><td>0</td><td>0</td><td>0</td><td>0</td><td>0</td></tr>\n",
       "\t<tr><th scope=row>3</th><td> 94947</td><td>363</td><td> 8973</td><td>2</td><td>10</td><td>5</td><td>5</td><td>0</td><td>1</td><td>0</td><td>...</td><td>0</td><td>0</td><td>0</td><td>0</td><td>0</td><td>0</td><td>0</td><td>0</td><td>0</td><td>0</td></tr>\n",
       "\t<tr><th scope=row>4</th><td>590882</td><td>418</td><td>10694</td><td>2</td><td>10</td><td>6</td><td>5</td><td>0</td><td>1</td><td>0</td><td>...</td><td>0</td><td>0</td><td>0</td><td>0</td><td>0</td><td>0</td><td>0</td><td>0</td><td>0</td><td>0</td></tr>\n",
       "\t<tr><th scope=row>5</th><td>201944</td><td>131</td><td> 1488</td><td>3</td><td>30</td><td>8</td><td>9</td><td>1</td><td>0</td><td>0</td><td>...</td><td>0</td><td>0</td><td>0</td><td>0</td><td>0</td><td>0</td><td>0</td><td>0</td><td>0</td><td>0</td></tr>\n",
       "\t<tr><th scope=row>6</th><td>333020</td><td>558</td><td> 6089</td><td>2</td><td>10</td><td>9</td><td>5</td><td>0</td><td>1</td><td>0</td><td>...</td><td>0</td><td>0</td><td>0</td><td>0</td><td>0</td><td>0</td><td>0</td><td>0</td><td>0</td><td>0</td></tr>\n",
       "</tbody>\n",
       "</table>\n"
      ],
      "text/latex": [
       "A data.frame: 6 × 100\n",
       "\\begin{tabular}{r|lllllllllllllllllllll}\n",
       "  & building\\_id & geo\\_level\\_2\\_id & geo\\_level\\_3\\_id & count\\_floors\\_pre\\_eq & age & area\\_percentage & height\\_percentage & has\\_superstructure\\_adobe\\_mud & has\\_superstructure\\_mud\\_mortar\\_stone & has\\_superstructure\\_stone\\_flag & ... & geo\\_level\\_1\\_id\\_5 & geo\\_level\\_1\\_id\\_15 & geo\\_level\\_1\\_id\\_14 & geo\\_level\\_1\\_id\\_19 & geo\\_level\\_1\\_id\\_1 & geo\\_level\\_1\\_id\\_24 & geo\\_level\\_1\\_id\\_28 & geo\\_level\\_1\\_id\\_23 & geo\\_level\\_1\\_id\\_2 & geo\\_level\\_1\\_id\\_29\\\\\n",
       "  & <int> & <int> & <int> & <int> & <int> & <int> & <int> & <int> & <int> & <int> & ... & <int> & <int> & <int> & <int> & <int> & <int> & <int> & <int> & <int> & <int>\\\\\n",
       "\\hline\n",
       "\t1 & 802906 & 487 & 12198 & 2 & 30 & 6 & 5 & 1 & 1 & 0 & ... & 0 & 0 & 0 & 0 & 0 & 0 & 0 & 0 & 0 & 0\\\\\n",
       "\t2 &  28830 & 900 &  2812 & 2 & 10 & 8 & 7 & 0 & 1 & 0 & ... & 0 & 0 & 0 & 0 & 0 & 0 & 0 & 0 & 0 & 0\\\\\n",
       "\t3 &  94947 & 363 &  8973 & 2 & 10 & 5 & 5 & 0 & 1 & 0 & ... & 0 & 0 & 0 & 0 & 0 & 0 & 0 & 0 & 0 & 0\\\\\n",
       "\t4 & 590882 & 418 & 10694 & 2 & 10 & 6 & 5 & 0 & 1 & 0 & ... & 0 & 0 & 0 & 0 & 0 & 0 & 0 & 0 & 0 & 0\\\\\n",
       "\t5 & 201944 & 131 &  1488 & 3 & 30 & 8 & 9 & 1 & 0 & 0 & ... & 0 & 0 & 0 & 0 & 0 & 0 & 0 & 0 & 0 & 0\\\\\n",
       "\t6 & 333020 & 558 &  6089 & 2 & 10 & 9 & 5 & 0 & 1 & 0 & ... & 0 & 0 & 0 & 0 & 0 & 0 & 0 & 0 & 0 & 0\\\\\n",
       "\\end{tabular}\n"
      ],
      "text/markdown": [
       "\n",
       "A data.frame: 6 × 100\n",
       "\n",
       "| <!--/--> | building_id &lt;int&gt; | geo_level_2_id &lt;int&gt; | geo_level_3_id &lt;int&gt; | count_floors_pre_eq &lt;int&gt; | age &lt;int&gt; | area_percentage &lt;int&gt; | height_percentage &lt;int&gt; | has_superstructure_adobe_mud &lt;int&gt; | has_superstructure_mud_mortar_stone &lt;int&gt; | has_superstructure_stone_flag &lt;int&gt; | ... ... | geo_level_1_id_5 &lt;int&gt; | geo_level_1_id_15 &lt;int&gt; | geo_level_1_id_14 &lt;int&gt; | geo_level_1_id_19 &lt;int&gt; | geo_level_1_id_1 &lt;int&gt; | geo_level_1_id_24 &lt;int&gt; | geo_level_1_id_28 &lt;int&gt; | geo_level_1_id_23 &lt;int&gt; | geo_level_1_id_2 &lt;int&gt; | geo_level_1_id_29 &lt;int&gt; |\n",
       "|---|---|---|---|---|---|---|---|---|---|---|---|---|---|---|---|---|---|---|---|---|---|\n",
       "| 1 | 802906 | 487 | 12198 | 2 | 30 | 6 | 5 | 1 | 1 | 0 | ... | 0 | 0 | 0 | 0 | 0 | 0 | 0 | 0 | 0 | 0 |\n",
       "| 2 |  28830 | 900 |  2812 | 2 | 10 | 8 | 7 | 0 | 1 | 0 | ... | 0 | 0 | 0 | 0 | 0 | 0 | 0 | 0 | 0 | 0 |\n",
       "| 3 |  94947 | 363 |  8973 | 2 | 10 | 5 | 5 | 0 | 1 | 0 | ... | 0 | 0 | 0 | 0 | 0 | 0 | 0 | 0 | 0 | 0 |\n",
       "| 4 | 590882 | 418 | 10694 | 2 | 10 | 6 | 5 | 0 | 1 | 0 | ... | 0 | 0 | 0 | 0 | 0 | 0 | 0 | 0 | 0 | 0 |\n",
       "| 5 | 201944 | 131 |  1488 | 3 | 30 | 8 | 9 | 1 | 0 | 0 | ... | 0 | 0 | 0 | 0 | 0 | 0 | 0 | 0 | 0 | 0 |\n",
       "| 6 | 333020 | 558 |  6089 | 2 | 10 | 9 | 5 | 0 | 1 | 0 | ... | 0 | 0 | 0 | 0 | 0 | 0 | 0 | 0 | 0 | 0 |\n",
       "\n"
      ],
      "text/plain": [
       "  building_id geo_level_2_id geo_level_3_id count_floors_pre_eq age\n",
       "1 802906      487            12198          2                   30 \n",
       "2  28830      900             2812          2                   10 \n",
       "3  94947      363             8973          2                   10 \n",
       "4 590882      418            10694          2                   10 \n",
       "5 201944      131             1488          3                   30 \n",
       "6 333020      558             6089          2                   10 \n",
       "  area_percentage height_percentage has_superstructure_adobe_mud\n",
       "1 6               5                 1                           \n",
       "2 8               7                 0                           \n",
       "3 5               5                 0                           \n",
       "4 6               5                 0                           \n",
       "5 8               9                 1                           \n",
       "6 9               5                 0                           \n",
       "  has_superstructure_mud_mortar_stone has_superstructure_stone_flag ...\n",
       "1 1                                   0                             ...\n",
       "2 1                                   0                             ...\n",
       "3 1                                   0                             ...\n",
       "4 1                                   0                             ...\n",
       "5 0                                   0                             ...\n",
       "6 1                                   0                             ...\n",
       "  geo_level_1_id_5 geo_level_1_id_15 geo_level_1_id_14 geo_level_1_id_19\n",
       "1 0                0                 0                 0                \n",
       "2 0                0                 0                 0                \n",
       "3 0                0                 0                 0                \n",
       "4 0                0                 0                 0                \n",
       "5 0                0                 0                 0                \n",
       "6 0                0                 0                 0                \n",
       "  geo_level_1_id_1 geo_level_1_id_24 geo_level_1_id_28 geo_level_1_id_23\n",
       "1 0                0                 0                 0                \n",
       "2 0                0                 0                 0                \n",
       "3 0                0                 0                 0                \n",
       "4 0                0                 0                 0                \n",
       "5 0                0                 0                 0                \n",
       "6 0                0                 0                 0                \n",
       "  geo_level_1_id_2 geo_level_1_id_29\n",
       "1 0                0                \n",
       "2 0                0                \n",
       "3 0                0                \n",
       "4 0                0                \n",
       "5 0                0                \n",
       "6 0                0                "
      ]
     },
     "metadata": {},
     "output_type": "display_data"
    },
    {
     "data": {
      "text/html": [
       "<table class=\"dataframe\">\n",
       "<caption>A data.frame: 6 × 99</caption>\n",
       "<thead>\n",
       "\t<tr><th></th><th scope=col>building_id</th><th scope=col>geo_level_2_id</th><th scope=col>geo_level_3_id</th><th scope=col>count_floors_pre_eq</th><th scope=col>age</th><th scope=col>area_percentage</th><th scope=col>height_percentage</th><th scope=col>has_superstructure_adobe_mud</th><th scope=col>has_superstructure_mud_mortar_stone</th><th scope=col>has_superstructure_stone_flag</th><th scope=col>...</th><th scope=col>geo_level_1_id_5</th><th scope=col>geo_level_1_id_19</th><th scope=col>geo_level_1_id_15</th><th scope=col>geo_level_1_id_14</th><th scope=col>geo_level_1_id_29</th><th scope=col>geo_level_1_id_9</th><th scope=col>geo_level_1_id_2</th><th scope=col>geo_level_1_id_28</th><th scope=col>geo_level_1_id_24</th><th scope=col>geo_level_1_id_23</th></tr>\n",
       "\t<tr><th></th><th scope=col>&lt;int&gt;</th><th scope=col>&lt;int&gt;</th><th scope=col>&lt;int&gt;</th><th scope=col>&lt;int&gt;</th><th scope=col>&lt;int&gt;</th><th scope=col>&lt;int&gt;</th><th scope=col>&lt;int&gt;</th><th scope=col>&lt;int&gt;</th><th scope=col>&lt;int&gt;</th><th scope=col>&lt;int&gt;</th><th scope=col>...</th><th scope=col>&lt;int&gt;</th><th scope=col>&lt;int&gt;</th><th scope=col>&lt;int&gt;</th><th scope=col>&lt;int&gt;</th><th scope=col>&lt;int&gt;</th><th scope=col>&lt;int&gt;</th><th scope=col>&lt;int&gt;</th><th scope=col>&lt;int&gt;</th><th scope=col>&lt;int&gt;</th><th scope=col>&lt;int&gt;</th></tr>\n",
       "</thead>\n",
       "<tbody>\n",
       "\t<tr><th scope=row>1</th><td>300051</td><td>596</td><td>11307</td><td>3</td><td>20</td><td> 7</td><td>6</td><td>0</td><td>1</td><td>0</td><td>...</td><td>0</td><td>0</td><td>0</td><td>0</td><td>0</td><td>0</td><td>0</td><td>0</td><td>0</td><td>0</td></tr>\n",
       "\t<tr><th scope=row>2</th><td> 99355</td><td>141</td><td>11987</td><td>2</td><td>25</td><td>13</td><td>5</td><td>0</td><td>1</td><td>0</td><td>...</td><td>0</td><td>0</td><td>0</td><td>0</td><td>0</td><td>0</td><td>0</td><td>0</td><td>0</td><td>0</td></tr>\n",
       "\t<tr><th scope=row>3</th><td>890251</td><td> 19</td><td>10044</td><td>2</td><td> 5</td><td> 4</td><td>5</td><td>0</td><td>1</td><td>0</td><td>...</td><td>0</td><td>0</td><td>0</td><td>0</td><td>0</td><td>0</td><td>0</td><td>0</td><td>0</td><td>0</td></tr>\n",
       "\t<tr><th scope=row>4</th><td>745817</td><td> 39</td><td>  633</td><td>1</td><td> 0</td><td>19</td><td>3</td><td>0</td><td>0</td><td>0</td><td>...</td><td>0</td><td>0</td><td>0</td><td>0</td><td>0</td><td>0</td><td>0</td><td>0</td><td>0</td><td>0</td></tr>\n",
       "\t<tr><th scope=row>5</th><td>421793</td><td>289</td><td> 7970</td><td>3</td><td>15</td><td> 8</td><td>7</td><td>0</td><td>1</td><td>0</td><td>...</td><td>0</td><td>0</td><td>0</td><td>0</td><td>0</td><td>0</td><td>0</td><td>0</td><td>0</td><td>0</td></tr>\n",
       "\t<tr><th scope=row>6</th><td>871976</td><td>170</td><td> 4029</td><td>1</td><td>55</td><td> 4</td><td>3</td><td>0</td><td>1</td><td>0</td><td>...</td><td>0</td><td>0</td><td>0</td><td>0</td><td>0</td><td>0</td><td>0</td><td>0</td><td>0</td><td>0</td></tr>\n",
       "</tbody>\n",
       "</table>\n"
      ],
      "text/latex": [
       "A data.frame: 6 × 99\n",
       "\\begin{tabular}{r|lllllllllllllllllllll}\n",
       "  & building\\_id & geo\\_level\\_2\\_id & geo\\_level\\_3\\_id & count\\_floors\\_pre\\_eq & age & area\\_percentage & height\\_percentage & has\\_superstructure\\_adobe\\_mud & has\\_superstructure\\_mud\\_mortar\\_stone & has\\_superstructure\\_stone\\_flag & ... & geo\\_level\\_1\\_id\\_5 & geo\\_level\\_1\\_id\\_19 & geo\\_level\\_1\\_id\\_15 & geo\\_level\\_1\\_id\\_14 & geo\\_level\\_1\\_id\\_29 & geo\\_level\\_1\\_id\\_9 & geo\\_level\\_1\\_id\\_2 & geo\\_level\\_1\\_id\\_28 & geo\\_level\\_1\\_id\\_24 & geo\\_level\\_1\\_id\\_23\\\\\n",
       "  & <int> & <int> & <int> & <int> & <int> & <int> & <int> & <int> & <int> & <int> & ... & <int> & <int> & <int> & <int> & <int> & <int> & <int> & <int> & <int> & <int>\\\\\n",
       "\\hline\n",
       "\t1 & 300051 & 596 & 11307 & 3 & 20 &  7 & 6 & 0 & 1 & 0 & ... & 0 & 0 & 0 & 0 & 0 & 0 & 0 & 0 & 0 & 0\\\\\n",
       "\t2 &  99355 & 141 & 11987 & 2 & 25 & 13 & 5 & 0 & 1 & 0 & ... & 0 & 0 & 0 & 0 & 0 & 0 & 0 & 0 & 0 & 0\\\\\n",
       "\t3 & 890251 &  19 & 10044 & 2 &  5 &  4 & 5 & 0 & 1 & 0 & ... & 0 & 0 & 0 & 0 & 0 & 0 & 0 & 0 & 0 & 0\\\\\n",
       "\t4 & 745817 &  39 &   633 & 1 &  0 & 19 & 3 & 0 & 0 & 0 & ... & 0 & 0 & 0 & 0 & 0 & 0 & 0 & 0 & 0 & 0\\\\\n",
       "\t5 & 421793 & 289 &  7970 & 3 & 15 &  8 & 7 & 0 & 1 & 0 & ... & 0 & 0 & 0 & 0 & 0 & 0 & 0 & 0 & 0 & 0\\\\\n",
       "\t6 & 871976 & 170 &  4029 & 1 & 55 &  4 & 3 & 0 & 1 & 0 & ... & 0 & 0 & 0 & 0 & 0 & 0 & 0 & 0 & 0 & 0\\\\\n",
       "\\end{tabular}\n"
      ],
      "text/markdown": [
       "\n",
       "A data.frame: 6 × 99\n",
       "\n",
       "| <!--/--> | building_id &lt;int&gt; | geo_level_2_id &lt;int&gt; | geo_level_3_id &lt;int&gt; | count_floors_pre_eq &lt;int&gt; | age &lt;int&gt; | area_percentage &lt;int&gt; | height_percentage &lt;int&gt; | has_superstructure_adobe_mud &lt;int&gt; | has_superstructure_mud_mortar_stone &lt;int&gt; | has_superstructure_stone_flag &lt;int&gt; | ... ... | geo_level_1_id_5 &lt;int&gt; | geo_level_1_id_19 &lt;int&gt; | geo_level_1_id_15 &lt;int&gt; | geo_level_1_id_14 &lt;int&gt; | geo_level_1_id_29 &lt;int&gt; | geo_level_1_id_9 &lt;int&gt; | geo_level_1_id_2 &lt;int&gt; | geo_level_1_id_28 &lt;int&gt; | geo_level_1_id_24 &lt;int&gt; | geo_level_1_id_23 &lt;int&gt; |\n",
       "|---|---|---|---|---|---|---|---|---|---|---|---|---|---|---|---|---|---|---|---|---|---|\n",
       "| 1 | 300051 | 596 | 11307 | 3 | 20 |  7 | 6 | 0 | 1 | 0 | ... | 0 | 0 | 0 | 0 | 0 | 0 | 0 | 0 | 0 | 0 |\n",
       "| 2 |  99355 | 141 | 11987 | 2 | 25 | 13 | 5 | 0 | 1 | 0 | ... | 0 | 0 | 0 | 0 | 0 | 0 | 0 | 0 | 0 | 0 |\n",
       "| 3 | 890251 |  19 | 10044 | 2 |  5 |  4 | 5 | 0 | 1 | 0 | ... | 0 | 0 | 0 | 0 | 0 | 0 | 0 | 0 | 0 | 0 |\n",
       "| 4 | 745817 |  39 |   633 | 1 |  0 | 19 | 3 | 0 | 0 | 0 | ... | 0 | 0 | 0 | 0 | 0 | 0 | 0 | 0 | 0 | 0 |\n",
       "| 5 | 421793 | 289 |  7970 | 3 | 15 |  8 | 7 | 0 | 1 | 0 | ... | 0 | 0 | 0 | 0 | 0 | 0 | 0 | 0 | 0 | 0 |\n",
       "| 6 | 871976 | 170 |  4029 | 1 | 55 |  4 | 3 | 0 | 1 | 0 | ... | 0 | 0 | 0 | 0 | 0 | 0 | 0 | 0 | 0 | 0 |\n",
       "\n"
      ],
      "text/plain": [
       "  building_id geo_level_2_id geo_level_3_id count_floors_pre_eq age\n",
       "1 300051      596            11307          3                   20 \n",
       "2  99355      141            11987          2                   25 \n",
       "3 890251       19            10044          2                    5 \n",
       "4 745817       39              633          1                    0 \n",
       "5 421793      289             7970          3                   15 \n",
       "6 871976      170             4029          1                   55 \n",
       "  area_percentage height_percentage has_superstructure_adobe_mud\n",
       "1  7              6                 0                           \n",
       "2 13              5                 0                           \n",
       "3  4              5                 0                           \n",
       "4 19              3                 0                           \n",
       "5  8              7                 0                           \n",
       "6  4              3                 0                           \n",
       "  has_superstructure_mud_mortar_stone has_superstructure_stone_flag ...\n",
       "1 1                                   0                             ...\n",
       "2 1                                   0                             ...\n",
       "3 1                                   0                             ...\n",
       "4 0                                   0                             ...\n",
       "5 1                                   0                             ...\n",
       "6 1                                   0                             ...\n",
       "  geo_level_1_id_5 geo_level_1_id_19 geo_level_1_id_15 geo_level_1_id_14\n",
       "1 0                0                 0                 0                \n",
       "2 0                0                 0                 0                \n",
       "3 0                0                 0                 0                \n",
       "4 0                0                 0                 0                \n",
       "5 0                0                 0                 0                \n",
       "6 0                0                 0                 0                \n",
       "  geo_level_1_id_29 geo_level_1_id_9 geo_level_1_id_2 geo_level_1_id_28\n",
       "1 0                 0                0                0                \n",
       "2 0                 0                0                0                \n",
       "3 0                 0                0                0                \n",
       "4 0                 0                0                0                \n",
       "5 0                 0                0                0                \n",
       "6 0                 0                0                0                \n",
       "  geo_level_1_id_24 geo_level_1_id_23\n",
       "1 0                 0                \n",
       "2 0                 0                \n",
       "3 0                 0                \n",
       "4 0                 0                \n",
       "5 0                 0                \n",
       "6 0                 0                "
      ]
     },
     "metadata": {},
     "output_type": "display_data"
    }
   ],
   "source": [
    "## one-hot encode test and train sets\n",
    "\n",
    "cat_cols=c('land_surface_condition', 'foundation_type',\"roof_type\",\"ground_floor_type\",\n",
    "\"other_floor_type\",\"position\",\"plan_configuration\",\"legal_ownership_status\",\"geo_level_1_id\")\n",
    "\n",
    "# use dummyVars function to create binary encoding for categorical variables\n",
    "master_encoded = master\n",
    "# Loop through the categorical columns and encode each column\n",
    "for (col in cat_cols) {\n",
    "  dict <- unique(master[[col]])\n",
    "  binary_matrix <- matrix(0L, nrow = nrow(master), ncol = length(dict))\n",
    "  for (i in 1:length(dict)) {\n",
    "    binary_matrix[master[[col]] == dict[i], i] <- 1L\n",
    "  }\n",
    "  colnames(binary_matrix) <- paste0(col, \"_\", dict)\n",
    "  master_encoded <- cbind(master_encoded, binary_matrix)\n",
    "}\n",
    "\n",
    "for (col in cat_cols) {\n",
    "  dict <- unique(testset[[col]])\n",
    "  binary_matrix <- matrix(0L, nrow = nrow(testset), ncol = length(dict))\n",
    "  for (i in 1:length(dict)) {\n",
    "    binary_matrix[testset[[col]] == dict[i], i] <- 1L\n",
    "  }\n",
    "  colnames(binary_matrix) <- paste0(col, \"_\", dict)\n",
    "  testset <- cbind(testset, binary_matrix)\n",
    "}\n",
    "\n",
    "# Remove the original categorical columns from the new dataframe\n",
    "master_encoded <- master_encoded[, !colnames(master_encoded) %in% cat_cols]\n",
    "testset = testset[, !colnames(testset) %in% cat_cols]\n",
    "\n",
    "#see result\n",
    "head(master_encoded)\n",
    "head(testset)\n"
   ]
  },
  {
   "attachments": {},
   "cell_type": "markdown",
   "metadata": {},
   "source": [
    "<strong>GEO_LEVEL VARIABLES</strong> [THIS HAS TO BE INSERTED BEFORE ONE-HOT-ENCODING]\n",
    "\n",
    "Let's do a scatter plot using 1 and 2 with different color for the target variable output, in order to see if any pattern in data can be used for feature engineering"
   ]
  },
  {
   "cell_type": "code",
   "execution_count": 11,
   "metadata": {
    "vscode": {
     "languageId": "r"
    }
   },
   "outputs": [
    {
     "data": {
      "image/png": "[encoded data removed]",
      "text/plain": [
       "plot without title"
      ]
     },
     "metadata": {
      "image/png": {
       "height": 420,
       "width": 420
      }
     },
     "output_type": "display_data"
    }
   ],
   "source": [
    "ggplot(data = master, aes(x = geo_level_1_id, y = geo_level_2_id, color = damage_grade)) +\n",
    "  geom_point(size = 3) +\n",
    "  labs(x = \"geo_level_id_1\", y = \"geo_level_id_2\", color = \"damage_grade\")"
   ]
  },
  {
   "attachments": {},
   "cell_type": "markdown",
   "metadata": {},
   "source": [
    "It seems that no clear pattern can be exploited to do feature engineering, therefore let's procede by one-hot-encoding geo_level_id_1 which is the only one with a reasonable number of unique values, the other two variables would increase the features space size too much"
   ]
  },
  {
   "attachments": {},
   "cell_type": "markdown",
   "metadata": {},
   "source": [
    "### Feature Selection\n",
    "Our dataset is characterized by a large number of variables, therefore we need a way to select the most relevant for our problem.\n",
    "We use a ranking algorithm based on the mutual information criterium."
   ]
  },
  {
   "cell_type": "code",
   "execution_count": 12,
   "metadata": {
    "vscode": {
     "languageId": "r"
    }
   },
   "outputs": [
    {
     "data": {
      "text/html": [
       "<table class=\"dataframe\">\n",
       "<caption>A data.frame: 6 × 1</caption>\n",
       "<thead>\n",
       "\t<tr><th></th><th scope=col>Mutual_Information</th></tr>\n",
       "\t<tr><th></th><th scope=col>&lt;dbl&gt;</th></tr>\n",
       "</thead>\n",
       "<tbody>\n",
       "\t<tr><th scope=row>foundation_type_r</th><td>0.06294687</td></tr>\n",
       "\t<tr><th scope=row>ground_floor_type_v</th><td>0.05233678</td></tr>\n",
       "\t<tr><th scope=row>has_superstructure_mud_mortar_stone</th><td>0.04921463</td></tr>\n",
       "\t<tr><th scope=row>geo_level_1_id_17</th><td>0.04396153</td></tr>\n",
       "\t<tr><th scope=row>roof_type_x</th><td>0.03997262</td></tr>\n",
       "\t<tr><th scope=row>foundation_type_i</th><td>0.03549682</td></tr>\n",
       "</tbody>\n",
       "</table>\n"
      ],
      "text/latex": [
       "A data.frame: 6 × 1\n",
       "\\begin{tabular}{r|l}\n",
       "  & Mutual\\_Information\\\\\n",
       "  & <dbl>\\\\\n",
       "\\hline\n",
       "\tfoundation\\_type\\_r & 0.06294687\\\\\n",
       "\tground\\_floor\\_type\\_v & 0.05233678\\\\\n",
       "\thas\\_superstructure\\_mud\\_mortar\\_stone & 0.04921463\\\\\n",
       "\tgeo\\_level\\_1\\_id\\_17 & 0.04396153\\\\\n",
       "\troof\\_type\\_x & 0.03997262\\\\\n",
       "\tfoundation\\_type\\_i & 0.03549682\\\\\n",
       "\\end{tabular}\n"
      ],
      "text/markdown": [
       "\n",
       "A data.frame: 6 × 1\n",
       "\n",
       "| <!--/--> | Mutual_Information &lt;dbl&gt; |\n",
       "|---|---|\n",
       "| foundation_type_r | 0.06294687 |\n",
       "| ground_floor_type_v | 0.05233678 |\n",
       "| has_superstructure_mud_mortar_stone | 0.04921463 |\n",
       "| geo_level_1_id_17 | 0.04396153 |\n",
       "| roof_type_x | 0.03997262 |\n",
       "| foundation_type_i | 0.03549682 |\n",
       "\n"
      ],
      "text/plain": [
       "                                    Mutual_Information\n",
       "foundation_type_r                   0.06294687        \n",
       "ground_floor_type_v                 0.05233678        \n",
       "has_superstructure_mud_mortar_stone 0.04921463        \n",
       "geo_level_1_id_17                   0.04396153        \n",
       "roof_type_x                         0.03997262        \n",
       "foundation_type_i                   0.03549682        "
      ]
     },
     "metadata": {},
     "output_type": "display_data"
    }
   ],
   "source": [
    "# delete useless columns for the Mutual Information Ranking\n",
    "df_train = copy(master_encoded)\n",
    "df_train$building_id = NULL\n",
    "df_train$damage_grade = NULL\n",
    "df_train$geo_level_2_id = NULL\n",
    "df_train$geo_level_3_id = NULL\n",
    "\n",
    "# dataframe to store the results\n",
    "mi_df = data.frame(matrix(nrow = length(colnames(df_train)), ncol = 1))\n",
    "rownames(mi_df) = colnames(df_train)\n",
    "colnames(mi_df) = 'Mutual_Information'\n",
    "\n",
    "for (i in 1:length(df_train)){\n",
    "    a = mutinformation(df_train[ ,i], master_encoded$damage_grade)\n",
    "    mi_df[i, 1] = a\n",
    "    mi_df <- arrange(mi_df, desc(Mutual_Information))\n",
    "    \n",
    "}\n",
    "\n",
    "# results\n",
    "head(mi_df)"
   ]
  },
  {
   "attachments": {},
   "cell_type": "markdown",
   "metadata": {},
   "source": [
    "## 2. Model Selection\n",
    "In this section we are going to train different models taking into account different sets of features, with the aim to select the best options to tackle our problem. In particular, considering the ranking previously created, we are going to add one feature each time and which model perform the best.\n",
    "\n",
    "The 3 models that we are going to use, from the simplest to the most complex, are:\n",
    "1. decision tree\n",
    "2. random forest\n",
    "3. neural network\n",
    "\n",
    "Given the huge dimension of the dataset, we are going to assess the quality of the models by means of a classic train-validation split, since cross-validation would be computationally too expensive."
   ]
  },
  {
   "cell_type": "code",
   "execution_count": 13,
   "metadata": {
    "vscode": {
     "languageId": "r"
    }
   },
   "outputs": [
    {
     "data": {
      "text/html": [
       "<table class=\"dataframe\">\n",
       "<caption>A data.frame: 6 × 100</caption>\n",
       "<thead>\n",
       "\t<tr><th></th><th scope=col>building_id</th><th scope=col>geo_level_2_id</th><th scope=col>geo_level_3_id</th><th scope=col>count_floors_pre_eq</th><th scope=col>age</th><th scope=col>area_percentage</th><th scope=col>height_percentage</th><th scope=col>has_superstructure_adobe_mud</th><th scope=col>has_superstructure_mud_mortar_stone</th><th scope=col>has_superstructure_stone_flag</th><th scope=col>...</th><th scope=col>geo_level_1_id_5</th><th scope=col>geo_level_1_id_15</th><th scope=col>geo_level_1_id_14</th><th scope=col>geo_level_1_id_19</th><th scope=col>geo_level_1_id_1</th><th scope=col>geo_level_1_id_24</th><th scope=col>geo_level_1_id_28</th><th scope=col>geo_level_1_id_23</th><th scope=col>geo_level_1_id_2</th><th scope=col>geo_level_1_id_29</th></tr>\n",
       "\t<tr><th></th><th scope=col>&lt;int&gt;</th><th scope=col>&lt;int&gt;</th><th scope=col>&lt;int&gt;</th><th scope=col>&lt;int&gt;</th><th scope=col>&lt;int&gt;</th><th scope=col>&lt;int&gt;</th><th scope=col>&lt;int&gt;</th><th scope=col>&lt;int&gt;</th><th scope=col>&lt;int&gt;</th><th scope=col>&lt;int&gt;</th><th scope=col>...</th><th scope=col>&lt;int&gt;</th><th scope=col>&lt;int&gt;</th><th scope=col>&lt;int&gt;</th><th scope=col>&lt;int&gt;</th><th scope=col>&lt;int&gt;</th><th scope=col>&lt;int&gt;</th><th scope=col>&lt;int&gt;</th><th scope=col>&lt;int&gt;</th><th scope=col>&lt;int&gt;</th><th scope=col>&lt;int&gt;</th></tr>\n",
       "</thead>\n",
       "<tbody>\n",
       "\t<tr><th scope=row>182735</th><td> 23555</td><td> 749</td><td>11087</td><td>2</td><td>10</td><td>12</td><td>5</td><td>0</td><td>1</td><td>0</td><td>...</td><td>0</td><td>0</td><td>0</td><td>0</td><td>0</td><td>0</td><td>0</td><td>0</td><td>0</td><td>0</td></tr>\n",
       "\t<tr><th scope=row>188942</th><td>848406</td><td> 996</td><td> 7719</td><td>3</td><td>50</td><td> 7</td><td>6</td><td>0</td><td>1</td><td>0</td><td>...</td><td>0</td><td>0</td><td>0</td><td>0</td><td>0</td><td>0</td><td>0</td><td>0</td><td>0</td><td>0</td></tr>\n",
       "\t<tr><th scope=row>134058</th><td>562045</td><td>1411</td><td>12035</td><td>2</td><td>10</td><td>22</td><td>7</td><td>0</td><td>0</td><td>0</td><td>...</td><td>0</td><td>0</td><td>0</td><td>0</td><td>0</td><td>0</td><td>0</td><td>0</td><td>0</td><td>0</td></tr>\n",
       "\t<tr><th scope=row>124022</th><td>491150</td><td> 349</td><td> 5322</td><td>2</td><td>80</td><td> 9</td><td>5</td><td>0</td><td>1</td><td>0</td><td>...</td><td>0</td><td>0</td><td>0</td><td>0</td><td>0</td><td>0</td><td>0</td><td>0</td><td>0</td><td>0</td></tr>\n",
       "\t<tr><th scope=row>160997</th><td> 12219</td><td> 463</td><td> 4692</td><td>2</td><td>20</td><td>10</td><td>4</td><td>0</td><td>1</td><td>0</td><td>...</td><td>0</td><td>0</td><td>0</td><td>0</td><td>0</td><td>0</td><td>0</td><td>0</td><td>0</td><td>0</td></tr>\n",
       "\t<tr><th scope=row>226318</th><td>880155</td><td>1050</td><td>11785</td><td>2</td><td> 0</td><td> 6</td><td>5</td><td>0</td><td>0</td><td>0</td><td>...</td><td>0</td><td>0</td><td>0</td><td>0</td><td>0</td><td>0</td><td>0</td><td>0</td><td>0</td><td>0</td></tr>\n",
       "</tbody>\n",
       "</table>\n"
      ],
      "text/latex": [
       "A data.frame: 6 × 100\n",
       "\\begin{tabular}{r|lllllllllllllllllllll}\n",
       "  & building\\_id & geo\\_level\\_2\\_id & geo\\_level\\_3\\_id & count\\_floors\\_pre\\_eq & age & area\\_percentage & height\\_percentage & has\\_superstructure\\_adobe\\_mud & has\\_superstructure\\_mud\\_mortar\\_stone & has\\_superstructure\\_stone\\_flag & ... & geo\\_level\\_1\\_id\\_5 & geo\\_level\\_1\\_id\\_15 & geo\\_level\\_1\\_id\\_14 & geo\\_level\\_1\\_id\\_19 & geo\\_level\\_1\\_id\\_1 & geo\\_level\\_1\\_id\\_24 & geo\\_level\\_1\\_id\\_28 & geo\\_level\\_1\\_id\\_23 & geo\\_level\\_1\\_id\\_2 & geo\\_level\\_1\\_id\\_29\\\\\n",
       "  & <int> & <int> & <int> & <int> & <int> & <int> & <int> & <int> & <int> & <int> & ... & <int> & <int> & <int> & <int> & <int> & <int> & <int> & <int> & <int> & <int>\\\\\n",
       "\\hline\n",
       "\t182735 &  23555 &  749 & 11087 & 2 & 10 & 12 & 5 & 0 & 1 & 0 & ... & 0 & 0 & 0 & 0 & 0 & 0 & 0 & 0 & 0 & 0\\\\\n",
       "\t188942 & 848406 &  996 &  7719 & 3 & 50 &  7 & 6 & 0 & 1 & 0 & ... & 0 & 0 & 0 & 0 & 0 & 0 & 0 & 0 & 0 & 0\\\\\n",
       "\t134058 & 562045 & 1411 & 12035 & 2 & 10 & 22 & 7 & 0 & 0 & 0 & ... & 0 & 0 & 0 & 0 & 0 & 0 & 0 & 0 & 0 & 0\\\\\n",
       "\t124022 & 491150 &  349 &  5322 & 2 & 80 &  9 & 5 & 0 & 1 & 0 & ... & 0 & 0 & 0 & 0 & 0 & 0 & 0 & 0 & 0 & 0\\\\\n",
       "\t160997 &  12219 &  463 &  4692 & 2 & 20 & 10 & 4 & 0 & 1 & 0 & ... & 0 & 0 & 0 & 0 & 0 & 0 & 0 & 0 & 0 & 0\\\\\n",
       "\t226318 & 880155 & 1050 & 11785 & 2 &  0 &  6 & 5 & 0 & 0 & 0 & ... & 0 & 0 & 0 & 0 & 0 & 0 & 0 & 0 & 0 & 0\\\\\n",
       "\\end{tabular}\n"
      ],
      "text/markdown": [
       "\n",
       "A data.frame: 6 × 100\n",
       "\n",
       "| <!--/--> | building_id &lt;int&gt; | geo_level_2_id &lt;int&gt; | geo_level_3_id &lt;int&gt; | count_floors_pre_eq &lt;int&gt; | age &lt;int&gt; | area_percentage &lt;int&gt; | height_percentage &lt;int&gt; | has_superstructure_adobe_mud &lt;int&gt; | has_superstructure_mud_mortar_stone &lt;int&gt; | has_superstructure_stone_flag &lt;int&gt; | ... ... | geo_level_1_id_5 &lt;int&gt; | geo_level_1_id_15 &lt;int&gt; | geo_level_1_id_14 &lt;int&gt; | geo_level_1_id_19 &lt;int&gt; | geo_level_1_id_1 &lt;int&gt; | geo_level_1_id_24 &lt;int&gt; | geo_level_1_id_28 &lt;int&gt; | geo_level_1_id_23 &lt;int&gt; | geo_level_1_id_2 &lt;int&gt; | geo_level_1_id_29 &lt;int&gt; |\n",
       "|---|---|---|---|---|---|---|---|---|---|---|---|---|---|---|---|---|---|---|---|---|---|\n",
       "| 182735 |  23555 |  749 | 11087 | 2 | 10 | 12 | 5 | 0 | 1 | 0 | ... | 0 | 0 | 0 | 0 | 0 | 0 | 0 | 0 | 0 | 0 |\n",
       "| 188942 | 848406 |  996 |  7719 | 3 | 50 |  7 | 6 | 0 | 1 | 0 | ... | 0 | 0 | 0 | 0 | 0 | 0 | 0 | 0 | 0 | 0 |\n",
       "| 134058 | 562045 | 1411 | 12035 | 2 | 10 | 22 | 7 | 0 | 0 | 0 | ... | 0 | 0 | 0 | 0 | 0 | 0 | 0 | 0 | 0 | 0 |\n",
       "| 124022 | 491150 |  349 |  5322 | 2 | 80 |  9 | 5 | 0 | 1 | 0 | ... | 0 | 0 | 0 | 0 | 0 | 0 | 0 | 0 | 0 | 0 |\n",
       "| 160997 |  12219 |  463 |  4692 | 2 | 20 | 10 | 4 | 0 | 1 | 0 | ... | 0 | 0 | 0 | 0 | 0 | 0 | 0 | 0 | 0 | 0 |\n",
       "| 226318 | 880155 | 1050 | 11785 | 2 |  0 |  6 | 5 | 0 | 0 | 0 | ... | 0 | 0 | 0 | 0 | 0 | 0 | 0 | 0 | 0 | 0 |\n",
       "\n"
      ],
      "text/plain": [
       "       building_id geo_level_2_id geo_level_3_id count_floors_pre_eq age\n",
       "182735  23555       749           11087          2                   10 \n",
       "188942 848406       996            7719          3                   50 \n",
       "134058 562045      1411           12035          2                   10 \n",
       "124022 491150       349            5322          2                   80 \n",
       "160997  12219       463            4692          2                   20 \n",
       "226318 880155      1050           11785          2                    0 \n",
       "       area_percentage height_percentage has_superstructure_adobe_mud\n",
       "182735 12              5                 0                           \n",
       "188942  7              6                 0                           \n",
       "134058 22              7                 0                           \n",
       "124022  9              5                 0                           \n",
       "160997 10              4                 0                           \n",
       "226318  6              5                 0                           \n",
       "       has_superstructure_mud_mortar_stone has_superstructure_stone_flag ...\n",
       "182735 1                                   0                             ...\n",
       "188942 1                                   0                             ...\n",
       "134058 0                                   0                             ...\n",
       "124022 1                                   0                             ...\n",
       "160997 1                                   0                             ...\n",
       "226318 0                                   0                             ...\n",
       "       geo_level_1_id_5 geo_level_1_id_15 geo_level_1_id_14 geo_level_1_id_19\n",
       "182735 0                0                 0                 0                \n",
       "188942 0                0                 0                 0                \n",
       "134058 0                0                 0                 0                \n",
       "124022 0                0                 0                 0                \n",
       "160997 0                0                 0                 0                \n",
       "226318 0                0                 0                 0                \n",
       "       geo_level_1_id_1 geo_level_1_id_24 geo_level_1_id_28 geo_level_1_id_23\n",
       "182735 0                0                 0                 0                \n",
       "188942 0                0                 0                 0                \n",
       "134058 0                0                 0                 0                \n",
       "124022 0                0                 0                 0                \n",
       "160997 0                0                 0                 0                \n",
       "226318 0                0                 0                 0                \n",
       "       geo_level_1_id_2 geo_level_1_id_29\n",
       "182735 0                0                \n",
       "188942 0                0                \n",
       "134058 0                0                \n",
       "124022 0                0                \n",
       "160997 0                0                \n",
       "226318 0                0                "
      ]
     },
     "metadata": {},
     "output_type": "display_data"
    },
    {
     "data": {
      "text/html": [
       "<style>\n",
       ".list-inline {list-style: none; margin:0; padding: 0}\n",
       ".list-inline>li {display: inline-block}\n",
       ".list-inline>li:not(:last-child)::after {content: \"\\00b7\"; padding: 0 .5ex}\n",
       "</style>\n",
       "<ol class=list-inline><li>5212</li><li>100</li></ol>\n"
      ],
      "text/latex": [
       "\\begin{enumerate*}\n",
       "\\item 5212\n",
       "\\item 100\n",
       "\\end{enumerate*}\n"
      ],
      "text/markdown": [
       "1. 5212\n",
       "2. 100\n",
       "\n",
       "\n"
      ],
      "text/plain": [
       "[1] 5212  100"
      ]
     },
     "metadata": {},
     "output_type": "display_data"
    },
    {
     "data": {
      "text/html": [
       "<table class=\"dataframe\">\n",
       "<caption>A data.frame: 6 × 100</caption>\n",
       "<thead>\n",
       "\t<tr><th></th><th scope=col>building_id</th><th scope=col>geo_level_2_id</th><th scope=col>geo_level_3_id</th><th scope=col>count_floors_pre_eq</th><th scope=col>age</th><th scope=col>area_percentage</th><th scope=col>height_percentage</th><th scope=col>has_superstructure_adobe_mud</th><th scope=col>has_superstructure_mud_mortar_stone</th><th scope=col>has_superstructure_stone_flag</th><th scope=col>...</th><th scope=col>geo_level_1_id_5</th><th scope=col>geo_level_1_id_15</th><th scope=col>geo_level_1_id_14</th><th scope=col>geo_level_1_id_19</th><th scope=col>geo_level_1_id_1</th><th scope=col>geo_level_1_id_24</th><th scope=col>geo_level_1_id_28</th><th scope=col>geo_level_1_id_23</th><th scope=col>geo_level_1_id_2</th><th scope=col>geo_level_1_id_29</th></tr>\n",
       "\t<tr><th></th><th scope=col>&lt;int&gt;</th><th scope=col>&lt;int&gt;</th><th scope=col>&lt;int&gt;</th><th scope=col>&lt;int&gt;</th><th scope=col>&lt;int&gt;</th><th scope=col>&lt;int&gt;</th><th scope=col>&lt;int&gt;</th><th scope=col>&lt;int&gt;</th><th scope=col>&lt;int&gt;</th><th scope=col>&lt;int&gt;</th><th scope=col>...</th><th scope=col>&lt;int&gt;</th><th scope=col>&lt;int&gt;</th><th scope=col>&lt;int&gt;</th><th scope=col>&lt;int&gt;</th><th scope=col>&lt;int&gt;</th><th scope=col>&lt;int&gt;</th><th scope=col>&lt;int&gt;</th><th scope=col>&lt;int&gt;</th><th scope=col>&lt;int&gt;</th><th scope=col>&lt;int&gt;</th></tr>\n",
       "</thead>\n",
       "<tbody>\n",
       "\t<tr><th scope=row>255637</th><td>298261</td><td> 852</td><td>5192</td><td>2</td><td>15</td><td>13</td><td> 7</td><td>1</td><td>1</td><td>0</td><td>...</td><td>0</td><td>0</td><td>0</td><td>0</td><td>0</td><td>0</td><td>0</td><td>0</td><td>0</td><td>0</td></tr>\n",
       "\t<tr><th scope=row>151058</th><td>476649</td><td>  30</td><td>7205</td><td>2</td><td>15</td><td> 9</td><td> 4</td><td>0</td><td>1</td><td>0</td><td>...</td><td>0</td><td>0</td><td>0</td><td>0</td><td>0</td><td>0</td><td>0</td><td>0</td><td>0</td><td>0</td></tr>\n",
       "\t<tr><th scope=row>51928</th><td>550727</td><td> 788</td><td>9253</td><td>2</td><td> 5</td><td> 6</td><td> 4</td><td>0</td><td>1</td><td>0</td><td>...</td><td>0</td><td>0</td><td>0</td><td>0</td><td>0</td><td>0</td><td>0</td><td>0</td><td>0</td><td>0</td></tr>\n",
       "\t<tr><th scope=row>96987</th><td> 75193</td><td> 765</td><td>3808</td><td>4</td><td>30</td><td>14</td><td>10</td><td>0</td><td>0</td><td>0</td><td>...</td><td>0</td><td>0</td><td>0</td><td>0</td><td>0</td><td>0</td><td>0</td><td>0</td><td>0</td><td>0</td></tr>\n",
       "\t<tr><th scope=row>256453</th><td>848527</td><td>1121</td><td>2723</td><td>3</td><td> 0</td><td> 8</td><td> 8</td><td>0</td><td>1</td><td>0</td><td>...</td><td>0</td><td>0</td><td>0</td><td>0</td><td>0</td><td>0</td><td>0</td><td>0</td><td>0</td><td>0</td></tr>\n",
       "\t<tr><th scope=row>19476</th><td>797425</td><td> 390</td><td> 600</td><td>4</td><td>90</td><td>16</td><td>10</td><td>1</td><td>0</td><td>0</td><td>...</td><td>0</td><td>0</td><td>0</td><td>0</td><td>0</td><td>0</td><td>0</td><td>0</td><td>0</td><td>0</td></tr>\n",
       "</tbody>\n",
       "</table>\n"
      ],
      "text/latex": [
       "A data.frame: 6 × 100\n",
       "\\begin{tabular}{r|lllllllllllllllllllll}\n",
       "  & building\\_id & geo\\_level\\_2\\_id & geo\\_level\\_3\\_id & count\\_floors\\_pre\\_eq & age & area\\_percentage & height\\_percentage & has\\_superstructure\\_adobe\\_mud & has\\_superstructure\\_mud\\_mortar\\_stone & has\\_superstructure\\_stone\\_flag & ... & geo\\_level\\_1\\_id\\_5 & geo\\_level\\_1\\_id\\_15 & geo\\_level\\_1\\_id\\_14 & geo\\_level\\_1\\_id\\_19 & geo\\_level\\_1\\_id\\_1 & geo\\_level\\_1\\_id\\_24 & geo\\_level\\_1\\_id\\_28 & geo\\_level\\_1\\_id\\_23 & geo\\_level\\_1\\_id\\_2 & geo\\_level\\_1\\_id\\_29\\\\\n",
       "  & <int> & <int> & <int> & <int> & <int> & <int> & <int> & <int> & <int> & <int> & ... & <int> & <int> & <int> & <int> & <int> & <int> & <int> & <int> & <int> & <int>\\\\\n",
       "\\hline\n",
       "\t255637 & 298261 &  852 & 5192 & 2 & 15 & 13 &  7 & 1 & 1 & 0 & ... & 0 & 0 & 0 & 0 & 0 & 0 & 0 & 0 & 0 & 0\\\\\n",
       "\t151058 & 476649 &   30 & 7205 & 2 & 15 &  9 &  4 & 0 & 1 & 0 & ... & 0 & 0 & 0 & 0 & 0 & 0 & 0 & 0 & 0 & 0\\\\\n",
       "\t51928 & 550727 &  788 & 9253 & 2 &  5 &  6 &  4 & 0 & 1 & 0 & ... & 0 & 0 & 0 & 0 & 0 & 0 & 0 & 0 & 0 & 0\\\\\n",
       "\t96987 &  75193 &  765 & 3808 & 4 & 30 & 14 & 10 & 0 & 0 & 0 & ... & 0 & 0 & 0 & 0 & 0 & 0 & 0 & 0 & 0 & 0\\\\\n",
       "\t256453 & 848527 & 1121 & 2723 & 3 &  0 &  8 &  8 & 0 & 1 & 0 & ... & 0 & 0 & 0 & 0 & 0 & 0 & 0 & 0 & 0 & 0\\\\\n",
       "\t19476 & 797425 &  390 &  600 & 4 & 90 & 16 & 10 & 1 & 0 & 0 & ... & 0 & 0 & 0 & 0 & 0 & 0 & 0 & 0 & 0 & 0\\\\\n",
       "\\end{tabular}\n"
      ],
      "text/markdown": [
       "\n",
       "A data.frame: 6 × 100\n",
       "\n",
       "| <!--/--> | building_id &lt;int&gt; | geo_level_2_id &lt;int&gt; | geo_level_3_id &lt;int&gt; | count_floors_pre_eq &lt;int&gt; | age &lt;int&gt; | area_percentage &lt;int&gt; | height_percentage &lt;int&gt; | has_superstructure_adobe_mud &lt;int&gt; | has_superstructure_mud_mortar_stone &lt;int&gt; | has_superstructure_stone_flag &lt;int&gt; | ... ... | geo_level_1_id_5 &lt;int&gt; | geo_level_1_id_15 &lt;int&gt; | geo_level_1_id_14 &lt;int&gt; | geo_level_1_id_19 &lt;int&gt; | geo_level_1_id_1 &lt;int&gt; | geo_level_1_id_24 &lt;int&gt; | geo_level_1_id_28 &lt;int&gt; | geo_level_1_id_23 &lt;int&gt; | geo_level_1_id_2 &lt;int&gt; | geo_level_1_id_29 &lt;int&gt; |\n",
       "|---|---|---|---|---|---|---|---|---|---|---|---|---|---|---|---|---|---|---|---|---|---|\n",
       "| 255637 | 298261 |  852 | 5192 | 2 | 15 | 13 |  7 | 1 | 1 | 0 | ... | 0 | 0 | 0 | 0 | 0 | 0 | 0 | 0 | 0 | 0 |\n",
       "| 151058 | 476649 |   30 | 7205 | 2 | 15 |  9 |  4 | 0 | 1 | 0 | ... | 0 | 0 | 0 | 0 | 0 | 0 | 0 | 0 | 0 | 0 |\n",
       "| 51928 | 550727 |  788 | 9253 | 2 |  5 |  6 |  4 | 0 | 1 | 0 | ... | 0 | 0 | 0 | 0 | 0 | 0 | 0 | 0 | 0 | 0 |\n",
       "| 96987 |  75193 |  765 | 3808 | 4 | 30 | 14 | 10 | 0 | 0 | 0 | ... | 0 | 0 | 0 | 0 | 0 | 0 | 0 | 0 | 0 | 0 |\n",
       "| 256453 | 848527 | 1121 | 2723 | 3 |  0 |  8 |  8 | 0 | 1 | 0 | ... | 0 | 0 | 0 | 0 | 0 | 0 | 0 | 0 | 0 | 0 |\n",
       "| 19476 | 797425 |  390 |  600 | 4 | 90 | 16 | 10 | 1 | 0 | 0 | ... | 0 | 0 | 0 | 0 | 0 | 0 | 0 | 0 | 0 | 0 |\n",
       "\n"
      ],
      "text/plain": [
       "       building_id geo_level_2_id geo_level_3_id count_floors_pre_eq age\n",
       "255637 298261       852           5192           2                   15 \n",
       "151058 476649        30           7205           2                   15 \n",
       "51928  550727       788           9253           2                    5 \n",
       "96987   75193       765           3808           4                   30 \n",
       "256453 848527      1121           2723           3                    0 \n",
       "19476  797425       390            600           4                   90 \n",
       "       area_percentage height_percentage has_superstructure_adobe_mud\n",
       "255637 13               7                1                           \n",
       "151058  9               4                0                           \n",
       "51928   6               4                0                           \n",
       "96987  14              10                0                           \n",
       "256453  8               8                0                           \n",
       "19476  16              10                1                           \n",
       "       has_superstructure_mud_mortar_stone has_superstructure_stone_flag ...\n",
       "255637 1                                   0                             ...\n",
       "151058 1                                   0                             ...\n",
       "51928  1                                   0                             ...\n",
       "96987  0                                   0                             ...\n",
       "256453 1                                   0                             ...\n",
       "19476  0                                   0                             ...\n",
       "       geo_level_1_id_5 geo_level_1_id_15 geo_level_1_id_14 geo_level_1_id_19\n",
       "255637 0                0                 0                 0                \n",
       "151058 0                0                 0                 0                \n",
       "51928  0                0                 0                 0                \n",
       "96987  0                0                 0                 0                \n",
       "256453 0                0                 0                 0                \n",
       "19476  0                0                 0                 0                \n",
       "       geo_level_1_id_1 geo_level_1_id_24 geo_level_1_id_28 geo_level_1_id_23\n",
       "255637 0                0                 0                 0                \n",
       "151058 0                0                 0                 0                \n",
       "51928  0                0                 0                 0                \n",
       "96987  0                0                 0                 0                \n",
       "256453 0                0                 0                 0                \n",
       "19476  0                0                 0                 0                \n",
       "       geo_level_1_id_2 geo_level_1_id_29\n",
       "255637 0                0                \n",
       "151058 0                0                \n",
       "51928  0                0                \n",
       "96987  0                0                \n",
       "256453 0                0                \n",
       "19476  0                0                "
      ]
     },
     "metadata": {},
     "output_type": "display_data"
    },
    {
     "data": {
      "text/html": [
       "<style>\n",
       ".list-inline {list-style: none; margin:0; padding: 0}\n",
       ".list-inline>li {display: inline-block}\n",
       ".list-inline>li:not(:last-child)::after {content: \"\\00b7\"; padding: 0 .5ex}\n",
       "</style>\n",
       "<ol class=list-inline><li>255389</li><li>100</li></ol>\n"
      ],
      "text/latex": [
       "\\begin{enumerate*}\n",
       "\\item 255389\n",
       "\\item 100\n",
       "\\end{enumerate*}\n"
      ],
      "text/markdown": [
       "1. 255389\n",
       "2. 100\n",
       "\n",
       "\n"
      ],
      "text/plain": [
       "[1] 255389    100"
      ]
     },
     "metadata": {},
     "output_type": "display_data"
    }
   ],
   "source": [
    "# Train-Test split\n",
    "train_prop = 0.02 # around 5000 observations\n",
    "\n",
    "# calculate the number of rows to use for training\n",
    "train_size <- round(nrow(master_encoded) * train_prop)\n",
    "\n",
    "# Shuffle the rows of the dataset\n",
    "set.seed(123)\n",
    "data_shuffled <- master_encoded[sample(nrow(master_encoded)),]\n",
    "\n",
    "# Split the shuffled data into training and test sets\n",
    "train_data <- data_shuffled[1:train_size,]\n",
    "test_data <- data_shuffled[(train_size+1):nrow(data_shuffled),]\n",
    "\n",
    "# results\n",
    "head(train_data)\n",
    "dim(train_data)\n",
    "head(test_data)\n",
    "dim(test_data)\n",
    "\n"
   ]
  },
  {
   "cell_type": "code",
   "execution_count": 14,
   "metadata": {
    "vscode": {
     "languageId": "r"
    }
   },
   "outputs": [
    {
     "data": {
      "text/plain": [
       "\n",
       "        1         2         3 \n",
       "0.6860969 0.1162661 0.1976369 "
      ]
     },
     "metadata": {},
     "output_type": "display_data"
    }
   ],
   "source": [
    "# weigth to deal with unbalancedness in the random forest algorithm\n",
    "class_frequencies <- table(trainset$damage_grade)\n",
    "class_weights <- 1 / class_frequencies\n",
    "classwt <- class_weights / sum(class_weights)\n",
    "classwt"
   ]
  },
  {
   "attachments": {},
   "cell_type": "markdown",
   "metadata": {},
   "source": [
    "<strong>CORE TRAINING AND TESTING FUNCTION</strong>"
   ]
  },
  {
   "cell_type": "code",
   "execution_count": 25,
   "metadata": {
    "vscode": {
     "languageId": "r"
    }
   },
   "outputs": [],
   "source": [
    "feature_sel = function(max_n, model){\n",
    "    max_n_features = max_n\n",
    "    my_index <- which(colnames(train_data) == \"damage_grade\")\n",
    "    names = rownames(mi_df)\n",
    "\n",
    "    # create the dataframe\n",
    "    indexes_features = c()\n",
    "    performance_df = data.frame(matrix(nrow = max_n_features, ncol = 2))\n",
    "    colnames(performance_df) = c('train_perf', 'test_perf')\n",
    "    rownames(performance_df) = 1:max_n_features\n",
    "\n",
    "    for (i in 1:max_n_features){\n",
    "        n = which(colnames(train_data) == names[i])\n",
    "        indexes_features[i] = n\n",
    "        train = train_data[ ,indexes_features]\n",
    "        test = test_data[ ,indexes_features]\n",
    "        train$damage_grade = as.factor(as.character(train_data$damage_grade))\n",
    "        test$damage_grade = as.factor(as.character(test_data$damage_grade))\n",
    "        \n",
    "        if (i >= 2){\n",
    "            if (model == 'dec_tree'){\n",
    "                # Train a decision tree model on the training data\n",
    "                tree_model <- rpart(damage_grade ~ ., data = train)\n",
    "\n",
    "                # Predict the labels for the training and test sets\n",
    "                train_pred <- predict(tree_model, train, type = \"class\")\n",
    "                test_pred <- predict(tree_model, test_data, type = \"class\")\n",
    "\n",
    "                # Calculate the accuracy of the model on the training and test sets\n",
    "                train_acc <- F1_Score_micro(train$damage_grade, train_pred)\n",
    "                test_acc <- F1_Score_micro(test$damage_grade, test_pred)\n",
    "\n",
    "                # store the results\n",
    "                performance_df[i, 1] = train_acc\n",
    "                performance_df[i, 2] = test_acc \n",
    "            }\n",
    "            if (model == 'rand_for'){\n",
    "                # Train a decision tree model on the training data\n",
    "                rf_model <- randomForest(damage_grade ~ ., data = train, ntree = 100, classwt=classwt)\n",
    "\n",
    "                # Predict the labels for the training and test sets\n",
    "                train_pred <- predict(rf_model, newdata = train[ ,1:i])\n",
    "                test_pred <- predict(rf_model, newdata = test)\n",
    "\n",
    "                # Calculate the accuracy of the model on the training and test sets\n",
    "                train_acc = F1_Score_micro(train$damage_grade, train_pred)\n",
    "                test_acc = F1_Score_micro(test$damage_grade, test_pred)\n",
    "\n",
    "                # store the results\n",
    "                performance_df[i, 1] = train_acc\n",
    "                performance_df[i, 2] = test_acc \n",
    "            }\n",
    "            if (model == 'grad_boosting'){\n",
    "                # Train gradient boosting gradient boosting\n",
    "                gbm_model <- gbm(damage_grade ~ ., data = train, distribution = \"multinomial\", n.trees = 100, interaction.depth = 3, shrinkage = 0.1)\n",
    "\n",
    "                # Accuracy \n",
    "                pred1 = predict.gbm(object = gbm_model,\n",
    "                                newdata = train,\n",
    "                                n.trees = 100,           \n",
    "                                type = \"response\")\n",
    "\n",
    "                pred2 = predict.gbm(object = gbm_model,\n",
    "                                newdata = test,\n",
    "                                n.trees = 100,           \n",
    "                                type = \"response\")\n",
    "\n",
    "                labels1 = colnames(pred1)[apply(pred1, 1, which.max)]\n",
    "                labels2 = colnames(pred2)[apply(pred2, 1, which.max)]\n",
    "\n",
    "                result1 = data.frame(train_data$building_id, labels1)\n",
    "                result2 = data.frame(test_data$building_id, labels2)\n",
    "\n",
    "                train_acc <- F1_Score_micro(train$damage_grade, result1$labels1)\n",
    "                test_acc <- F1_Score_micro(test$damage_grade, result2$labels2)\n",
    "\n",
    "                # store the results\n",
    "                performance_df[i, 1] = train_acc\n",
    "                performance_df[i, 2] = test_acc \n",
    "            }\n",
    "        }\n",
    "    }\n",
    "    head(performance_df)\n",
    "    plot(performance_df$train_perf, type='l', col=1)\n",
    "    lines(rownames(performance_df), performance_df$test_perf, col=\"#e40b0b\",lty=2)\n",
    "}"
   ]
  },
  {
   "attachments": {},
   "cell_type": "markdown",
   "metadata": {},
   "source": [
    "### 2.1 Decision Tree"
   ]
  },
  {
   "cell_type": "code",
   "execution_count": 24,
   "metadata": {
    "vscode": {
     "languageId": "r"
    }
   },
   "outputs": [
    {
     "name": "stderr",
     "output_type": "stream",
     "text": [
      "Warning message in train$damage_grade <- as.factor(as.character(train_data$damage_grade)):\n",
      "\"Trasformo il membro di sinistra in una lista\"\n",
      "Warning message in test$damage_grade <- as.factor(as.character(test_data$damage_grade)):\n",
      "\"Trasformo il membro di sinistra in una lista\"\n"
     ]
    },
    {
     "data": {
      "image/png": "[encoded data removed]",
      "text/plain": [
       "plot without title"
      ]
     },
     "metadata": {
      "image/png": {
       "height": 420,
       "width": 420
      }
     },
     "output_type": "display_data"
    }
   ],
   "source": [
    "feature_sel(40, 'dec_tree')"
   ]
  },
  {
   "attachments": {},
   "cell_type": "markdown",
   "metadata": {},
   "source": [
    "### 2.2 Random Forest"
   ]
  },
  {
   "cell_type": "code",
   "execution_count": 26,
   "metadata": {
    "vscode": {
     "languageId": "r"
    }
   },
   "outputs": [
    {
     "name": "stderr",
     "output_type": "stream",
     "text": [
      "Warning message in train$damage_grade <- as.factor(as.character(train_data$damage_grade)):\n",
      "\"Trasformo il membro di sinistra in una lista\"\n",
      "Warning message in test$damage_grade <- as.factor(as.character(test_data$damage_grade)):\n",
      "\"Trasformo il membro di sinistra in una lista\"\n"
     ]
    },
    {
     "data": {
      "image/png": "[encoded data removed]",
      "text/plain": [
       "plot without title"
      ]
     },
     "metadata": {
      "image/png": {
       "height": 420,
       "width": 420
      }
     },
     "output_type": "display_data"
    }
   ],
   "source": [
    "feature_sel(40, 'rand_for')"
   ]
  },
  {
   "attachments": {},
   "cell_type": "markdown",
   "metadata": {},
   "source": [
    "### 2.3 Neural Network \n"
   ]
  },
  {
   "attachments": {},
   "cell_type": "markdown",
   "metadata": {},
   "source": [
    "## 3. Extra Learning Procedure: Gradient Boosting"
   ]
  },
  {
   "cell_type": "code",
   "execution_count": 21,
   "metadata": {
    "vscode": {
     "languageId": "r"
    }
   },
   "outputs": [
    {
     "name": "stderr",
     "output_type": "stream",
     "text": [
      "Warning message in train$damage_grade <- as.factor(as.character(train_data$damage_grade)):\n",
      "\"Trasformo il membro di sinistra in una lista\"\n",
      "Warning message in test$damage_grade <- as.factor(as.character(test_data$damage_grade)):\n",
      "\"Trasformo il membro di sinistra in una lista\"\n",
      "Warning message:\n",
      "\"Setting `distribution = \"multinomial\"` is ill-advised as it is currently broken. It exists only for backwards compatibility. Use at your own risk.\"\n",
      "Warning message:\n",
      "\"Setting `distribution = \"multinomial\"` is ill-advised as it is currently broken. It exists only for backwards compatibility. Use at your own risk.\"\n",
      "Warning message:\n",
      "\"Setting `distribution = \"multinomial\"` is ill-advised as it is currently broken. It exists only for backwards compatibility. Use at your own risk.\"\n",
      "Warning message:\n",
      "\"Setting `distribution = \"multinomial\"` is ill-advised as it is currently broken. It exists only for backwards compatibility. Use at your own risk.\"\n",
      "Warning message:\n",
      "\"Setting `distribution = \"multinomial\"` is ill-advised as it is currently broken. It exists only for backwards compatibility. Use at your own risk.\"\n",
      "Warning message:\n",
      "\"Setting `distribution = \"multinomial\"` is ill-advised as it is currently broken. It exists only for backwards compatibility. Use at your own risk.\"\n",
      "Warning message:\n",
      "\"Setting `distribution = \"multinomial\"` is ill-advised as it is currently broken. It exists only for backwards compatibility. Use at your own risk.\"\n",
      "Warning message:\n",
      "\"Setting `distribution = \"multinomial\"` is ill-advised as it is currently broken. It exists only for backwards compatibility. Use at your own risk.\"\n",
      "Warning message:\n",
      "\"Setting `distribution = \"multinomial\"` is ill-advised as it is currently broken. It exists only for backwards compatibility. Use at your own risk.\"\n",
      "Warning message:\n",
      "\"Setting `distribution = \"multinomial\"` is ill-advised as it is currently broken. It exists only for backwards compatibility. Use at your own risk.\"\n",
      "Warning message:\n",
      "\"Setting `distribution = \"multinomial\"` is ill-advised as it is currently broken. It exists only for backwards compatibility. Use at your own risk.\"\n",
      "Warning message:\n",
      "\"Setting `distribution = \"multinomial\"` is ill-advised as it is currently broken. It exists only for backwards compatibility. Use at your own risk.\"\n",
      "Warning message:\n",
      "\"Setting `distribution = \"multinomial\"` is ill-advised as it is currently broken. It exists only for backwards compatibility. Use at your own risk.\"\n",
      "Warning message:\n",
      "\"Setting `distribution = \"multinomial\"` is ill-advised as it is currently broken. It exists only for backwards compatibility. Use at your own risk.\"\n",
      "Warning message:\n",
      "\"Setting `distribution = \"multinomial\"` is ill-advised as it is currently broken. It exists only for backwards compatibility. Use at your own risk.\"\n",
      "Warning message:\n",
      "\"Setting `distribution = \"multinomial\"` is ill-advised as it is currently broken. It exists only for backwards compatibility. Use at your own risk.\"\n",
      "Warning message:\n",
      "\"Setting `distribution = \"multinomial\"` is ill-advised as it is currently broken. It exists only for backwards compatibility. Use at your own risk.\"\n",
      "Warning message:\n",
      "\"Setting `distribution = \"multinomial\"` is ill-advised as it is currently broken. It exists only for backwards compatibility. Use at your own risk.\"\n",
      "Warning message:\n",
      "\"Setting `distribution = \"multinomial\"` is ill-advised as it is currently broken. It exists only for backwards compatibility. Use at your own risk.\"\n",
      "Warning message:\n",
      "\"Setting `distribution = \"multinomial\"` is ill-advised as it is currently broken. It exists only for backwards compatibility. Use at your own risk.\"\n",
      "Warning message:\n",
      "\"Setting `distribution = \"multinomial\"` is ill-advised as it is currently broken. It exists only for backwards compatibility. Use at your own risk.\"\n",
      "Warning message:\n",
      "\"Setting `distribution = \"multinomial\"` is ill-advised as it is currently broken. It exists only for backwards compatibility. Use at your own risk.\"\n",
      "Warning message:\n",
      "\"Setting `distribution = \"multinomial\"` is ill-advised as it is currently broken. It exists only for backwards compatibility. Use at your own risk.\"\n",
      "Warning message:\n",
      "\"Setting `distribution = \"multinomial\"` is ill-advised as it is currently broken. It exists only for backwards compatibility. Use at your own risk.\"\n",
      "Warning message:\n",
      "\"Setting `distribution = \"multinomial\"` is ill-advised as it is currently broken. It exists only for backwards compatibility. Use at your own risk.\"\n",
      "Warning message:\n",
      "\"Setting `distribution = \"multinomial\"` is ill-advised as it is currently broken. It exists only for backwards compatibility. Use at your own risk.\"\n",
      "Warning message:\n",
      "\"Setting `distribution = \"multinomial\"` is ill-advised as it is currently broken. It exists only for backwards compatibility. Use at your own risk.\"\n",
      "Warning message:\n",
      "\"Setting `distribution = \"multinomial\"` is ill-advised as it is currently broken. It exists only for backwards compatibility. Use at your own risk.\"\n",
      "Warning message:\n",
      "\"Setting `distribution = \"multinomial\"` is ill-advised as it is currently broken. It exists only for backwards compatibility. Use at your own risk.\"\n",
      "Warning message:\n",
      "\"Setting `distribution = \"multinomial\"` is ill-advised as it is currently broken. It exists only for backwards compatibility. Use at your own risk.\"\n",
      "Warning message:\n",
      "\"Setting `distribution = \"multinomial\"` is ill-advised as it is currently broken. It exists only for backwards compatibility. Use at your own risk.\"\n",
      "Warning message:\n",
      "\"Setting `distribution = \"multinomial\"` is ill-advised as it is currently broken. It exists only for backwards compatibility. Use at your own risk.\"\n",
      "Warning message:\n",
      "\"Setting `distribution = \"multinomial\"` is ill-advised as it is currently broken. It exists only for backwards compatibility. Use at your own risk.\"\n",
      "Warning message:\n",
      "\"Setting `distribution = \"multinomial\"` is ill-advised as it is currently broken. It exists only for backwards compatibility. Use at your own risk.\"\n",
      "Warning message:\n",
      "\"Setting `distribution = \"multinomial\"` is ill-advised as it is currently broken. It exists only for backwards compatibility. Use at your own risk.\"\n",
      "Warning message:\n",
      "\"Setting `distribution = \"multinomial\"` is ill-advised as it is currently broken. It exists only for backwards compatibility. Use at your own risk.\"\n",
      "Warning message:\n",
      "\"Setting `distribution = \"multinomial\"` is ill-advised as it is currently broken. It exists only for backwards compatibility. Use at your own risk.\"\n",
      "Warning message:\n",
      "\"Setting `distribution = \"multinomial\"` is ill-advised as it is currently broken. It exists only for backwards compatibility. Use at your own risk.\"\n",
      "Warning message:\n",
      "\"Setting `distribution = \"multinomial\"` is ill-advised as it is currently broken. It exists only for backwards compatibility. Use at your own risk.\"\n"
     ]
    },
    {
     "data": {
      "image/png": "[encoded data removed]",
      "text/plain": [
       "plot without title"
      ]
     },
     "metadata": {
      "image/png": {
       "height": 420,
       "width": 420
      }
     },
     "output_type": "display_data"
    }
   ],
   "source": [
    "feature_sel(40, 'grad_boosting')"
   ]
  },
  {
   "attachments": {},
   "cell_type": "markdown",
   "metadata": {},
   "source": [
    "## 4. Feature Relevance"
   ]
  },
  {
   "cell_type": "code",
   "execution_count": 56,
   "metadata": {
    "vscode": {
     "languageId": "r"
    }
   },
   "outputs": [
    {
     "data": {
      "text/html": [
       "<table class=\"dataframe\">\n",
       "<caption>A data.frame: 10 × 1</caption>\n",
       "<thead>\n",
       "\t<tr><th></th><th scope=col>Index</th></tr>\n",
       "\t<tr><th></th><th scope=col>&lt;dbl&gt;</th></tr>\n",
       "</thead>\n",
       "<tbody>\n",
       "\t<tr><th scope=row>ground_floor_type_f</th><td> 1.259569e-04</td></tr>\n",
       "\t<tr><th scope=row>ground_floor_type_v</th><td> 7.593709e-05</td></tr>\n",
       "\t<tr><th scope=row>has_superstructure_cement_mortar_brick</th><td> 5.003892e-05</td></tr>\n",
       "\t<tr><th scope=row>geo_level_1_id_17</th><td> 4.258418e-05</td></tr>\n",
       "\t<tr><th scope=row>foundation_type_r</th><td> 2.590580e-05</td></tr>\n",
       "\t<tr><th scope=row>roof_type_x</th><td>-9.227524e-06</td></tr>\n",
       "\t<tr><th scope=row>foundation_type_i</th><td>-1.668220e-05</td></tr>\n",
       "\t<tr><th scope=row>has_superstructure_mud_mortar_stone</th><td>-2.591099e-05</td></tr>\n",
       "\t<tr><th scope=row>age</th><td>-4.082052e-05</td></tr>\n",
       "\t<tr><th scope=row>geo_level_1_id_26</th><td>-8.342383e-05</td></tr>\n",
       "</tbody>\n",
       "</table>\n"
      ],
      "text/latex": [
       "A data.frame: 10 × 1\n",
       "\\begin{tabular}{r|l}\n",
       "  & Index\\\\\n",
       "  & <dbl>\\\\\n",
       "\\hline\n",
       "\tground\\_floor\\_type\\_f &  1.259569e-04\\\\\n",
       "\tground\\_floor\\_type\\_v &  7.593709e-05\\\\\n",
       "\thas\\_superstructure\\_cement\\_mortar\\_brick &  5.003892e-05\\\\\n",
       "\tgeo\\_level\\_1\\_id\\_17 &  4.258418e-05\\\\\n",
       "\tfoundation\\_type\\_r &  2.590580e-05\\\\\n",
       "\troof\\_type\\_x & -9.227524e-06\\\\\n",
       "\tfoundation\\_type\\_i & -1.668220e-05\\\\\n",
       "\thas\\_superstructure\\_mud\\_mortar\\_stone & -2.591099e-05\\\\\n",
       "\tage & -4.082052e-05\\\\\n",
       "\tgeo\\_level\\_1\\_id\\_26 & -8.342383e-05\\\\\n",
       "\\end{tabular}\n"
      ],
      "text/markdown": [
       "\n",
       "A data.frame: 10 × 1\n",
       "\n",
       "| <!--/--> | Index &lt;dbl&gt; |\n",
       "|---|---|\n",
       "| ground_floor_type_f |  1.259569e-04 |\n",
       "| ground_floor_type_v |  7.593709e-05 |\n",
       "| has_superstructure_cement_mortar_brick |  5.003892e-05 |\n",
       "| geo_level_1_id_17 |  4.258418e-05 |\n",
       "| foundation_type_r |  2.590580e-05 |\n",
       "| roof_type_x | -9.227524e-06 |\n",
       "| foundation_type_i | -1.668220e-05 |\n",
       "| has_superstructure_mud_mortar_stone | -2.591099e-05 |\n",
       "| age | -4.082052e-05 |\n",
       "| geo_level_1_id_26 | -8.342383e-05 |\n",
       "\n"
      ],
      "text/plain": [
       "                                       Index        \n",
       "ground_floor_type_f                     1.259569e-04\n",
       "ground_floor_type_v                     7.593709e-05\n",
       "has_superstructure_cement_mortar_brick  5.003892e-05\n",
       "geo_level_1_id_17                       4.258418e-05\n",
       "foundation_type_r                       2.590580e-05\n",
       "roof_type_x                            -9.227524e-06\n",
       "foundation_type_i                      -1.668220e-05\n",
       "has_superstructure_mud_mortar_stone    -2.591099e-05\n",
       "age                                    -4.082052e-05\n",
       "geo_level_1_id_26                      -8.342383e-05"
      ]
     },
     "metadata": {},
     "output_type": "display_data"
    }
   ],
   "source": [
    "entropy = function(df){\n",
    "    # create the table of predictions with percentages\n",
    "    y = as.data.frame(table(df))\n",
    "    y$Freq = y$Freq / sum(y$Freq)\n",
    "\n",
    "    # add a column for computing P(y)*log(P(y))\n",
    "    y$ent = y$Freq*log(y$Freq)\n",
    "    y[is.na(y)] <- 0\n",
    "\n",
    "    # entropy\n",
    "    ent = -sum(y$ent)\n",
    "    ent\n",
    "}\n",
    "\n",
    "index_ranking = function(train_data, test_data, n_features){\n",
    "    # create a dataframe for the ranking\n",
    "    ranking = data.frame(matrix(nrow = n_features, ncol = 1))\n",
    "    rownames(ranking) = rownames(mi_df)[1:n_features]\n",
    "    colnames(ranking) = 'Index'\n",
    "\n",
    "    # let's store the variable we use in a dataframe\n",
    "    df1 = train_data[rownames(mi_df)[1:n_features]]\n",
    "    damage_grade = as.factor(as.character(train_data$damage_grade))\n",
    "    df2 = test_data[rownames(mi_df)[1:n_features]]\n",
    "\n",
    "    # train a full model\n",
    "    random_for <- randomForest(damage_grade ~ ., data = df1, classwt = classwt, ntree=200)\n",
    "    test_pred <- predict(random_for, df2, type='class') \n",
    "    entr_full = entropy(test_pred)\n",
    "\n",
    "    for (i in 1:ncol(df1)){\n",
    "        # remove the i-th feature\n",
    "        random_for2 <- randomForest(damage_grade ~ ., data = df1[, -i], classwt = classwt, ntree=200)\n",
    "        # Predict the labels for the test set\n",
    "        test_pred2 <- predict(random_for, df2, type='class') \n",
    "        # compute the entropy without the i-th \n",
    "        entr_not_full = entropy(test_pred2)\n",
    "        # index value\n",
    "        ind = entr_not_full - entr_full\n",
    "        # add in the ranking\n",
    "        feature = rownames(mi_df)[i]\n",
    "        ranking[i, 1] = ind\n",
    "    }\n",
    "    # see result\n",
    "    ranking\n",
    "    sorted_ranking <- arrange(ranking, desc(Index))\n",
    "    sorted_ranking\n",
    "\n",
    "}\n",
    "\n",
    "index_ranking(train_data, test_data, 10)\n"
   ]
  },
  {
   "attachments": {},
   "cell_type": "markdown",
   "metadata": {},
   "source": [
    "## 5. Submission"
   ]
  },
  {
   "cell_type": "code",
   "execution_count": 35,
   "metadata": {
    "vscode": {
     "languageId": "r"
    }
   },
   "outputs": [],
   "source": [
    "# let's store the variable we use in a dataframe\n",
    "#df1 = train_data[rownames(mi_df)[1:50]] \n",
    "#damage_grade = as.factor(as.character(train_data$damage_grade))\n",
    "#df2 = testset[rownames(mi_df)[1:50]]\n",
    "#damage_grade1 = train_data$damage_grade\n",
    "\n",
    "# Train gradient boosting gradient boosting\n",
    "#gbm_model <- gbm(damage_grade1 ~ ., data = df1, distribution = \"multinomial\", n.trees = 100, interaction.depth = 3, shrinkage = 0.1)\n",
    "\n",
    "# Prediction \n",
    "#pred = predict.gbm(object = gbm_model,\n",
    "                #newdata = df2,\n",
    "                #n.trees = 100,           \n",
    "                #type = \"response\")\n",
    "\n"
   ]
  },
  {
   "cell_type": "code",
   "execution_count": 34,
   "metadata": {
    "vscode": {
     "languageId": "r"
    }
   },
   "outputs": [],
   "source": [
    "#labels = colnames(pred2)[apply(pred, 1, which.max)]\n",
    "#test_pred = as.data.frame(labels)\n",
    "\n",
    "# submission formatting\n",
    "#submission = data.frame(testset$building_id, test_pred)\n",
    "#colnames(submission) = c('building_id', 'damage_grade')\n",
    "#head(submission)\n",
    "#dim(submission)\n",
    "\n",
    "# save csv\n",
    "#file_path <- \"C:/Users/yuria/Desktop/submission.csv\"\n",
    "#write.csv(submission, file=file_path, row.names = FALSE)"
   ]
  }
 ],
 "metadata": {
  "kernelspec": {
   "display_name": "R",
   "language": "R",
   "name": "ir"
  },
  "language_info": {
   "codemirror_mode": "r",
   "file_extension": ".r",
   "mimetype": "text/x-r-source",
   "name": "R",
   "pygments_lexer": "r",
   "version": "4.1.1"
  },
  "orig_nbformat": 4
 },
 "nbformat": 4,
 "nbformat_minor": 2
}
